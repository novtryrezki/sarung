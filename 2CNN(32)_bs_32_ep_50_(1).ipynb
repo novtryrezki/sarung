{
  "cells": [
    {
      "cell_type": "markdown",
      "metadata": {
        "id": "view-in-github",
        "colab_type": "text"
      },
      "source": [
        "<a href=\"https://colab.research.google.com/github/novtryrezki/sarung/blob/main/2CNN(32)_bs_32_ep_50_(1).ipynb\" target=\"_parent\"><img src=\"https://colab.research.google.com/assets/colab-badge.svg\" alt=\"Open In Colab\"/></a>"
      ]
    },
    {
      "cell_type": "code",
      "execution_count": 1,
      "metadata": {
        "id": "Gj0QELQHjUVZ"
      },
      "outputs": [],
      "source": [
        "import os\n",
        "import zipfile\n",
        "import random\n",
        "import shutil\n",
        "import numpy as np\n",
        "import tensorflow as tf\n",
        "import pandas as pd\n",
        "from google.colab import drive\n",
        "from sklearn.model_selection import train_test_split"
      ]
    },
    {
      "cell_type": "code",
      "execution_count": 2,
      "metadata": {
        "colab": {
          "base_uri": "https://localhost:8080/"
        },
        "id": "HXtZwYwdjXH4",
        "outputId": "41edf522-3d79-40fe-f75c-cfaa72368d03"
      },
      "outputs": [
        {
          "output_type": "stream",
          "name": "stdout",
          "text": [
            "Drive already mounted at /content/drive; to attempt to forcibly remount, call drive.mount(\"/content/drive\", force_remount=True).\n"
          ]
        }
      ],
      "source": [
        "# Melakukan mount pada Google Drive\n",
        "drive.mount('/content/drive')\n",
        "\n",
        "# Menentukan path file ZIP di Google Drive\n",
        "zip_path = '/content/drive/MyDrive/images.zip'\n",
        "\n",
        "# Membuat objek zip_ref\n",
        "zip_ref = zipfile.ZipFile(zip_path, 'r')\n",
        "\n",
        "# Mengekstrak file ZIP\n",
        "extract_path ='/content/images'\n",
        "zip_ref.extractall(extract_path)\n",
        "\n",
        "# Tutup objek zip_ref setelah selesai\n",
        "zip_ref.close()"
      ]
    },
    {
      "cell_type": "code",
      "execution_count": 3,
      "metadata": {
        "colab": {
          "base_uri": "https://localhost:8080/"
        },
        "id": "P9SpMwZxCMpv",
        "outputId": "5f1b74ea-6671-4fcf-b20d-6ecd1520504b"
      },
      "outputs": [
        {
          "output_type": "stream",
          "name": "stdout",
          "text": [
            "Daftar Angka pada Dataset Train yaitu :  ['angka 0', 'angka 1', 'angka 2', 'angka 3', 'angka 4', 'angka 5', 'angka 6', 'angka 7', 'angka 8', 'angka 9']\n",
            "Daftar Angka pada Dataset Test yaitu :  ['angka 0', 'angka 1', 'angka 2', 'angka 3', 'angka 4', 'angka 5', 'angka 6', 'angka 7', 'angka 8', 'angka 9']\n"
          ]
        }
      ],
      "source": [
        "# Mendefinisikan path direktori dataset\n",
        "dataset_dir = os.path.join(extract_path, 'images')\n",
        "train_dir = os.path.join(dataset_dir, 'train')\n",
        "test_dir = os.path.join(dataset_dir, 'test')\n",
        "list_train = sorted(os.listdir(train_dir))\n",
        "list_test = sorted(os.listdir(test_dir))\n",
        "\n",
        "print(\"Daftar Angka pada Dataset Train yaitu : \", list_train)\n",
        "print(\"Daftar Angka pada Dataset Test yaitu : \", list_test)"
      ]
    },
    {
      "cell_type": "code",
      "execution_count": 4,
      "metadata": {
        "colab": {
          "base_uri": "https://localhost:8080/"
        },
        "id": "JycQg0kGCHHe",
        "outputId": "6db785bc-ac74-4b23-d8b7-0168de3fd436"
      },
      "outputs": [
        {
          "output_type": "stream",
          "name": "stdout",
          "text": [
            "Jumlah gambar di Dataset Train: 1763\n",
            "Jumlah gambar di Dataset Test: 445\n"
          ]
        }
      ],
      "source": [
        "def count_images(directory):\n",
        "    return sum(1 for file in os.listdir(directory) if file.endswith(('.jpg', '.jpeg', '.png', '.gif')))\n",
        "\n",
        "# Menghitung jumlah gambar di data train\n",
        "train_image_count = sum(count_images(os.path.join(train_dir, angka)) for angka in list_train)\n",
        "\n",
        "# Menghitung jumlah gambar di data test\n",
        "test_image_count = sum(count_images(os.path.join(test_dir, angka)) for angka in list_test)\n",
        "\n",
        "print(f\"Jumlah gambar di Dataset Train: {train_image_count}\")\n",
        "print(f\"Jumlah gambar di Dataset Test: {test_image_count}\")"
      ]
    },
    {
      "cell_type": "markdown",
      "metadata": {
        "id": "Cs-YBymEElj8"
      },
      "source": [
        "# Preprocessing"
      ]
    },
    {
      "cell_type": "code",
      "execution_count": 5,
      "metadata": {
        "id": "j-iPjxpXF_bf"
      },
      "outputs": [],
      "source": [
        "import cv2\n",
        "\n",
        "def resize_images(directory, target_resolution):\n",
        "    for angka in os.listdir(directory):\n",
        "        angka_dir = os.path.join(directory, angka)\n",
        "        for file_name in os.listdir(angka_dir):\n",
        "            file_path = os.path.join(angka_dir, file_name)\n",
        "            img = cv2.imread(file_path)\n",
        "            resized_img = cv2.resize(img, (target_resolution, target_resolution))\n",
        "            cv2.imwrite(file_path, resized_img)\n",
        "\n",
        "target_resolution = 32\n",
        "resize_images(train_dir, target_resolution)\n",
        "resize_images(test_dir, target_resolution)"
      ]
    },
    {
      "cell_type": "code",
      "execution_count": 6,
      "metadata": {
        "colab": {
          "base_uri": "https://localhost:8080/"
        },
        "id": "MrR6ROkiF9Uj",
        "outputId": "caf08a72-5d45-473d-ba8f-611c1b7b540b"
      },
      "outputs": [
        {
          "output_type": "stream",
          "name": "stdout",
          "text": [
            "Found 1763 images belonging to 10 classes.\n",
            "Found 445 images belonging to 10 classes.\n"
          ]
        }
      ],
      "source": [
        "from tensorflow.keras.preprocessing.image import ImageDataGenerator\n",
        "\n",
        "# Membuat generator data dengan augmentasi\n",
        "image_size = (32, 32)\n",
        "batch_size = 32\n",
        "\n",
        "train_datagen = ImageDataGenerator(\n",
        "    rescale = 1./255,\n",
        "    rotation_range = 90,\n",
        "    width_shift_range = 0.2,\n",
        "    height_shift_range = 0.2,\n",
        "    zoom_range = 0.2,\n",
        ")\n",
        "\n",
        "test_datagen = ImageDataGenerator(\n",
        "    rescale=1./255,\n",
        ")\n",
        "\n",
        "train_generator = train_datagen.flow_from_directory(\n",
        "    train_dir,\n",
        "    target_size=image_size,\n",
        "    batch_size=batch_size,\n",
        "    class_mode='categorical',\n",
        "    color_mode='grayscale'\n",
        ")\n",
        "\n",
        "test_generator = test_datagen.flow_from_directory(\n",
        "    test_dir,\n",
        "    target_size=image_size,\n",
        "    batch_size=batch_size,\n",
        "    class_mode='categorical',\n",
        "    color_mode='grayscale'\n",
        ")"
      ]
    },
    {
      "cell_type": "markdown",
      "metadata": {
        "id": "gPqE7ywQJ01c"
      },
      "source": [
        "# Membuat Model CNN"
      ]
    },
    {
      "cell_type": "code",
      "execution_count": 7,
      "metadata": {
        "id": "SvNzs3QB71R6"
      },
      "outputs": [],
      "source": [
        "from tensorflow.keras.models import Sequential\n",
        "from tensorflow.keras.layers import Conv2D, AveragePooling2D, Flatten, Dense\n",
        "import math\n",
        "\n",
        "img_size = 32*32*1\n",
        "\n",
        "# Perhitungan jumlah neuron pada lapisan tersembunyi\n",
        "r1 = (img_size/10) ** (1/2)\n",
        "r2 = (img_size/10)**(1/3)\n",
        "\n",
        "hidden_neurons1 = 10 * r1**(2)\n",
        "hidden_neurons2 = 10 * r2**(1)\n",
        "\n",
        "model2c = Sequential()\n",
        "model2c.add(Conv2D(32, (3, 3), input_shape=(32, 32, 1)))\n",
        "model2c.add(AveragePooling2D((2, 2)))\n",
        "model2c.add(Conv2D(64, (3, 3)))\n",
        "model2c.add(AveragePooling2D((2, 2)))\n",
        "model2c.add(Flatten())\n",
        "model2c.add(Dense(hidden_neurons1, activation='relu'))\n",
        "model2c.add(Dense(hidden_neurons2, activation='relu'))\n",
        "model2c.add(Dense(10, activation='softmax'))\n",
        "\n",
        "model2c.compile(optimizer='SGD', loss='categorical_crossentropy', metrics=['accuracy'])"
      ]
    },
    {
      "cell_type": "code",
      "execution_count": 8,
      "metadata": {
        "id": "RfHd4NJznjOh",
        "colab": {
          "base_uri": "https://localhost:8080/"
        },
        "outputId": "bcbc5b8c-f010-4d08-a85a-b86738f0f1c3"
      },
      "outputs": [
        {
          "output_type": "stream",
          "name": "stdout",
          "text": [
            "Model: \"sequential\"\n",
            "_________________________________________________________________\n",
            " Layer (type)                Output Shape              Param #   \n",
            "=================================================================\n",
            " conv2d (Conv2D)             (None, 30, 30, 32)        320       \n",
            "                                                                 \n",
            " average_pooling2d (Average  (None, 15, 15, 32)        0         \n",
            " Pooling2D)                                                      \n",
            "                                                                 \n",
            " conv2d_1 (Conv2D)           (None, 13, 13, 64)        18496     \n",
            "                                                                 \n",
            " average_pooling2d_1 (Avera  (None, 6, 6, 64)          0         \n",
            " gePooling2D)                                                    \n",
            "                                                                 \n",
            " flatten (Flatten)           (None, 2304)              0         \n",
            "                                                                 \n",
            " dense (Dense)               (None, 1024)              2360320   \n",
            "                                                                 \n",
            " dense_1 (Dense)             (None, 46)                47150     \n",
            "                                                                 \n",
            " dense_2 (Dense)             (None, 10)                470       \n",
            "                                                                 \n",
            "=================================================================\n",
            "Total params: 2426756 (9.26 MB)\n",
            "Trainable params: 2426756 (9.26 MB)\n",
            "Non-trainable params: 0 (0.00 Byte)\n",
            "_________________________________________________________________\n"
          ]
        }
      ],
      "source": [
        "model2c.summary()"
      ]
    },
    {
      "cell_type": "code",
      "execution_count": 9,
      "metadata": {
        "id": "I_Klj8ReYASB",
        "colab": {
          "base_uri": "https://localhost:8080/"
        },
        "outputId": "1fa3bb88-b081-4dfc-aea1-a3c49474fa27"
      },
      "outputs": [
        {
          "output_type": "stream",
          "name": "stdout",
          "text": [
            "Epoch 1/50\n",
            "56/56 [==============================] - 9s 137ms/step - loss: 2.0823 - accuracy: 0.2683\n",
            "Epoch 2/50\n",
            "56/56 [==============================] - 5s 87ms/step - loss: 2.0140 - accuracy: 0.3091\n",
            "Epoch 3/50\n",
            "56/56 [==============================] - 4s 72ms/step - loss: 2.0010 - accuracy: 0.3261\n",
            "Epoch 4/50\n",
            "56/56 [==============================] - 4s 63ms/step - loss: 1.9924 - accuracy: 0.3347\n",
            "Epoch 5/50\n",
            "56/56 [==============================] - 3s 61ms/step - loss: 1.9781 - accuracy: 0.3398\n",
            "Epoch 6/50\n",
            "56/56 [==============================] - 5s 91ms/step - loss: 1.9768 - accuracy: 0.3403\n",
            "Epoch 7/50\n",
            "56/56 [==============================] - 4s 63ms/step - loss: 1.9631 - accuracy: 0.3539\n",
            "Epoch 8/50\n",
            "56/56 [==============================] - 5s 93ms/step - loss: 1.9580 - accuracy: 0.3466\n",
            "Epoch 9/50\n",
            "56/56 [==============================] - 4s 62ms/step - loss: 1.9519 - accuracy: 0.3415\n",
            "Epoch 10/50\n",
            "56/56 [==============================] - 5s 88ms/step - loss: 1.9401 - accuracy: 0.3460\n",
            "Epoch 11/50\n",
            "56/56 [==============================] - 4s 62ms/step - loss: 1.9411 - accuracy: 0.3443\n",
            "Epoch 12/50\n",
            "56/56 [==============================] - 4s 63ms/step - loss: 1.9336 - accuracy: 0.3505\n",
            "Epoch 13/50\n",
            "56/56 [==============================] - 5s 85ms/step - loss: 1.9249 - accuracy: 0.3494\n",
            "Epoch 14/50\n",
            "56/56 [==============================] - 3s 61ms/step - loss: 1.9219 - accuracy: 0.3551\n",
            "Epoch 15/50\n",
            "56/56 [==============================] - 4s 62ms/step - loss: 1.9284 - accuracy: 0.3562\n",
            "Epoch 16/50\n",
            "56/56 [==============================] - 4s 67ms/step - loss: 1.9192 - accuracy: 0.3534\n",
            "Epoch 17/50\n",
            "56/56 [==============================] - 4s 67ms/step - loss: 1.9113 - accuracy: 0.3556\n",
            "Epoch 18/50\n",
            "56/56 [==============================] - 4s 62ms/step - loss: 1.8977 - accuracy: 0.3590\n",
            "Epoch 19/50\n",
            "56/56 [==============================] - 5s 91ms/step - loss: 1.9066 - accuracy: 0.3511\n",
            "Epoch 20/50\n",
            "56/56 [==============================] - 4s 62ms/step - loss: 1.8920 - accuracy: 0.3585\n",
            "Epoch 21/50\n",
            "56/56 [==============================] - 5s 92ms/step - loss: 1.9034 - accuracy: 0.3528\n",
            "Epoch 22/50\n",
            "56/56 [==============================] - 4s 64ms/step - loss: 1.8936 - accuracy: 0.3619\n",
            "Epoch 23/50\n",
            "56/56 [==============================] - 6s 101ms/step - loss: 1.8772 - accuracy: 0.3659\n",
            "Epoch 24/50\n",
            "56/56 [==============================] - 4s 63ms/step - loss: 1.8825 - accuracy: 0.3619\n",
            "Epoch 25/50\n",
            "56/56 [==============================] - 5s 90ms/step - loss: 1.8627 - accuracy: 0.3721\n",
            "Epoch 26/50\n",
            "56/56 [==============================] - 4s 63ms/step - loss: 1.8662 - accuracy: 0.3715\n",
            "Epoch 27/50\n",
            "56/56 [==============================] - 4s 64ms/step - loss: 1.8631 - accuracy: 0.3715\n",
            "Epoch 28/50\n",
            "56/56 [==============================] - 4s 78ms/step - loss: 1.8616 - accuracy: 0.3732\n",
            "Epoch 29/50\n",
            "56/56 [==============================] - 4s 65ms/step - loss: 1.8422 - accuracy: 0.3766\n",
            "Epoch 30/50\n",
            "56/56 [==============================] - 3s 61ms/step - loss: 1.8454 - accuracy: 0.3766\n",
            "Epoch 31/50\n",
            "56/56 [==============================] - 4s 64ms/step - loss: 1.8312 - accuracy: 0.3863\n",
            "Epoch 32/50\n",
            "56/56 [==============================] - 4s 65ms/step - loss: 1.8337 - accuracy: 0.3880\n",
            "Epoch 33/50\n",
            "56/56 [==============================] - 4s 62ms/step - loss: 1.8030 - accuracy: 0.3925\n",
            "Epoch 34/50\n",
            "56/56 [==============================] - 5s 80ms/step - loss: 1.8137 - accuracy: 0.3959\n",
            "Epoch 35/50\n",
            "56/56 [==============================] - 4s 63ms/step - loss: 1.8158 - accuracy: 0.3812\n",
            "Epoch 36/50\n",
            "56/56 [==============================] - 4s 62ms/step - loss: 1.7998 - accuracy: 0.3988\n",
            "Epoch 37/50\n",
            "56/56 [==============================] - 4s 68ms/step - loss: 1.7720 - accuracy: 0.4033\n",
            "Epoch 38/50\n",
            "56/56 [==============================] - 5s 86ms/step - loss: 1.7544 - accuracy: 0.4163\n",
            "Epoch 39/50\n",
            "56/56 [==============================] - 3s 62ms/step - loss: 1.7518 - accuracy: 0.4135\n",
            "Epoch 40/50\n",
            "56/56 [==============================] - 4s 64ms/step - loss: 1.7515 - accuracy: 0.4237\n",
            "Epoch 41/50\n",
            "56/56 [==============================] - 4s 67ms/step - loss: 1.7343 - accuracy: 0.4186\n",
            "Epoch 42/50\n",
            "56/56 [==============================] - 3s 62ms/step - loss: 1.7149 - accuracy: 0.4334\n",
            "Epoch 43/50\n",
            "56/56 [==============================] - 5s 92ms/step - loss: 1.7322 - accuracy: 0.4265\n",
            "Epoch 44/50\n",
            "56/56 [==============================] - 3s 60ms/step - loss: 1.7038 - accuracy: 0.4328\n",
            "Epoch 45/50\n",
            "56/56 [==============================] - 5s 87ms/step - loss: 1.6829 - accuracy: 0.4368\n",
            "Epoch 46/50\n",
            "56/56 [==============================] - 3s 61ms/step - loss: 1.6643 - accuracy: 0.4515\n",
            "Epoch 47/50\n",
            "56/56 [==============================] - 3s 62ms/step - loss: 1.6786 - accuracy: 0.4453\n",
            "Epoch 48/50\n",
            "56/56 [==============================] - 5s 88ms/step - loss: 1.6528 - accuracy: 0.4492\n",
            "Epoch 49/50\n",
            "56/56 [==============================] - 3s 60ms/step - loss: 1.6496 - accuracy: 0.4509\n",
            "Epoch 50/50\n",
            "56/56 [==============================] - 3s 61ms/step - loss: 1.6403 - accuracy: 0.4521\n"
          ]
        }
      ],
      "source": [
        "history = model2c.fit(train_generator, epochs=50, verbose = 1)"
      ]
    },
    {
      "cell_type": "markdown",
      "metadata": {
        "id": "6VOcIXg0IvCs"
      },
      "source": [
        "#Matriks Konfusi"
      ]
    },
    {
      "cell_type": "code",
      "execution_count": 14,
      "metadata": {
        "colab": {
          "base_uri": "https://localhost:8080/",
          "height": 617
        },
        "id": "Lz5lA0bDIxJg",
        "outputId": "08523d10-7697-473a-87df-283e916e719e"
      },
      "outputs": [
        {
          "output_type": "stream",
          "name": "stdout",
          "text": [
            "14/14 [==============================] - 1s 89ms/step\n"
          ]
        },
        {
          "output_type": "display_data",
          "data": {
            "text/plain": [
              "<Figure size 800x600 with 2 Axes>"
            ],
            "image/png": "[encoded data removed]"
          },
          "metadata": {}
        }
      ],
      "source": [
        "from sklearn.metrics import confusion_matrix, classification_report\n",
        "import seaborn as sns\n",
        "import matplotlib.pyplot as plt\n",
        "\n",
        "# Fungsi untuk mendapatkan prediksi model dan label sebenarnya\n",
        "def get_predictions_and_labels(model, data_generator):\n",
        "    predictions = model.predict(data_generator)\n",
        "    true_classes = data_generator.classes\n",
        "    return predictions, true_classes\n",
        "\n",
        "# Mendapatkan prediksi dan label sebenarnya untuk data uji\n",
        "y_pred_prob, y_true = get_predictions_and_labels(model2c, test_generator)\n",
        "\n",
        "# Membuat matriks konfusi\n",
        "cf_matrix = confusion_matrix(y_true, y_pred)\n",
        "\n",
        "# Membuat visualisasi matriks konfusi\n",
        "fig, ax = plt.subplots(figsize=(8, 6))\n",
        "sns.heatmap(cf_matrix, annot=True, fmt='g', cmap='Blues', ax=ax)\n",
        "\n",
        "# Menetapkan label dan judul\n",
        "ax.set_title('Confusion Matrix with labels')\n",
        "ax.set_xlabel('Predicted Values')\n",
        "ax.set_ylabel('Actual Values')\n",
        "\n",
        "class_labels = list(test_generator.class_indices.keys())\n",
        "\n",
        "# Menetapkan label pada sumbu x dan y sesuai dengan jenis kelas\n",
        "ax.xaxis.set_ticklabels(class_labels, rotation=45)\n",
        "ax.yaxis.set_ticklabels(class_labels, rotation=45)\n",
        "\n",
        "# Menampilkan visualisasi Matriks Konfusi\n",
        "plt.show()"
      ]
    },
    {
      "cell_type": "code",
      "execution_count": 15,
      "metadata": {
        "colab": {
          "base_uri": "https://localhost:8080/"
        },
        "id": "S7iwBJlGZEUM",
        "outputId": "fb4071ae-97fd-473f-b4ba-a4cf9d8669a1"
      },
      "outputs": [
        {
          "output_type": "stream",
          "name": "stdout",
          "text": [
            "AUC ROC Score: 0.5125092710497736\n",
            "Accuracy: 0.22696629213483147\n"
          ]
        }
      ],
      "source": [
        "from sklearn.metrics import roc_auc_score\n",
        "from sklearn.metrics import accuracy_score\n",
        "\n",
        "y_pred = np.argmax(y_pred_prob, axis=1)\n",
        "\n",
        "auc_roc_score = roc_auc_score(y_true, y_pred_prob, multi_class='ovr')\n",
        "print(f\"AUC ROC Score: {auc_roc_score}\")\n",
        "accuracy = accuracy_score(y_true, y_pred)\n",
        "print(f\"Accuracy: {accuracy}\")"
      ]
    }
  ],
  "metadata": {
    "colab": {
      "provenance": [],
      "include_colab_link": true
    },
    "kernelspec": {
      "display_name": "Python 3",
      "name": "python3"
    },
    "language_info": {
      "name": "python"
    }
  },
  "nbformat": 4,
  "nbformat_minor": 0
}