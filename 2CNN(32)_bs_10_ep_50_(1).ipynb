{
  "cells": [
    {
      "cell_type": "markdown",
      "metadata": {
        "id": "view-in-github",
        "colab_type": "text"
      },
      "source": [
        "<a href=\"https://colab.research.google.com/github/novtryrezki/sarung/blob/main/2CNN(32)_bs_10_ep_50_(1).ipynb\" target=\"_parent\"><img src=\"https://colab.research.google.com/assets/colab-badge.svg\" alt=\"Open In Colab\"/></a>"
      ]
    },
    {
      "cell_type": "code",
      "execution_count": 1,
      "metadata": {
        "id": "Gj0QELQHjUVZ"
      },
      "outputs": [],
      "source": [
        "import os\n",
        "import zipfile\n",
        "import random\n",
        "import shutil\n",
        "import numpy as np\n",
        "import tensorflow as tf\n",
        "import pandas as pd\n",
        "from google.colab import drive\n",
        "from sklearn.model_selection import train_test_split"
      ]
    },
    {
      "cell_type": "code",
      "execution_count": 2,
      "metadata": {
        "colab": {
          "base_uri": "https://localhost:8080/"
        },
        "id": "HXtZwYwdjXH4",
        "outputId": "8a869b6c-c289-482f-bce3-20d3cfc1ebf9"
      },
      "outputs": [
        {
          "output_type": "stream",
          "name": "stdout",
          "text": [
            "Mounted at /content/drive\n"
          ]
        }
      ],
      "source": [
        "# Melakukan mount pada Google Drive\n",
        "drive.mount('/content/drive')\n",
        "\n",
        "# Menentukan path file ZIP di Google Drive\n",
        "zip_path = '/content/drive/MyDrive/images.zip'\n",
        "\n",
        "# Membuat objek zip_ref\n",
        "zip_ref = zipfile.ZipFile(zip_path, 'r')\n",
        "\n",
        "# Mengekstrak file ZIP\n",
        "extract_path ='/content/images'\n",
        "zip_ref.extractall(extract_path)\n",
        "\n",
        "# Tutup objek zip_ref setelah selesai\n",
        "zip_ref.close()"
      ]
    },
    {
      "cell_type": "code",
      "execution_count": 3,
      "metadata": {
        "colab": {
          "base_uri": "https://localhost:8080/"
        },
        "id": "P9SpMwZxCMpv",
        "outputId": "07e48b43-3519-4527-b1b9-53650d61d634"
      },
      "outputs": [
        {
          "output_type": "stream",
          "name": "stdout",
          "text": [
            "Daftar Angka pada Dataset Train yaitu :  ['angka 0', 'angka 1', 'angka 2', 'angka 3', 'angka 4', 'angka 5', 'angka 6', 'angka 7', 'angka 8', 'angka 9']\n",
            "Daftar Angka pada Dataset Test yaitu :  ['angka 0', 'angka 1', 'angka 2', 'angka 3', 'angka 4', 'angka 5', 'angka 6', 'angka 7', 'angka 8', 'angka 9']\n"
          ]
        }
      ],
      "source": [
        "# Mendefinisikan path direktori dataset\n",
        "dataset_dir = os.path.join(extract_path, 'images')\n",
        "train_dir = os.path.join(dataset_dir, 'train')\n",
        "test_dir = os.path.join(dataset_dir, 'test')\n",
        "list_train = sorted(os.listdir(train_dir))\n",
        "list_test = sorted(os.listdir(test_dir))\n",
        "\n",
        "print(\"Daftar Angka pada Dataset Train yaitu : \", list_train)\n",
        "print(\"Daftar Angka pada Dataset Test yaitu : \", list_test)"
      ]
    },
    {
      "cell_type": "code",
      "execution_count": 4,
      "metadata": {
        "colab": {
          "base_uri": "https://localhost:8080/"
        },
        "id": "JycQg0kGCHHe",
        "outputId": "edf944fe-89e1-4347-c594-70e1d9f6d83e"
      },
      "outputs": [
        {
          "output_type": "stream",
          "name": "stdout",
          "text": [
            "Jumlah gambar di Dataset Train: 1763\n",
            "Jumlah gambar di Dataset Test: 445\n"
          ]
        }
      ],
      "source": [
        "def count_images(directory):\n",
        "    return sum(1 for file in os.listdir(directory) if file.endswith(('.jpg', '.jpeg', '.png', '.gif')))\n",
        "\n",
        "# Menghitung jumlah gambar di data train\n",
        "train_image_count = sum(count_images(os.path.join(train_dir, angka)) for angka in list_train)\n",
        "\n",
        "# Menghitung jumlah gambar di data test\n",
        "test_image_count = sum(count_images(os.path.join(test_dir, angka)) for angka in list_test)\n",
        "\n",
        "print(f\"Jumlah gambar di Dataset Train: {train_image_count}\")\n",
        "print(f\"Jumlah gambar di Dataset Test: {test_image_count}\")"
      ]
    },
    {
      "cell_type": "markdown",
      "metadata": {
        "id": "Cs-YBymEElj8"
      },
      "source": [
        "# Preprocessing"
      ]
    },
    {
      "cell_type": "code",
      "execution_count": 5,
      "metadata": {
        "id": "j-iPjxpXF_bf"
      },
      "outputs": [],
      "source": [
        "import cv2\n",
        "\n",
        "def resize_images(directory, target_resolution):\n",
        "    for angka in os.listdir(directory):\n",
        "        angka_dir = os.path.join(directory, angka)\n",
        "        for file_name in os.listdir(angka_dir):\n",
        "            file_path = os.path.join(angka_dir, file_name)\n",
        "            img = cv2.imread(file_path)\n",
        "            resized_img = cv2.resize(img, (target_resolution, target_resolution))\n",
        "            cv2.imwrite(file_path, resized_img)\n",
        "\n",
        "target_resolution = 32\n",
        "resize_images(train_dir, target_resolution)\n",
        "resize_images(test_dir, target_resolution)"
      ]
    },
    {
      "cell_type": "code",
      "execution_count": 6,
      "metadata": {
        "colab": {
          "base_uri": "https://localhost:8080/"
        },
        "id": "MrR6ROkiF9Uj",
        "outputId": "0f6d8ed2-a3ac-4f40-97b8-7bf9bc9155e3"
      },
      "outputs": [
        {
          "output_type": "stream",
          "name": "stdout",
          "text": [
            "Found 1763 images belonging to 10 classes.\n",
            "Found 445 images belonging to 10 classes.\n"
          ]
        }
      ],
      "source": [
        "from tensorflow.keras.preprocessing.image import ImageDataGenerator\n",
        "\n",
        "# Membuat generator data dengan augmentasi\n",
        "image_size = (32, 32)\n",
        "batch_size = 10\n",
        "\n",
        "train_datagen = ImageDataGenerator(\n",
        "    rescale = 1./255,\n",
        "    rotation_range = 90,\n",
        "    width_shift_range = 0.2,\n",
        "    height_shift_range = 0.2,\n",
        "    zoom_range = 0.2,\n",
        ")\n",
        "\n",
        "test_datagen = ImageDataGenerator(\n",
        "    rescale=1./255,\n",
        ")\n",
        "\n",
        "train_generator = train_datagen.flow_from_directory(\n",
        "    train_dir,\n",
        "    target_size=image_size,\n",
        "    batch_size=batch_size,\n",
        "    class_mode='categorical',\n",
        "    color_mode='grayscale'\n",
        ")\n",
        "\n",
        "test_generator = test_datagen.flow_from_directory(\n",
        "    test_dir,\n",
        "    target_size=image_size,\n",
        "    batch_size=batch_size,\n",
        "    class_mode='categorical',\n",
        "    color_mode='grayscale'\n",
        ")"
      ]
    },
    {
      "cell_type": "markdown",
      "metadata": {
        "id": "gPqE7ywQJ01c"
      },
      "source": [
        "# Membuat Model CNN"
      ]
    },
    {
      "cell_type": "code",
      "execution_count": 8,
      "metadata": {
        "id": "SvNzs3QB71R6"
      },
      "outputs": [],
      "source": [
        "from tensorflow.keras.models import Sequential\n",
        "from tensorflow.keras.layers import Conv2D, AveragePooling2D, Flatten, Dense\n",
        "import math\n",
        "\n",
        "img_size = 32*32*1\n",
        "\n",
        "# Perhitungan jumlah neuron pada lapisan tersembunyi\n",
        "r1 = (img_size/10) ** (1/2)\n",
        "r2 = (img_size/10)**(1/3)\n",
        "\n",
        "hidden_neurons1 = 10 * r1**(2)\n",
        "hidden_neurons2 = 10 * r2**(1)\n",
        "\n",
        "model2c = Sequential()\n",
        "model2c.add(Conv2D(32, (3, 3), input_shape=(32, 32, 1)))\n",
        "model2c.add(AveragePooling2D((2, 2)))\n",
        "model2c.add(Conv2D(64, (3, 3)))\n",
        "model2c.add(AveragePooling2D((2, 2)))\n",
        "model2c.add(Flatten())\n",
        "model2c.add(Dense(hidden_neurons1, activation='relu'))\n",
        "model2c.add(Dense(hidden_neurons2, activation='relu'))\n",
        "model2c.add(Dense(10, activation='softmax'))\n",
        "\n",
        "model2c.compile(optimizer='SGD', loss='categorical_crossentropy', metrics=['accuracy'])"
      ]
    },
    {
      "cell_type": "code",
      "execution_count": 9,
      "metadata": {
        "id": "RfHd4NJznjOh",
        "colab": {
          "base_uri": "https://localhost:8080/"
        },
        "outputId": "eb6813df-50a4-4cf2-fc7a-2298374ec331"
      },
      "outputs": [
        {
          "output_type": "stream",
          "name": "stdout",
          "text": [
            "Model: \"sequential_1\"\n",
            "_________________________________________________________________\n",
            " Layer (type)                Output Shape              Param #   \n",
            "=================================================================\n",
            " conv2d_2 (Conv2D)           (None, 30, 30, 32)        320       \n",
            "                                                                 \n",
            " average_pooling2d_2 (Avera  (None, 15, 15, 32)        0         \n",
            " gePooling2D)                                                    \n",
            "                                                                 \n",
            " conv2d_3 (Conv2D)           (None, 13, 13, 64)        18496     \n",
            "                                                                 \n",
            " average_pooling2d_3 (Avera  (None, 6, 6, 64)          0         \n",
            " gePooling2D)                                                    \n",
            "                                                                 \n",
            " flatten_1 (Flatten)         (None, 2304)              0         \n",
            "                                                                 \n",
            " dense_3 (Dense)             (None, 1024)              2360320   \n",
            "                                                                 \n",
            " dense_4 (Dense)             (None, 46)                47150     \n",
            "                                                                 \n",
            " dense_5 (Dense)             (None, 10)                470       \n",
            "                                                                 \n",
            "=================================================================\n",
            "Total params: 2426756 (9.26 MB)\n",
            "Trainable params: 2426756 (9.26 MB)\n",
            "Non-trainable params: 0 (0.00 Byte)\n",
            "_________________________________________________________________\n"
          ]
        }
      ],
      "source": [
        "model2c.summary()"
      ]
    },
    {
      "cell_type": "code",
      "execution_count": 10,
      "metadata": {
        "id": "I_Klj8ReYASB",
        "colab": {
          "base_uri": "https://localhost:8080/"
        },
        "outputId": "621f6511-fd04-4640-85d1-8bba4ad66382"
      },
      "outputs": [
        {
          "output_type": "stream",
          "name": "stdout",
          "text": [
            "Epoch 1/50\n",
            "177/177 [==============================] - 6s 31ms/step - loss: 2.0878 - accuracy: 0.2666\n",
            "Epoch 2/50\n",
            "177/177 [==============================] - 5s 30ms/step - loss: 2.0073 - accuracy: 0.3063\n",
            "Epoch 3/50\n",
            "177/177 [==============================] - 7s 38ms/step - loss: 1.9787 - accuracy: 0.3301\n",
            "Epoch 4/50\n",
            "177/177 [==============================] - 5s 29ms/step - loss: 1.9641 - accuracy: 0.3443\n",
            "Epoch 5/50\n",
            "177/177 [==============================] - 6s 31ms/step - loss: 1.9452 - accuracy: 0.3403\n",
            "Epoch 6/50\n",
            "177/177 [==============================] - 5s 30ms/step - loss: 1.9366 - accuracy: 0.3381\n",
            "Epoch 7/50\n",
            "177/177 [==============================] - 6s 33ms/step - loss: 1.9174 - accuracy: 0.3466\n",
            "Epoch 8/50\n",
            "177/177 [==============================] - 5s 30ms/step - loss: 1.8998 - accuracy: 0.3607\n",
            "Epoch 9/50\n",
            "177/177 [==============================] - 5s 30ms/step - loss: 1.8742 - accuracy: 0.3602\n",
            "Epoch 10/50\n",
            "177/177 [==============================] - 5s 30ms/step - loss: 1.8863 - accuracy: 0.3681\n",
            "Epoch 11/50\n",
            "177/177 [==============================] - 6s 35ms/step - loss: 1.8464 - accuracy: 0.3778\n",
            "Epoch 12/50\n",
            "177/177 [==============================] - 7s 39ms/step - loss: 1.8259 - accuracy: 0.3914\n",
            "Epoch 13/50\n",
            "177/177 [==============================] - 6s 31ms/step - loss: 1.7980 - accuracy: 0.3976\n",
            "Epoch 14/50\n",
            "177/177 [==============================] - 7s 37ms/step - loss: 1.7743 - accuracy: 0.4124\n",
            "Epoch 15/50\n",
            "177/177 [==============================] - 6s 36ms/step - loss: 1.7335 - accuracy: 0.4220\n",
            "Epoch 16/50\n",
            "177/177 [==============================] - 7s 38ms/step - loss: 1.7180 - accuracy: 0.4351\n",
            "Epoch 17/50\n",
            "177/177 [==============================] - 6s 32ms/step - loss: 1.6648 - accuracy: 0.4470\n",
            "Epoch 18/50\n",
            "177/177 [==============================] - 5s 30ms/step - loss: 1.6372 - accuracy: 0.4628\n",
            "Epoch 19/50\n",
            "177/177 [==============================] - 5s 30ms/step - loss: 1.5943 - accuracy: 0.4714\n",
            "Epoch 20/50\n",
            "177/177 [==============================] - 6s 31ms/step - loss: 1.5857 - accuracy: 0.4827\n",
            "Epoch 21/50\n",
            "177/177 [==============================] - 7s 40ms/step - loss: 1.5456 - accuracy: 0.4878\n",
            "Epoch 22/50\n",
            "177/177 [==============================] - 6s 33ms/step - loss: 1.5215 - accuracy: 0.5065\n",
            "Epoch 23/50\n",
            "177/177 [==============================] - 5s 29ms/step - loss: 1.4950 - accuracy: 0.5145\n",
            "Epoch 24/50\n",
            "177/177 [==============================] - 5s 30ms/step - loss: 1.4815 - accuracy: 0.5184\n",
            "Epoch 25/50\n",
            "177/177 [==============================] - 7s 38ms/step - loss: 1.4447 - accuracy: 0.5377\n",
            "Epoch 26/50\n",
            "177/177 [==============================] - 5s 30ms/step - loss: 1.4291 - accuracy: 0.5377\n",
            "Epoch 27/50\n",
            "177/177 [==============================] - 5s 30ms/step - loss: 1.4120 - accuracy: 0.5417\n",
            "Epoch 28/50\n",
            "177/177 [==============================] - 5s 30ms/step - loss: 1.3928 - accuracy: 0.5536\n",
            "Epoch 29/50\n",
            "177/177 [==============================] - 7s 39ms/step - loss: 1.3977 - accuracy: 0.5547\n",
            "Epoch 30/50\n",
            "177/177 [==============================] - 5s 30ms/step - loss: 1.3901 - accuracy: 0.5491\n",
            "Epoch 31/50\n",
            "177/177 [==============================] - 5s 31ms/step - loss: 1.3511 - accuracy: 0.5735\n",
            "Epoch 32/50\n",
            "177/177 [==============================] - 6s 34ms/step - loss: 1.3463 - accuracy: 0.5627\n",
            "Epoch 33/50\n",
            "177/177 [==============================] - 5s 30ms/step - loss: 1.3155 - accuracy: 0.5820\n",
            "Epoch 34/50\n",
            "177/177 [==============================] - 5s 31ms/step - loss: 1.3056 - accuracy: 0.5825\n",
            "Epoch 35/50\n",
            "177/177 [==============================] - 7s 39ms/step - loss: 1.2894 - accuracy: 0.5871\n",
            "Epoch 36/50\n",
            "177/177 [==============================] - 5s 31ms/step - loss: 1.2910 - accuracy: 0.5899\n",
            "Epoch 37/50\n",
            "177/177 [==============================] - 5s 31ms/step - loss: 1.2524 - accuracy: 0.5956\n",
            "Epoch 38/50\n",
            "177/177 [==============================] - 5s 30ms/step - loss: 1.2508 - accuracy: 0.6029\n",
            "Epoch 39/50\n",
            "177/177 [==============================] - 6s 34ms/step - loss: 1.2643 - accuracy: 0.6098\n",
            "Epoch 40/50\n",
            "177/177 [==============================] - 7s 39ms/step - loss: 1.2183 - accuracy: 0.6069\n",
            "Epoch 41/50\n",
            "177/177 [==============================] - 5s 30ms/step - loss: 1.2166 - accuracy: 0.6177\n",
            "Epoch 42/50\n",
            "177/177 [==============================] - 5s 30ms/step - loss: 1.1831 - accuracy: 0.6330\n",
            "Epoch 43/50\n",
            "177/177 [==============================] - 7s 39ms/step - loss: 1.2000 - accuracy: 0.6290\n",
            "Epoch 44/50\n",
            "177/177 [==============================] - 5s 30ms/step - loss: 1.1923 - accuracy: 0.6217\n",
            "Epoch 45/50\n",
            "177/177 [==============================] - 5s 30ms/step - loss: 1.1499 - accuracy: 0.6393\n",
            "Epoch 46/50\n",
            "177/177 [==============================] - 5s 31ms/step - loss: 1.1626 - accuracy: 0.6268\n",
            "Epoch 47/50\n",
            "177/177 [==============================] - 6s 35ms/step - loss: 1.1441 - accuracy: 0.6415\n",
            "Epoch 48/50\n",
            "177/177 [==============================] - 7s 39ms/step - loss: 1.1319 - accuracy: 0.6273\n",
            "Epoch 49/50\n",
            "177/177 [==============================] - 5s 30ms/step - loss: 1.1514 - accuracy: 0.6432\n",
            "Epoch 50/50\n",
            "177/177 [==============================] - 7s 40ms/step - loss: 1.1399 - accuracy: 0.6302\n"
          ]
        }
      ],
      "source": [
        "history = model2c.fit(train_generator, epochs=50, verbose = 1)"
      ]
    },
    {
      "cell_type": "markdown",
      "metadata": {
        "id": "6VOcIXg0IvCs"
      },
      "source": [
        "#Matriks Konfusi"
      ]
    },
    {
      "cell_type": "code",
      "execution_count": 35,
      "metadata": {
        "colab": {
          "base_uri": "https://localhost:8080/",
          "height": 617
        },
        "id": "Lz5lA0bDIxJg",
        "outputId": "9136fa31-0a12-47fd-9832-80f17b1168e4"
      },
      "outputs": [
        {
          "output_type": "stream",
          "name": "stdout",
          "text": [
            "45/45 [==============================] - 1s 16ms/step\n"
          ]
        },
        {
          "output_type": "display_data",
          "data": {
            "text/plain": [
              "<Figure size 800x600 with 2 Axes>"
            ],
            "image/png": "[encoded data removed]"
          },
          "metadata": {}
        }
      ],
      "source": [
        "from sklearn.metrics import confusion_matrix, classification_report\n",
        "import seaborn as sns\n",
        "import matplotlib.pyplot as plt\n",
        "\n",
        "# Fungsi untuk mendapatkan prediksi model dan label sebenarnya\n",
        "def get_predictions_and_labels(model, data_generator):\n",
        "    predictions = model.predict(data_generator)\n",
        "    true_classes = data_generator.classes\n",
        "    return predictions, true_classes\n",
        "\n",
        "# Mendapatkan prediksi dan label sebenarnya untuk data uji\n",
        "y_pred_prob, y_true = get_predictions_and_labels(model2c, test_generator)\n",
        "\n",
        "# Membuat matriks konfusi\n",
        "cf_matrix = confusion_matrix(y_true, y_pred)\n",
        "\n",
        "# Membuat visualisasi matriks konfusi\n",
        "fig, ax = plt.subplots(figsize=(8, 6))\n",
        "sns.heatmap(cf_matrix, annot=True, fmt='g', cmap='Blues', ax=ax)\n",
        "\n",
        "# Menetapkan label dan judul\n",
        "ax.set_title('Confusion Matrix with labels')\n",
        "ax.set_xlabel('Predicted Values')\n",
        "ax.set_ylabel('Actual Values')\n",
        "\n",
        "# Menetapkan label pada sumbu x dan y sesuai dengan jenis kelas\n",
        "ax.xaxis.set_ticklabels(class_labels, rotation=45)\n",
        "ax.yaxis.set_ticklabels(class_labels, rotation=45)\n",
        "\n",
        "# Menampilkan visualisasi Matriks Konfusi\n",
        "plt.show()"
      ]
    },
    {
      "cell_type": "code",
      "execution_count": 36,
      "metadata": {
        "colab": {
          "base_uri": "https://localhost:8080/"
        },
        "id": "S7iwBJlGZEUM",
        "outputId": "a257d79a-e118-4eab-ca46-60e5febb387c"
      },
      "outputs": [
        {
          "output_type": "stream",
          "name": "stdout",
          "text": [
            "AUC ROC Score: 0.5014498994085856\n",
            "Accuracy: 0.2\n"
          ]
        }
      ],
      "source": [
        "from sklearn.metrics import roc_auc_score\n",
        "from sklearn.metrics import accuracy_score\n",
        "\n",
        "y_pred = np.argmax(y_pred_prob, axis=1)\n",
        "\n",
        "auc_roc_score = roc_auc_score(y_true, y_pred_prob, multi_class='ovr')\n",
        "print(f\"AUC ROC Score: {auc_roc_score}\")\n",
        "accuracy = accuracy_score(y_true, y_pred)\n",
        "print(f\"Accuracy: {accuracy}\")"
      ]
    }
  ],
  "metadata": {
    "colab": {
      "provenance": [],
      "include_colab_link": true
    },
    "kernelspec": {
      "display_name": "Python 3",
      "name": "python3"
    },
    "language_info": {
      "name": "python"
    }
  },
  "nbformat": 4,
  "nbformat_minor": 0
}