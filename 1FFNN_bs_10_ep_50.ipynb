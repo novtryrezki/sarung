{
  "cells": [
    {
      "cell_type": "markdown",
      "metadata": {
        "id": "view-in-github",
        "colab_type": "text"
      },
      "source": [
        "<a href=\"https://colab.research.google.com/github/novtryrezki/sarung/blob/main/1FFNN_bs_10_ep_50.ipynb\" target=\"_parent\"><img src=\"https://colab.research.google.com/assets/colab-badge.svg\" alt=\"Open In Colab\"/></a>"
      ]
    },
    {
      "cell_type": "code",
      "execution_count": 2,
      "metadata": {
        "id": "Gj0QELQHjUVZ"
      },
      "outputs": [],
      "source": [
        "import os\n",
        "import zipfile\n",
        "import random\n",
        "import shutil\n",
        "import numpy as np\n",
        "import tensorflow as tf\n",
        "import pandas as pd\n",
        "from google.colab import drive\n",
        "from sklearn.model_selection import train_test_split"
      ]
    },
    {
      "cell_type": "code",
      "execution_count": 3,
      "metadata": {
        "colab": {
          "base_uri": "https://localhost:8080/"
        },
        "id": "HXtZwYwdjXH4",
        "outputId": "7901c146-07aa-48d4-d5d0-1cdc7228ef13"
      },
      "outputs": [
        {
          "output_type": "stream",
          "name": "stdout",
          "text": [
            "Mounted at /content/drive\n"
          ]
        }
      ],
      "source": [
        "# Melakukan mount pada Google Drive\n",
        "drive.mount('/content/drive')\n",
        "\n",
        "# Menentukan path file ZIP di Google Drive\n",
        "zip_path = '/content/drive/MyDrive/images.zip'\n",
        "\n",
        "# Membuat objek zip_ref\n",
        "zip_ref = zipfile.ZipFile(zip_path, 'r')\n",
        "\n",
        "# Mengekstrak file ZIP\n",
        "extract_path ='/content/images'\n",
        "zip_ref.extractall(extract_path)\n",
        "\n",
        "# Tutup objek zip_ref setelah selesai\n",
        "zip_ref.close()"
      ]
    },
    {
      "cell_type": "code",
      "execution_count": 4,
      "metadata": {
        "colab": {
          "base_uri": "https://localhost:8080/"
        },
        "id": "P9SpMwZxCMpv",
        "outputId": "3aa03b71-255c-408f-9b64-e37f3c16b23a"
      },
      "outputs": [
        {
          "output_type": "stream",
          "name": "stdout",
          "text": [
            "Daftar Angka pada Dataset Train yaitu :  ['angka 0', 'angka 1', 'angka 2', 'angka 3', 'angka 4', 'angka 5', 'angka 6', 'angka 7', 'angka 8', 'angka 9']\n",
            "Daftar Angka pada Dataset Test yaitu :  ['angka 0', 'angka 1', 'angka 2', 'angka 3', 'angka 4', 'angka 5', 'angka 6', 'angka 7', 'angka 8', 'angka 9']\n"
          ]
        }
      ],
      "source": [
        "# Mendefinisikan path direktori dataset\n",
        "dataset_dir = os.path.join(extract_path, 'images')\n",
        "train_dir = os.path.join(dataset_dir, 'train')\n",
        "test_dir = os.path.join(dataset_dir, 'test')\n",
        "list_train = sorted(os.listdir(train_dir))\n",
        "list_test = sorted(os.listdir(test_dir))\n",
        "\n",
        "print(\"Daftar Angka pada Dataset Train yaitu : \", list_train)\n",
        "print(\"Daftar Angka pada Dataset Test yaitu : \", list_test)"
      ]
    },
    {
      "cell_type": "code",
      "execution_count": 5,
      "metadata": {
        "colab": {
          "base_uri": "https://localhost:8080/"
        },
        "id": "JycQg0kGCHHe",
        "outputId": "77d26e4c-5243-4515-f037-006dd30083be"
      },
      "outputs": [
        {
          "output_type": "stream",
          "name": "stdout",
          "text": [
            "Jumlah gambar di Dataset Train: 1763\n",
            "Jumlah gambar di Dataset Test: 445\n"
          ]
        }
      ],
      "source": [
        "def count_images(directory):\n",
        "    return sum(1 for file in os.listdir(directory) if file.endswith(('.jpg', '.jpeg', '.png', '.gif')))\n",
        "\n",
        "# Menghitung jumlah gambar di data train\n",
        "train_image_count = sum(count_images(os.path.join(train_dir, angka)) for angka in list_train)\n",
        "\n",
        "# Menghitung jumlah gambar di data test\n",
        "test_image_count = sum(count_images(os.path.join(test_dir, angka)) for angka in list_test)\n",
        "\n",
        "print(f\"Jumlah gambar di Dataset Train: {train_image_count}\")\n",
        "print(f\"Jumlah gambar di Dataset Test: {test_image_count}\")"
      ]
    },
    {
      "cell_type": "markdown",
      "metadata": {
        "id": "Cs-YBymEElj8"
      },
      "source": [
        "# Preprocessing"
      ]
    },
    {
      "cell_type": "code",
      "execution_count": 6,
      "metadata": {
        "id": "j-iPjxpXF_bf"
      },
      "outputs": [],
      "source": [
        "import cv2\n",
        "\n",
        "def resize_images(directory, target_resolution):\n",
        "    for angka in os.listdir(directory):\n",
        "        angka_dir = os.path.join(directory, angka)\n",
        "        for file_name in os.listdir(angka_dir):\n",
        "            file_path = os.path.join(angka_dir, file_name)\n",
        "            img = cv2.imread(file_path)\n",
        "            resized_img = cv2.resize(img, (target_resolution, target_resolution))\n",
        "            cv2.imwrite(file_path, resized_img)\n",
        "\n",
        "target_resolution = 256\n",
        "resize_images(train_dir, target_resolution)\n",
        "resize_images(test_dir, target_resolution)"
      ]
    },
    {
      "cell_type": "code",
      "execution_count": 7,
      "metadata": {
        "colab": {
          "base_uri": "https://localhost:8080/"
        },
        "id": "MrR6ROkiF9Uj",
        "outputId": "30037e30-d85a-44d9-998a-4186ceb15af9"
      },
      "outputs": [
        {
          "output_type": "stream",
          "name": "stdout",
          "text": [
            "Found 1763 images belonging to 10 classes.\n",
            "Found 445 images belonging to 10 classes.\n"
          ]
        }
      ],
      "source": [
        "from tensorflow.keras.preprocessing.image import ImageDataGenerator\n",
        "\n",
        "# Membuat generator data dengan augmentasi\n",
        "image_size = (256, 256)\n",
        "batch_size = 10\n",
        "\n",
        "train_datagen = ImageDataGenerator(\n",
        "    rescale = 1./255,\n",
        "    rotation_range = 90,\n",
        "    width_shift_range = 0.2,\n",
        "    height_shift_range = 0.2,\n",
        "    zoom_range = 0.2,\n",
        ")\n",
        "\n",
        "test_datagen = ImageDataGenerator(\n",
        "    rescale=1./255,\n",
        ")\n",
        "\n",
        "train_generator = train_datagen.flow_from_directory(\n",
        "    train_dir,\n",
        "    target_size=image_size,\n",
        "    batch_size=batch_size,\n",
        "    class_mode='categorical',\n",
        "    color_mode='grayscale'\n",
        ")\n",
        "\n",
        "test_generator = test_datagen.flow_from_directory(\n",
        "    test_dir,\n",
        "    target_size=image_size,\n",
        "    batch_size=batch_size,\n",
        "    class_mode='categorical',\n",
        "    color_mode='grayscale'\n",
        ")"
      ]
    },
    {
      "cell_type": "markdown",
      "metadata": {
        "id": "gPqE7ywQJ01c"
      },
      "source": [
        "# Membuat Model CNN"
      ]
    },
    {
      "cell_type": "code",
      "execution_count": 8,
      "metadata": {
        "id": "SvNzs3QB71R6"
      },
      "outputs": [],
      "source": [
        "from tensorflow.keras.models import Sequential\n",
        "from tensorflow.keras.layers import Conv2D, AveragePooling2D, Flatten, Dense\n",
        "import math\n",
        "\n",
        "img_size = 256*256*1\n",
        "\n",
        "# Perhitungan jumlah neuron pada lapisan tersembunyi\n",
        "hidden_neurons = int(math.sqrt(img_size * batch_size))\n",
        "\n",
        "model1f = Sequential()\n",
        "model1f.add(Flatten(input_shape=(256, 256, 1)))\n",
        "model1f.add(Dense(hidden_neurons, activation='relu'))\n",
        "model1f.add(Dense(10, activation='softmax'))\n",
        "\n",
        "model1f.compile(optimizer='SGD', loss='categorical_crossentropy', metrics=['accuracy'])"
      ]
    },
    {
      "cell_type": "code",
      "execution_count": 9,
      "metadata": {
        "colab": {
          "base_uri": "https://localhost:8080/"
        },
        "id": "RfHd4NJznjOh",
        "outputId": "4384aba6-ff58-4c13-c39d-f45e6134c981"
      },
      "outputs": [
        {
          "output_type": "stream",
          "name": "stdout",
          "text": [
            "Model: \"sequential\"\n",
            "_________________________________________________________________\n",
            " Layer (type)                Output Shape              Param #   \n",
            "=================================================================\n",
            " flatten (Flatten)           (None, 65536)             0         \n",
            "                                                                 \n",
            " dense (Dense)               (None, 809)               53019433  \n",
            "                                                                 \n",
            " dense_1 (Dense)             (None, 10)                8100      \n",
            "                                                                 \n",
            "=================================================================\n",
            "Total params: 53027533 (202.28 MB)\n",
            "Trainable params: 53027533 (202.28 MB)\n",
            "Non-trainable params: 0 (0.00 Byte)\n",
            "_________________________________________________________________\n"
          ]
        }
      ],
      "source": [
        "model1f.summary()"
      ]
    },
    {
      "cell_type": "code",
      "execution_count": 10,
      "metadata": {
        "colab": {
          "base_uri": "https://localhost:8080/"
        },
        "id": "I_Klj8ReYASB",
        "outputId": "059017c9-2a73-456b-f9c0-569e24010b18"
      },
      "outputs": [
        {
          "output_type": "stream",
          "name": "stdout",
          "text": [
            "Epoch 1/50\n",
            "177/177 [==============================] - 79s 441ms/step - loss: 2.5708 - accuracy: 0.2524\n",
            "Epoch 2/50\n",
            "177/177 [==============================] - 74s 414ms/step - loss: 2.0845 - accuracy: 0.2677\n",
            "Epoch 3/50\n",
            "177/177 [==============================] - 77s 433ms/step - loss: 2.0895 - accuracy: 0.2643\n",
            "Epoch 4/50\n",
            "177/177 [==============================] - 74s 417ms/step - loss: 2.1030 - accuracy: 0.2757\n",
            "Epoch 5/50\n",
            "177/177 [==============================] - 75s 421ms/step - loss: 2.0655 - accuracy: 0.2785\n",
            "Epoch 6/50\n",
            "177/177 [==============================] - 91s 514ms/step - loss: 2.0540 - accuracy: 0.2808\n",
            "Epoch 7/50\n",
            "177/177 [==============================] - 75s 422ms/step - loss: 2.0650 - accuracy: 0.2768\n",
            "Epoch 8/50\n",
            "177/177 [==============================] - 77s 435ms/step - loss: 2.0357 - accuracy: 0.3035\n",
            "Epoch 9/50\n",
            "177/177 [==============================] - 75s 420ms/step - loss: 2.0399 - accuracy: 0.3193\n",
            "Epoch 10/50\n",
            "177/177 [==============================] - 77s 433ms/step - loss: 2.0595 - accuracy: 0.2978\n",
            "Epoch 11/50\n",
            "177/177 [==============================] - 77s 436ms/step - loss: 2.0258 - accuracy: 0.3358\n",
            "Epoch 12/50\n",
            "177/177 [==============================] - 75s 422ms/step - loss: 2.0074 - accuracy: 0.3318\n",
            "Epoch 13/50\n",
            "177/177 [==============================] - 76s 430ms/step - loss: 1.9969 - accuracy: 0.3415\n",
            "Epoch 14/50\n",
            "177/177 [==============================] - 88s 497ms/step - loss: 2.0137 - accuracy: 0.3239\n",
            "Epoch 15/50\n",
            "177/177 [==============================] - 75s 426ms/step - loss: 2.0015 - accuracy: 0.3199\n",
            "Epoch 16/50\n",
            "177/177 [==============================] - 76s 432ms/step - loss: 1.9808 - accuracy: 0.3432\n",
            "Epoch 17/50\n",
            "177/177 [==============================] - 73s 414ms/step - loss: 1.9969 - accuracy: 0.3239\n",
            "Epoch 18/50\n",
            "177/177 [==============================] - 77s 435ms/step - loss: 1.9905 - accuracy: 0.3352\n",
            "Epoch 19/50\n",
            "177/177 [==============================] - 77s 434ms/step - loss: 1.9865 - accuracy: 0.3165\n",
            "Epoch 20/50\n",
            "177/177 [==============================] - 76s 431ms/step - loss: 1.9762 - accuracy: 0.3409\n",
            "Epoch 21/50\n",
            "177/177 [==============================] - 75s 426ms/step - loss: 1.9784 - accuracy: 0.3296\n",
            "Epoch 22/50\n",
            "177/177 [==============================] - 76s 430ms/step - loss: 1.9756 - accuracy: 0.3534\n",
            "Epoch 23/50\n",
            "177/177 [==============================] - 76s 428ms/step - loss: 1.9731 - accuracy: 0.3335\n",
            "Epoch 24/50\n",
            "177/177 [==============================] - 74s 420ms/step - loss: 1.9682 - accuracy: 0.3437\n",
            "Epoch 25/50\n",
            "177/177 [==============================] - 77s 437ms/step - loss: 1.9697 - accuracy: 0.3398\n",
            "Epoch 26/50\n",
            "177/177 [==============================] - 74s 417ms/step - loss: 1.9673 - accuracy: 0.3279\n",
            "Epoch 27/50\n",
            "177/177 [==============================] - 76s 430ms/step - loss: 1.9585 - accuracy: 0.3432\n",
            "Epoch 28/50\n",
            "177/177 [==============================] - 76s 428ms/step - loss: 1.9689 - accuracy: 0.3244\n",
            "Epoch 29/50\n",
            "177/177 [==============================] - 74s 415ms/step - loss: 1.9702 - accuracy: 0.3250\n",
            "Epoch 30/50\n",
            "177/177 [==============================] - 76s 427ms/step - loss: 1.9510 - accuracy: 0.3392\n",
            "Epoch 31/50\n",
            "177/177 [==============================] - 74s 418ms/step - loss: 1.9723 - accuracy: 0.3108\n",
            "Epoch 32/50\n",
            "177/177 [==============================] - 76s 427ms/step - loss: 1.9670 - accuracy: 0.3137\n",
            "Epoch 33/50\n",
            "177/177 [==============================] - 74s 419ms/step - loss: 1.9731 - accuracy: 0.3052\n",
            "Epoch 34/50\n",
            "177/177 [==============================] - 76s 431ms/step - loss: 1.9703 - accuracy: 0.3239\n",
            "Epoch 35/50\n",
            "177/177 [==============================] - 74s 418ms/step - loss: 1.9485 - accuracy: 0.3330\n",
            "Epoch 36/50\n",
            "177/177 [==============================] - 74s 417ms/step - loss: 1.9700 - accuracy: 0.3222\n",
            "Epoch 37/50\n",
            "177/177 [==============================] - 76s 427ms/step - loss: 1.9606 - accuracy: 0.3313\n",
            "Epoch 38/50\n",
            "177/177 [==============================] - 74s 419ms/step - loss: 1.9607 - accuracy: 0.3182\n",
            "Epoch 39/50\n",
            "177/177 [==============================] - 78s 438ms/step - loss: 1.9596 - accuracy: 0.3227\n",
            "Epoch 40/50\n",
            "177/177 [==============================] - 75s 424ms/step - loss: 1.9637 - accuracy: 0.3239\n",
            "Epoch 41/50\n",
            "177/177 [==============================] - 77s 436ms/step - loss: 1.9567 - accuracy: 0.3188\n",
            "Epoch 42/50\n",
            "177/177 [==============================] - 77s 435ms/step - loss: 1.9704 - accuracy: 0.3182\n",
            "Epoch 43/50\n",
            "177/177 [==============================] - 78s 439ms/step - loss: 1.9566 - accuracy: 0.3358\n",
            "Epoch 44/50\n",
            "177/177 [==============================] - 78s 442ms/step - loss: 1.9744 - accuracy: 0.3086\n",
            "Epoch 45/50\n",
            "177/177 [==============================] - 76s 431ms/step - loss: 1.9600 - accuracy: 0.3261\n",
            "Epoch 46/50\n",
            "177/177 [==============================] - 76s 431ms/step - loss: 1.9711 - accuracy: 0.3159\n",
            "Epoch 47/50\n",
            "177/177 [==============================] - 74s 418ms/step - loss: 1.9448 - accuracy: 0.3352\n",
            "Epoch 48/50\n",
            "177/177 [==============================] - 77s 435ms/step - loss: 1.9540 - accuracy: 0.3341\n",
            "Epoch 49/50\n",
            "177/177 [==============================] - 76s 426ms/step - loss: 1.9443 - accuracy: 0.3335\n",
            "Epoch 50/50\n",
            "177/177 [==============================] - 77s 434ms/step - loss: 1.9495 - accuracy: 0.3352\n"
          ]
        }
      ],
      "source": [
        "history = model1f.fit(train_generator, epochs=50, verbose = 1)"
      ]
    },
    {
      "cell_type": "markdown",
      "metadata": {
        "id": "6VOcIXg0IvCs"
      },
      "source": [
        "#Matriks Konfusi"
      ]
    },
    {
      "cell_type": "code",
      "execution_count": 46,
      "metadata": {
        "colab": {
          "base_uri": "https://localhost:8080/",
          "height": 617
        },
        "id": "Lz5lA0bDIxJg",
        "outputId": "42fcc637-f9e2-4536-8148-b704d6371ae0"
      },
      "outputs": [
        {
          "output_type": "stream",
          "name": "stdout",
          "text": [
            "45/45 [==============================] - 7s 158ms/step\n"
          ]
        },
        {
          "output_type": "display_data",
          "data": {
            "text/plain": [
              "<Figure size 800x600 with 2 Axes>"
            ],
            "image/png": "[encoded data removed]"
          },
          "metadata": {}
        }
      ],
      "source": [
        "from sklearn.metrics import confusion_matrix, classification_report\n",
        "import seaborn as sns\n",
        "import matplotlib.pyplot as plt\n",
        "\n",
        "# Fungsi untuk mendapatkan prediksi model dan label sebenarnya\n",
        "def get_predictions_and_labels(model, data_generator):\n",
        "    predictions = model.predict(data_generator)\n",
        "    predicted_classes = np.argmax(predictions, axis=1)\n",
        "    true_classes = data_generator.classes\n",
        "    class_labels = list(data_generator.class_indices.keys())\n",
        "    return predicted_classes, true_classes, class_labels\n",
        "\n",
        "# Mendapatkan prediksi dan label sebenarnya untuk data uji\n",
        "y_pred, y_true, class_labels = get_predictions_and_labels(model1f, test_generator)\n",
        "\n",
        "# Membuat matriks konfusi\n",
        "cf_matrix = confusion_matrix(y_true, y_pred)\n",
        "\n",
        "# Membuat visualisasi matriks konfusi\n",
        "fig, ax = plt.subplots(figsize=(8, 6))\n",
        "sns.heatmap(cf_matrix, annot=True, fmt='g', cmap='Blues', ax=ax)\n",
        "\n",
        "# Menetapkan label dan judul\n",
        "ax.set_title('Confusion Matrix with labels')\n",
        "ax.set_xlabel('Predicted Values')\n",
        "ax.set_ylabel('Actual Values')\n",
        "\n",
        "# Menetapkan label pada sumbu x dan y sesuai dengan jenis kelas\n",
        "ax.xaxis.set_ticklabels(class_labels, rotation=45)\n",
        "ax.yaxis.set_ticklabels(class_labels, rotation=45)\n",
        "\n",
        "# Menampilkan visualisasi Matriks Konfusi\n",
        "plt.show()"
      ]
    },
    {
      "cell_type": "code",
      "execution_count": 47,
      "metadata": {
        "colab": {
          "base_uri": "https://localhost:8080/"
        },
        "id": "S7iwBJlGZEUM",
        "outputId": "da6c3e1c-cc69-4c7c-876b-4369f519aa4e"
      },
      "outputs": [
        {
          "output_type": "stream",
          "name": "stdout",
          "text": [
            "Test Accuracy: 0.23146067415730337\n"
          ]
        }
      ],
      "source": [
        "from sklearn.metrics import accuracy_score\n",
        "\n",
        "test_accuracy = accuracy_score(y_true, y_pred)\n",
        "print(f\"Test Accuracy: {test_accuracy}\")"
      ]
    }
  ],
  "metadata": {
    "colab": {
      "provenance": [],
      "include_colab_link": true
    },
    "kernelspec": {
      "display_name": "Python 3",
      "name": "python3"
    },
    "language_info": {
      "name": "python"
    }
  },
  "nbformat": 4,
  "nbformat_minor": 0
}