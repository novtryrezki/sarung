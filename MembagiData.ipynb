{
  "nbformat": 4,
  "nbformat_minor": 0,
  "metadata": {
    "colab": {
      "provenance": [],
      "authorship_tag": "ABX9TyOIIRga7EgXIS/FUxM3q7id",
      "include_colab_link": true
    },
    "kernelspec": {
      "name": "python3",
      "display_name": "Python 3"
    },
    "language_info": {
      "name": "python"
    }
  },
  "cells": [
    {
      "cell_type": "markdown",
      "metadata": {
        "id": "view-in-github",
        "colab_type": "text"
      },
      "source": [
        "<a href=\"https://colab.research.google.com/github/novtryrezki/sarung/blob/main/MembagiData.ipynb\" target=\"_parent\"><img src=\"https://colab.research.google.com/assets/colab-badge.svg\" alt=\"Open In Colab\"/></a>"
      ]
    },
    {
      "cell_type": "markdown",
      "source": [
        "# Import Library"
      ],
      "metadata": {
        "id": "A15OBzXyS6on"
      }
    },
    {
      "cell_type": "code",
      "execution_count": null,
      "metadata": {
        "id": "fII8FhayS4o3"
      },
      "outputs": [],
      "source": [
        "import os\n",
        "import zipfile\n",
        "import random\n",
        "import shutil\n",
        "import numpy as np\n",
        "import tensorflow as tf\n",
        "import pandas as pd\n",
        "from google.colab import drive\n",
        "from sklearn.model_selection import train_test_split"
      ]
    },
    {
      "cell_type": "markdown",
      "source": [
        "# Mount Google Drive dan Load Data"
      ],
      "metadata": {
        "id": "yJrM2MNXS-rS"
      }
    },
    {
      "cell_type": "code",
      "source": [
        "# Melakukan mount pada Google Drive\n",
        "drive.mount('/content/drive')\n",
        "\n",
        "# Membuat direktori jika belum ada\n",
        "os.makedirs('/content/images', exist_ok=True)\n",
        "\n",
        "# Menentukan path file ZIP di Google Drive\n",
        "zip_path = '/content/drive/MyDrive/Data.zip'\n",
        "\n",
        "# Membuat objek zip_ref\n",
        "zip_ref = zipfile.ZipFile(zip_path, 'r')\n",
        "\n",
        "# Mengekstrak file ZIP\n",
        "extract_path = '/content/images'\n",
        "zip_ref.extractall(extract_path)\n",
        "\n",
        "# Tutup objek zip_ref setelah selesai\n",
        "zip_ref.close()"
      ],
      "metadata": {
        "colab": {
          "base_uri": "https://localhost:8080/"
        },
        "id": "_wdo4hGuTCR9",
        "outputId": "18a102af-ebcc-4388-f54e-1dcad293a593"
      },
      "execution_count": null,
      "outputs": [
        {
          "output_type": "stream",
          "name": "stdout",
          "text": [
            "Mounted at /content/drive\n"
          ]
        }
      ]
    },
    {
      "cell_type": "code",
      "source": [
        "import os\n",
        "\n",
        "# Mendefinisikan path direktori dataset\n",
        "dataset_dir = '/content/images/Data'\n",
        "\n",
        "# Fungsi untuk memeriksa duplikat dalam folder tertentu\n",
        "def check_duplicates(folder_path):\n",
        "    print(f\"Memeriksa duplikat di {folder_path}\")\n",
        "\n",
        "    # Membuat list semua file dalam folder\n",
        "    all_files = []\n",
        "    for root, dirs, files in os.walk(folder_path):\n",
        "        all_files.extend(files)\n",
        "\n",
        "    # Menghitung jumlah file sebelum penghapusan duplikat\n",
        "    initial_file_count = len(all_files)\n",
        "\n",
        "    # Menghapus duplikat\n",
        "    unique_files = set(all_files)\n",
        "\n",
        "    # Menghitung jumlah file setelah penghapusan duplikat\n",
        "    final_file_count = len(unique_files)\n",
        "\n",
        "    # Cetak hasil\n",
        "    print(f\"Jumlah file sebelum penghapusan duplikat: {initial_file_count}\")\n",
        "    print(f\"Jumlah file setelah penghapusan duplikat: {final_file_count}\")\n",
        "\n",
        "    # Jika terdapat duplikat, tampilkan file yang duplikat\n",
        "    if initial_file_count > final_file_count:\n",
        "        duplicate_files = [file for file in all_files if all_files.count(file) > 1]\n",
        "        print(\"File duplikat:\")\n",
        "        print(duplicate_files)\n",
        "    else:\n",
        "        print(\"Tidak ada duplikat.\")\n",
        "\n",
        "# Memeriksa duplikat untuk setiap folder di dalam dataset_dir\n",
        "for folder_name in os.listdir(dataset_dir):\n",
        "    if folder_name not in ['train', 'test']:\n",
        "        folder_path = os.path.join(dataset_dir, folder_name)\n",
        "        check_duplicates(folder_path)\n"
      ],
      "metadata": {
        "colab": {
          "base_uri": "https://localhost:8080/"
        },
        "id": "FRWf1uftHHKc",
        "outputId": "466ca7d3-2fa5-4e8a-cd60-b7c8d6524cf6"
      },
      "execution_count": null,
      "outputs": [
        {
          "output_type": "stream",
          "name": "stdout",
          "text": [
            "Memeriksa duplikat di /content/images/Data/angka 1\n",
            "Jumlah file sebelum penghapusan duplikat: 459\n",
            "Jumlah file setelah penghapusan duplikat: 459\n",
            "Tidak ada duplikat.\n",
            "Memeriksa duplikat di /content/images/Data/angka 9\n",
            "Jumlah file sebelum penghapusan duplikat: 151\n",
            "Jumlah file setelah penghapusan duplikat: 151\n",
            "Tidak ada duplikat.\n",
            "Memeriksa duplikat di /content/images/Data/angka 7\n",
            "Jumlah file sebelum penghapusan duplikat: 91\n",
            "Jumlah file setelah penghapusan duplikat: 91\n",
            "Tidak ada duplikat.\n",
            "Memeriksa duplikat di /content/images/Data/angka 3\n",
            "Jumlah file sebelum penghapusan duplikat: 149\n",
            "Jumlah file setelah penghapusan duplikat: 149\n",
            "Tidak ada duplikat.\n",
            "Memeriksa duplikat di /content/images/Data/angka 2\n",
            "Jumlah file sebelum penghapusan duplikat: 210\n",
            "Jumlah file setelah penghapusan duplikat: 210\n",
            "Tidak ada duplikat.\n",
            "Memeriksa duplikat di /content/images/Data/angka 6\n",
            "Jumlah file sebelum penghapusan duplikat: 56\n",
            "Jumlah file setelah penghapusan duplikat: 56\n",
            "Tidak ada duplikat.\n",
            "Memeriksa duplikat di /content/images/Data/angka 5\n",
            "Jumlah file sebelum penghapusan duplikat: 283\n",
            "Jumlah file setelah penghapusan duplikat: 283\n",
            "Tidak ada duplikat.\n",
            "Memeriksa duplikat di /content/images/Data/angka 8\n",
            "Jumlah file sebelum penghapusan duplikat: 70\n",
            "Jumlah file setelah penghapusan duplikat: 70\n",
            "Tidak ada duplikat.\n",
            "Memeriksa duplikat di /content/images/Data/angka 4\n",
            "Jumlah file sebelum penghapusan duplikat: 114\n",
            "Jumlah file setelah penghapusan duplikat: 114\n",
            "Tidak ada duplikat.\n",
            "Memeriksa duplikat di /content/images/Data/angka 0\n",
            "Jumlah file sebelum penghapusan duplikat: 625\n",
            "Jumlah file setelah penghapusan duplikat: 625\n",
            "Tidak ada duplikat.\n"
          ]
        }
      ]
    },
    {
      "cell_type": "code",
      "source": [
        "# Mendefinisikan path direktori dataset\n",
        "dataset_dir = os.path.join(extract_path, 'Data')\n",
        "train_dir = os.path.join(dataset_dir, 'train')\n",
        "test_dir = os.path.join(dataset_dir, 'test')\n",
        "list_angka = sorted(os.listdir(dataset_dir))\n",
        "\n",
        "# Mendefinisikan proporsi pembagian subset data\n",
        "train_ratio = 0.8\n",
        "test_ratio = 0.2\n",
        "\n",
        "print(list_angka)"
      ],
      "metadata": {
        "colab": {
          "base_uri": "https://localhost:8080/"
        },
        "id": "97TQVttedKw1",
        "outputId": "5fb08c60-dab6-44c3-ce16-e2c48d22f544"
      },
      "execution_count": null,
      "outputs": [
        {
          "output_type": "stream",
          "name": "stdout",
          "text": [
            "['angka 0', 'angka 1', 'angka 2', 'angka 3', 'angka 4', 'angka 5', 'angka 6', 'angka 7', 'angka 8', 'angka 9']\n"
          ]
        }
      ]
    },
    {
      "cell_type": "code",
      "source": [
        "for angka in list_angka:\n",
        "    class_dir = os.path.join(dataset_dir, angka)\n",
        "    image_files = os.listdir(class_dir)\n",
        "    random.shuffle(image_files)\n",
        "\n",
        "    train_files, test_files = train_test_split(image_files, test_size=test_ratio, random_state=42)\n",
        "\n",
        "    for file_name in train_files:\n",
        "        src_path = os.path.join(class_dir, file_name)\n",
        "        dst_path = os.path.join(train_dir, angka, file_name)\n",
        "        if os.path.isdir(src_path):\n",
        "            shutil.copytree(src_path, dst_path)\n",
        "        else:\n",
        "            os.makedirs(os.path.dirname(dst_path), exist_ok=True)\n",
        "            shutil.copy2(src_path, dst_path)\n",
        "\n",
        "    for file_name in test_files:\n",
        "        src_path = os.path.join(class_dir, file_name)\n",
        "        dst_path = os.path.join(test_dir, angka, file_name)\n",
        "        if os.path.isdir(src_path):\n",
        "            shutil.copytree(src_path, dst_path)\n",
        "        else:\n",
        "            os.makedirs(os.path.dirname(dst_path), exist_ok=True)\n",
        "            shutil.copy2(src_path, dst_path)\n"
      ],
      "metadata": {
        "id": "VAhY9nALH67H"
      },
      "execution_count": null,
      "outputs": []
    },
    {
      "cell_type": "code",
      "source": [
        "def count_images(directory):\n",
        "    return sum(1 for file in os.listdir(directory) if file.endswith(('.jpg', '.jpeg', '.png', '.gif')))\n",
        "\n",
        "# Menghitung jumlah gambar di data train\n",
        "train_image_count = sum(count_images(os.path.join(train_dir, angka)) for angka in list_angka)\n",
        "\n",
        "# Menghitung jumlah gambar di data test\n",
        "test_image_count = sum(count_images(os.path.join(test_dir, angka)) for angka in list_angka)\n",
        "\n",
        "print(f\"Jumlah gambar di data train: {train_image_count}\")\n",
        "print(f\"Jumlah gambar di data test: {test_image_count}\")"
      ],
      "metadata": {
        "colab": {
          "base_uri": "https://localhost:8080/"
        },
        "id": "R9fuePh2IL79",
        "outputId": "0dc9a455-b9de-476c-8703-c4c85a0c3854"
      },
      "execution_count": null,
      "outputs": [
        {
          "output_type": "stream",
          "name": "stdout",
          "text": [
            "Jumlah gambar di data train: 1763\n",
            "Jumlah gambar di data test: 445\n"
          ]
        }
      ]
    },
    {
      "cell_type": "code",
      "source": [
        "from google.colab import files\n",
        "import shutil\n",
        "\n",
        "# Menentukan path folder train dan test di Colab\n",
        "train_dir_colab = '/content/images/Data/train'\n",
        "test_dir_colab = '/content/images/Data/test'\n",
        "\n",
        "# Membuat zip file dari folder train\n",
        "shutil.make_archive('/content/train', 'zip', train_dir_colab)\n",
        "\n",
        "# Membuat zip file dari folder test\n",
        "shutil.make_archive('/content/test', 'zip', test_dir_colab)\n",
        "\n",
        "# Mengunduh file zip\n",
        "files.download('/content/train.zip')\n",
        "files.download('/content/test.zip')"
      ],
      "metadata": {
        "colab": {
          "base_uri": "https://localhost:8080/",
          "height": 17
        },
        "id": "26jp8EQDIcF7",
        "outputId": "25a88291-285d-4d23-f818-cc416b58999b"
      },
      "execution_count": null,
      "outputs": [
        {
          "output_type": "display_data",
          "data": {
            "text/plain": [
              "<IPython.core.display.Javascript object>"
            ],
            "application/javascript": [
              "\n",
              "    async function download(id, filename, size) {\n",
              "      if (!google.colab.kernel.accessAllowed) {\n",
              "        return;\n",
              "      }\n",
              "      const div = document.createElement('div');\n",
              "      const label = document.createElement('label');\n",
              "      label.textContent = `Downloading \"${filename}\": `;\n",
              "      div.appendChild(label);\n",
              "      const progress = document.createElement('progress');\n",
              "      progress.max = size;\n",
              "      div.appendChild(progress);\n",
              "      document.body.appendChild(div);\n",
              "\n",
              "      const buffers = [];\n",
              "      let downloaded = 0;\n",
              "\n",
              "      const channel = await google.colab.kernel.comms.open(id);\n",
              "      // Send a message to notify the kernel that we're ready.\n",
              "      channel.send({})\n",
              "\n",
              "      for await (const message of channel.messages) {\n",
              "        // Send a message to notify the kernel that we're ready.\n",
              "        channel.send({})\n",
              "        if (message.buffers) {\n",
              "          for (const buffer of message.buffers) {\n",
              "            buffers.push(buffer);\n",
              "            downloaded += buffer.byteLength;\n",
              "            progress.value = downloaded;\n",
              "          }\n",
              "        }\n",
              "      }\n",
              "      const blob = new Blob(buffers, {type: 'application/binary'});\n",
              "      const a = document.createElement('a');\n",
              "      a.href = window.URL.createObjectURL(blob);\n",
              "      a.download = filename;\n",
              "      div.appendChild(a);\n",
              "      a.click();\n",
              "      div.remove();\n",
              "    }\n",
              "  "
            ]
          },
          "metadata": {}
        },
        {
          "output_type": "display_data",
          "data": {
            "text/plain": [
              "<IPython.core.display.Javascript object>"
            ],
            "application/javascript": [
              "download(\"download_0da6137e-0685-4b30-99cd-d7d6b489d50e\", \"train.zip\", 4685042)"
            ]
          },
          "metadata": {}
        },
        {
          "output_type": "display_data",
          "data": {
            "text/plain": [
              "<IPython.core.display.Javascript object>"
            ],
            "application/javascript": [
              "\n",
              "    async function download(id, filename, size) {\n",
              "      if (!google.colab.kernel.accessAllowed) {\n",
              "        return;\n",
              "      }\n",
              "      const div = document.createElement('div');\n",
              "      const label = document.createElement('label');\n",
              "      label.textContent = `Downloading \"${filename}\": `;\n",
              "      div.appendChild(label);\n",
              "      const progress = document.createElement('progress');\n",
              "      progress.max = size;\n",
              "      div.appendChild(progress);\n",
              "      document.body.appendChild(div);\n",
              "\n",
              "      const buffers = [];\n",
              "      let downloaded = 0;\n",
              "\n",
              "      const channel = await google.colab.kernel.comms.open(id);\n",
              "      // Send a message to notify the kernel that we're ready.\n",
              "      channel.send({})\n",
              "\n",
              "      for await (const message of channel.messages) {\n",
              "        // Send a message to notify the kernel that we're ready.\n",
              "        channel.send({})\n",
              "        if (message.buffers) {\n",
              "          for (const buffer of message.buffers) {\n",
              "            buffers.push(buffer);\n",
              "            downloaded += buffer.byteLength;\n",
              "            progress.value = downloaded;\n",
              "          }\n",
              "        }\n",
              "      }\n",
              "      const blob = new Blob(buffers, {type: 'application/binary'});\n",
              "      const a = document.createElement('a');\n",
              "      a.href = window.URL.createObjectURL(blob);\n",
              "      a.download = filename;\n",
              "      div.appendChild(a);\n",
              "      a.click();\n",
              "      div.remove();\n",
              "    }\n",
              "  "
            ]
          },
          "metadata": {}
        },
        {
          "output_type": "display_data",
          "data": {
            "text/plain": [
              "<IPython.core.display.Javascript object>"
            ],
            "application/javascript": [
              "download(\"download_9bc61b44-7dc2-4dc4-ace1-bad1f4a65354\", \"test.zip\", 1174553)"
            ]
          },
          "metadata": {}
        }
      ]
    }
  ]
}