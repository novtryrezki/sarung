{
  "nbformat": 4,
  "nbformat_minor": 0,
  "metadata": {
    "colab": {
      "provenance": [],
      "authorship_tag": "ABX9TyM1RSr/WD7N/659gLaU1eYu",
      "include_colab_link": true
    },
    "kernelspec": {
      "name": "python3",
      "display_name": "Python 3"
    },
    "language_info": {
      "name": "python"
    }
  },
  "cells": [
    {
      "cell_type": "markdown",
      "metadata": {
        "id": "view-in-github",
        "colab_type": "text"
      },
      "source": [
        "<a href=\"https://colab.research.google.com/github/novtryrezki/sarung/blob/main/1CNN_bs_32_ep_40.ipynb\" target=\"_parent\"><img src=\"https://colab.research.google.com/assets/colab-badge.svg\" alt=\"Open In Colab\"/></a>"
      ]
    },
    {
      "cell_type": "code",
      "execution_count": null,
      "metadata": {
        "id": "Gj0QELQHjUVZ"
      },
      "outputs": [],
      "source": [
        "import os\n",
        "import zipfile\n",
        "import random\n",
        "import shutil\n",
        "import numpy as np\n",
        "import tensorflow as tf\n",
        "import pandas as pd\n",
        "from google.colab import drive\n",
        "from sklearn.model_selection import train_test_split"
      ]
    },
    {
      "cell_type": "code",
      "source": [
        "# Melakukan mount pada Google Drive\n",
        "drive.mount('/content/drive')\n",
        "\n",
        "# Menentukan path file ZIP di Google Drive\n",
        "zip_path = '/content/drive/MyDrive/images.zip'\n",
        "\n",
        "# Membuat objek zip_ref\n",
        "zip_ref = zipfile.ZipFile(zip_path, 'r')\n",
        "\n",
        "# Mengekstrak file ZIP\n",
        "extract_path ='/content/images'\n",
        "zip_ref.extractall(extract_path)\n",
        "\n",
        "# Tutup objek zip_ref setelah selesai\n",
        "zip_ref.close()"
      ],
      "metadata": {
        "colab": {
          "base_uri": "https://localhost:8080/"
        },
        "id": "HXtZwYwdjXH4",
        "outputId": "3324480b-115a-4f80-9a2c-ab4726a0d47d"
      },
      "execution_count": null,
      "outputs": [
        {
          "output_type": "stream",
          "name": "stdout",
          "text": [
            "Mounted at /content/drive\n"
          ]
        }
      ]
    },
    {
      "cell_type": "code",
      "source": [
        "# Mendefinisikan path direktori dataset\n",
        "dataset_dir = os.path.join(extract_path, 'images')\n",
        "train_dir = os.path.join(dataset_dir, 'train')\n",
        "test_dir = os.path.join(dataset_dir, 'test')\n",
        "list_train = sorted(os.listdir(train_dir))\n",
        "list_test = sorted(os.listdir(test_dir))\n",
        "\n",
        "print(\"Daftar Angka pada Dataset Train yaitu : \", list_train)\n",
        "print(\"Daftar Angka pada Dataset Test yaitu : \", list_test)"
      ],
      "metadata": {
        "colab": {
          "base_uri": "https://localhost:8080/"
        },
        "id": "P9SpMwZxCMpv",
        "outputId": "5e8f8f8a-ceb0-4e74-f99e-5e9bf6ef37a2"
      },
      "execution_count": null,
      "outputs": [
        {
          "output_type": "stream",
          "name": "stdout",
          "text": [
            "Daftar Angka pada Dataset Train yaitu :  ['angka 0', 'angka 1', 'angka 2', 'angka 3', 'angka 4', 'angka 5', 'angka 6', 'angka 7', 'angka 8', 'angka 9']\n",
            "Daftar Angka pada Dataset Test yaitu :  ['angka 0', 'angka 1', 'angka 2', 'angka 3', 'angka 4', 'angka 5', 'angka 6', 'angka 7', 'angka 8', 'angka 9']\n"
          ]
        }
      ]
    },
    {
      "cell_type": "code",
      "source": [
        "def count_images(directory):\n",
        "    return sum(1 for file in os.listdir(directory) if file.endswith(('.jpg', '.jpeg', '.png', '.gif')))\n",
        "\n",
        "# Menghitung jumlah gambar di data train\n",
        "train_image_count = sum(count_images(os.path.join(train_dir, angka)) for angka in list_train)\n",
        "\n",
        "# Menghitung jumlah gambar di data test\n",
        "test_image_count = sum(count_images(os.path.join(test_dir, angka)) for angka in list_test)\n",
        "\n",
        "print(f\"Jumlah gambar di Dataset Train: {train_image_count}\")\n",
        "print(f\"Jumlah gambar di Dataset Test: {test_image_count}\")"
      ],
      "metadata": {
        "colab": {
          "base_uri": "https://localhost:8080/"
        },
        "id": "JycQg0kGCHHe",
        "outputId": "f53d8434-ea4e-46d5-fa3b-c3ba61d37336"
      },
      "execution_count": null,
      "outputs": [
        {
          "output_type": "stream",
          "name": "stdout",
          "text": [
            "Jumlah gambar di Dataset Train: 1763\n",
            "Jumlah gambar di Dataset Test: 445\n"
          ]
        }
      ]
    },
    {
      "cell_type": "markdown",
      "source": [
        "# Preprocessing"
      ],
      "metadata": {
        "id": "Cs-YBymEElj8"
      }
    },
    {
      "cell_type": "code",
      "source": [
        "import cv2\n",
        "\n",
        "def resize_images(directory, target_resolution):\n",
        "    for angka in os.listdir(directory):\n",
        "        angka_dir = os.path.join(directory, angka)\n",
        "        for file_name in os.listdir(angka_dir):\n",
        "            file_path = os.path.join(angka_dir, file_name)\n",
        "            img = cv2.imread(file_path)\n",
        "            resized_img = cv2.resize(img, (target_resolution, target_resolution))\n",
        "            cv2.imwrite(file_path, resized_img)\n",
        "\n",
        "target_resolution = 256\n",
        "resize_images(train_dir, target_resolution)\n",
        "resize_images(test_dir, target_resolution)"
      ],
      "metadata": {
        "id": "j-iPjxpXF_bf"
      },
      "execution_count": null,
      "outputs": []
    },
    {
      "cell_type": "code",
      "source": [
        "from tensorflow.keras.preprocessing.image import ImageDataGenerator\n",
        "\n",
        "# Membuat generator data dengan augmentasi\n",
        "image_size = (256, 256)\n",
        "batch_size = 32\n",
        "\n",
        "train_datagen = ImageDataGenerator(\n",
        "    rescale = 1./255,\n",
        "    rotation_range = 90,\n",
        "    width_shift_range = 0.2,\n",
        "    height_shift_range = 0.2,\n",
        "    zoom_range = 0.2,\n",
        ")\n",
        "\n",
        "test_datagen = ImageDataGenerator(\n",
        "    rescale=1./255,\n",
        ")\n",
        "\n",
        "train_generator = train_datagen.flow_from_directory(\n",
        "    train_dir,\n",
        "    target_size=image_size,\n",
        "    batch_size=batch_size,\n",
        "    class_mode='categorical',\n",
        "    color_mode='grayscale'\n",
        ")\n",
        "\n",
        "test_generator = test_datagen.flow_from_directory(\n",
        "    test_dir,\n",
        "    target_size=image_size,\n",
        "    batch_size=batch_size,\n",
        "    class_mode='categorical',\n",
        "    color_mode='grayscale'\n",
        ")"
      ],
      "metadata": {
        "colab": {
          "base_uri": "https://localhost:8080/"
        },
        "id": "MrR6ROkiF9Uj",
        "outputId": "5f40f05d-4c8c-4c93-f9a3-c625067fe4b7"
      },
      "execution_count": null,
      "outputs": [
        {
          "output_type": "stream",
          "name": "stdout",
          "text": [
            "Found 1763 images belonging to 10 classes.\n",
            "Found 445 images belonging to 10 classes.\n"
          ]
        }
      ]
    },
    {
      "cell_type": "markdown",
      "source": [
        "# Membuat Model CNN"
      ],
      "metadata": {
        "id": "gPqE7ywQJ01c"
      }
    },
    {
      "cell_type": "code",
      "source": [
        "from tensorflow.keras.models import Sequential\n",
        "from tensorflow.keras.layers import Conv2D, AveragePooling2D, Flatten, Dense\n",
        "import math\n",
        "\n",
        "img_size = 256*256*1\n",
        "\n",
        "# Perhitungan jumlah neuron pada lapisan tersembunyi\n",
        "hidden_neurons = int(math.sqrt(img_size * 10))\n",
        "\n",
        "model1c = Sequential()\n",
        "model1c.add(Conv2D(32, (3, 3), activation='relu', input_shape=(256, 256, 1)))\n",
        "model1c.add(AveragePooling2D((2, 2)))\n",
        "model1c.add(Conv2D(64, (3, 3), activation='relu'))\n",
        "model1c.add(AveragePooling2D((2, 2)))\n",
        "model1c.add(Flatten())\n",
        "model1c.add(Dense(hidden_neurons, activation='relu'))\n",
        "model1c.add(Dense(10, activation='softmax'))\n",
        "\n",
        "model1c.compile(optimizer='SGD', loss='categorical_crossentropy', metrics=['accuracy'])"
      ],
      "metadata": {
        "id": "SvNzs3QB71R6"
      },
      "execution_count": null,
      "outputs": []
    },
    {
      "cell_type": "code",
      "source": [
        "model1c.summary()"
      ],
      "metadata": {
        "colab": {
          "base_uri": "https://localhost:8080/"
        },
        "id": "RfHd4NJznjOh",
        "outputId": "af292853-1bff-47cb-f504-431021cc3df8"
      },
      "execution_count": null,
      "outputs": [
        {
          "output_type": "stream",
          "name": "stdout",
          "text": [
            "Model: \"sequential\"\n",
            "_________________________________________________________________\n",
            " Layer (type)                Output Shape              Param #   \n",
            "=================================================================\n",
            " conv2d (Conv2D)             (None, 254, 254, 32)      320       \n",
            "                                                                 \n",
            " average_pooling2d (Average  (None, 127, 127, 32)      0         \n",
            " Pooling2D)                                                      \n",
            "                                                                 \n",
            " conv2d_1 (Conv2D)           (None, 125, 125, 64)      18496     \n",
            "                                                                 \n",
            " average_pooling2d_1 (Avera  (None, 62, 62, 64)        0         \n",
            " gePooling2D)                                                    \n",
            "                                                                 \n",
            " flatten (Flatten)           (None, 246016)            0         \n",
            "                                                                 \n",
            " dense (Dense)               (None, 809)               199027753 \n",
            "                                                                 \n",
            " dense_1 (Dense)             (None, 10)                8100      \n",
            "                                                                 \n",
            "=================================================================\n",
            "Total params: 199054669 (759.33 MB)\n",
            "Trainable params: 199054669 (759.33 MB)\n",
            "Non-trainable params: 0 (0.00 Byte)\n",
            "_________________________________________________________________\n"
          ]
        }
      ]
    },
    {
      "cell_type": "code",
      "source": [
        "history = model1c.fit(train_generator, epochs=25, verbose = 1)"
      ],
      "metadata": {
        "colab": {
          "base_uri": "https://localhost:8080/"
        },
        "id": "I_Klj8ReYASB",
        "outputId": "8c54f4c6-6121-44e8-c020-20156fdbd65a"
      },
      "execution_count": null,
      "outputs": [
        {
          "output_type": "stream",
          "name": "stdout",
          "text": [
            "Epoch 1/25\n",
            "56/56 [==============================] - 293s 5s/step - loss: 1.6837 - accuracy: 0.4351\n",
            "Epoch 2/25\n",
            "56/56 [==============================] - 285s 5s/step - loss: 1.6790 - accuracy: 0.4402\n",
            "Epoch 3/25\n",
            "56/56 [==============================] - 287s 5s/step - loss: 1.6345 - accuracy: 0.4492\n",
            "Epoch 4/25\n",
            "56/56 [==============================] - 288s 5s/step - loss: 1.6918 - accuracy: 0.4413\n",
            "Epoch 5/25\n",
            "56/56 [==============================] - 349s 6s/step - loss: 1.6202 - accuracy: 0.4770\n",
            "Epoch 6/25\n",
            "56/56 [==============================] - 329s 6s/step - loss: 1.5991 - accuracy: 0.4736\n",
            "Epoch 7/25\n",
            "56/56 [==============================] - 339s 6s/step - loss: 1.5802 - accuracy: 0.4929\n",
            "Epoch 8/25\n",
            "56/56 [==============================] - 327s 6s/step - loss: 1.5511 - accuracy: 0.4838\n",
            "Epoch 9/25\n",
            "56/56 [==============================] - 299s 5s/step - loss: 1.5378 - accuracy: 0.5026\n",
            "Epoch 10/25\n",
            "56/56 [==============================] - 291s 5s/step - loss: 1.5255 - accuracy: 0.5116\n",
            "Epoch 11/25\n",
            "56/56 [==============================] - 299s 5s/step - loss: 1.5111 - accuracy: 0.5281\n",
            "Epoch 12/25\n",
            "56/56 [==============================] - 298s 5s/step - loss: 1.5076 - accuracy: 0.5207\n",
            "Epoch 13/25\n",
            "56/56 [==============================] - 294s 5s/step - loss: 1.4814 - accuracy: 0.5179\n",
            "Epoch 14/25\n",
            "56/56 [==============================] - 295s 5s/step - loss: 1.4503 - accuracy: 0.5468\n",
            "Epoch 15/25\n",
            "56/56 [==============================] - 302s 5s/step - loss: 1.4545 - accuracy: 0.5309\n",
            "Epoch 16/25\n",
            "56/56 [==============================] - 315s 6s/step - loss: 1.4293 - accuracy: 0.5389\n",
            "Epoch 17/25\n",
            "56/56 [==============================] - 299s 5s/step - loss: 1.3999 - accuracy: 0.5525\n",
            "Epoch 18/25\n",
            "56/56 [==============================] - 297s 5s/step - loss: 1.4020 - accuracy: 0.5593\n",
            "Epoch 19/25\n",
            "56/56 [==============================] - 306s 5s/step - loss: 1.3473 - accuracy: 0.5689\n",
            "Epoch 20/25\n",
            "56/56 [==============================] - 300s 5s/step - loss: 1.3273 - accuracy: 0.5774\n",
            "Epoch 21/25\n",
            "56/56 [==============================] - 294s 5s/step - loss: 1.3004 - accuracy: 0.5842\n",
            "Epoch 22/25\n",
            "56/56 [==============================] - 294s 5s/step - loss: 1.2759 - accuracy: 0.5871\n",
            "Epoch 23/25\n",
            "56/56 [==============================] - 300s 5s/step - loss: 1.3043 - accuracy: 0.5678\n",
            "Epoch 24/25\n",
            "56/56 [==============================] - 296s 5s/step - loss: 1.2853 - accuracy: 0.5922\n",
            "Epoch 25/25\n",
            "56/56 [==============================] - 303s 5s/step - loss: 1.2282 - accuracy: 0.6012\n"
          ]
        }
      ]
    },
    {
      "cell_type": "code",
      "source": [
        "from tensorflow.keras.models import load_model\n",
        "model1c.save('model_first_training.h5')\n",
        "model1c = load_model('model_first_training.h5')"
      ],
      "metadata": {
        "id": "racJTPVvFf2B"
      },
      "execution_count": null,
      "outputs": []
    },
    {
      "cell_type": "code",
      "source": [
        "history = model1c.fit(train_generator, epochs=10, verbose=1)"
      ],
      "metadata": {
        "colab": {
          "base_uri": "https://localhost:8080/"
        },
        "id": "xKuL5HM5Gur0",
        "outputId": "13f8bd3e-4714-4fde-ebc2-336dfb69d4ec"
      },
      "execution_count": null,
      "outputs": [
        {
          "output_type": "stream",
          "name": "stdout",
          "text": [
            "Epoch 1/10\n",
            "56/56 [==============================] - 302s 5s/step - loss: 1.2413 - accuracy: 0.5933\n",
            "Epoch 2/10\n",
            "56/56 [==============================] - 299s 5s/step - loss: 1.2379 - accuracy: 0.6137\n",
            "Epoch 3/10\n",
            "56/56 [==============================] - 311s 6s/step - loss: 1.2065 - accuracy: 0.6211\n",
            "Epoch 4/10\n",
            "56/56 [==============================] - 312s 6s/step - loss: 1.2007 - accuracy: 0.6177\n",
            "Epoch 5/10\n",
            "56/56 [==============================] - 317s 6s/step - loss: 1.1673 - accuracy: 0.6273\n",
            "Epoch 6/10\n",
            "56/56 [==============================] - 300s 5s/step - loss: 1.1329 - accuracy: 0.6415\n",
            "Epoch 7/10\n",
            "56/56 [==============================] - 311s 6s/step - loss: 1.1487 - accuracy: 0.6483\n",
            "Epoch 8/10\n",
            "56/56 [==============================] - 297s 5s/step - loss: 1.1221 - accuracy: 0.6341\n",
            "Epoch 9/10\n",
            "56/56 [==============================] - 310s 6s/step - loss: 1.1247 - accuracy: 0.6324\n",
            "Epoch 10/10\n",
            "56/56 [==============================] - 295s 5s/step - loss: 1.1196 - accuracy: 0.6449\n"
          ]
        }
      ]
    },
    {
      "cell_type": "code",
      "source": [
        "history = model1c.fit(train_generator, epochs=5, verbose=1)"
      ],
      "metadata": {
        "colab": {
          "base_uri": "https://localhost:8080/"
        },
        "id": "xIpQWcBCVJ0Y",
        "outputId": "57c9e1c2-0714-425b-f72d-2480aec16a3c"
      },
      "execution_count": null,
      "outputs": [
        {
          "output_type": "stream",
          "name": "stdout",
          "text": [
            "Epoch 1/5\n",
            "56/56 [==============================] - 304s 5s/step - loss: 1.0866 - accuracy: 0.6500\n",
            "Epoch 2/5\n",
            "56/56 [==============================] - 324s 6s/step - loss: 1.0909 - accuracy: 0.6512\n",
            "Epoch 3/5\n",
            "56/56 [==============================] - 320s 6s/step - loss: 1.0656 - accuracy: 0.6676\n",
            "Epoch 4/5\n",
            "56/56 [==============================] - 302s 5s/step - loss: 1.0844 - accuracy: 0.6557\n",
            "Epoch 5/5\n",
            "56/56 [==============================] - 295s 5s/step - loss: 1.0983 - accuracy: 0.6602\n"
          ]
        }
      ]
    },
    {
      "cell_type": "markdown",
      "source": [
        "#Matriks Konfusi"
      ],
      "metadata": {
        "id": "6VOcIXg0IvCs"
      }
    },
    {
      "cell_type": "code",
      "source": [
        "from sklearn.metrics import confusion_matrix, classification_report\n",
        "import seaborn as sns\n",
        "import matplotlib.pyplot as plt\n",
        "\n",
        "# Fungsi untuk mendapatkan prediksi model dan label sebenarnya\n",
        "def get_predictions_and_labels(model, data_generator):\n",
        "    predictions = model.predict(data_generator)\n",
        "    predicted_classes = np.argmax(predictions, axis=1)\n",
        "    true_classes = data_generator.classes\n",
        "    class_labels = list(data_generator.class_indices.keys())\n",
        "    return predicted_classes, true_classes, class_labels\n",
        "\n",
        "# Mendapatkan prediksi dan label sebenarnya untuk data uji\n",
        "y_pred, y_true, class_labels = get_predictions_and_labels(model1c, test_generator)\n",
        "\n",
        "# Membuat matriks konfusi\n",
        "cf_matrix = confusion_matrix(y_true, y_pred)\n",
        "\n",
        "# Membuat visualisasi matriks konfusi\n",
        "fig, ax = plt.subplots(figsize=(8, 6))\n",
        "sns.heatmap(cf_matrix, annot=True, fmt='g', cmap='Blues', ax=ax)\n",
        "\n",
        "# Menetapkan label dan judul\n",
        "ax.set_title('Confusion Matrix with labels')\n",
        "ax.set_xlabel('Predicted Values')\n",
        "ax.set_ylabel('Actual Values')\n",
        "\n",
        "# Menetapkan label pada sumbu x dan y sesuai dengan jenis kelas\n",
        "ax.xaxis.set_ticklabels(class_labels, rotation=45)\n",
        "ax.yaxis.set_ticklabels(class_labels, rotation=45)\n",
        "\n",
        "# Menampilkan visualisasi Matriks Konfusi\n",
        "plt.show()"
      ],
      "metadata": {
        "colab": {
          "base_uri": "https://localhost:8080/",
          "height": 617
        },
        "id": "Lz5lA0bDIxJg",
        "outputId": "d6364296-37ac-4d24-a281-5f7db8b488d9"
      },
      "execution_count": null,
      "outputs": [
        {
          "output_type": "stream",
          "name": "stdout",
          "text": [
            "14/14 [==============================] - 18s 1s/step\n"
          ]
        },
        {
          "output_type": "display_data",
          "data": {
            "text/plain": [
              "<Figure size 800x600 with 2 Axes>"
            ],
            "image/png": "[encoded data removed]"
          },
          "metadata": {}
        }
      ]
    },
    {
      "cell_type": "code",
      "source": [
        "test_loss, test_accuracy = model1c.evaluate(test_generator)\n",
        "print(f\"Test Accuracy: {test_accuracy}\")"
      ],
      "metadata": {
        "colab": {
          "base_uri": "https://localhost:8080/"
        },
        "id": "S7iwBJlGZEUM",
        "outputId": "51d84329-2565-4bc5-9595-042e91d21b30"
      },
      "execution_count": null,
      "outputs": [
        {
          "output_type": "stream",
          "name": "stdout",
          "text": [
            "14/14 [==============================] - 18s 1s/step - loss: 1.5576 - accuracy: 0.3888\n",
            "Test Accuracy: 0.38876405358314514\n"
          ]
        }
      ]
    },
    {
      "cell_type": "markdown",
      "source": [
        "Akurasi tersebut dihitung berdasarkan batch pertama dari data uji, bukan keseluruhan data uji. Akurasi keseluruhan data uji yaitu   \n",
        "Accuracy = 82/445  = 18,43%"
      ],
      "metadata": {
        "id": "fmUMu1TfZfgl"
      }
    }
  ]
}