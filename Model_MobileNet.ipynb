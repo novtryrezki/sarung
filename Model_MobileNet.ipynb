{
  "cells": [
    {
      "cell_type": "markdown",
      "source": [
        "# Import Library\n",
        "\n",
        "*   **'import os'** : Mengimpor modul os untuk berinteraksi dengan sistem operasi.\n",
        "*   **'import zipfile'** : Mengimpor modul zipfile untuk mengoperasikan file ZIP.\n",
        "*   **'import random'** : Mengimpor modul random untuk menghasilkan angka acak.\n",
        "*   **'import shutil'** : Mengimpor modul shutil untuk melakukan operasi file dan direktori.\n",
        "*   **'import matplotlib.pyplot as plt'** : Mengimpor modul matplotlib.pyplot sebagai plt, digunakan untuk membuat visualisasi grafik.\n",
        "*   **'import numpy as np'** : Mengimpor modul numpy sebagai np, digunakan untuk operasi array numerik.\n",
        "*   **'import tensorflow as tf'** : Mengimpor modul tensorflow sebagai tf, digunakan untuk membangun dan melatih model machine learning.\n",
        "*   **'import pandas as pd'** : Mengimpor modul pandas sebagai pd, digunakan untuk manipulasi dan analisis data.\n",
        "\n",
        "\n",
        "\n"
      ],
      "metadata": {
        "id": "AuFCMUHNnQfm"
      }
    },
    {
      "cell_type": "code",
      "source": [
        "import os\n",
        "import zipfile\n",
        "import random\n",
        "import shutil\n",
        "import matplotlib.pyplot as plt\n",
        "import numpy as np\n",
        "import tensorflow as tf\n",
        "import pandas as pd\n",
        "\n",
        "from tensorflow.keras.applications import MobileNetV2\n",
        "from tensorflow.keras.models import Model\n",
        "from tensorflow.keras.preprocessing.image import ImageDataGenerator\n",
        "from tensorflow.keras import optimizers\n",
        "from tensorflow.keras.callbacks import ModelCheckpoint\n",
        "\n",
        "from google.colab import drive\n",
        "from sklearn.model_selection import train_test_split\n",
        "from sklearn.metrics import accuracy_score, precision_score, recall_score, f1_score\n",
        "from sklearn.metrics import confusion_matrix\n"
      ],
      "metadata": {
        "id": "cjy8yVB2nSqt"
      },
      "execution_count": 2,
      "outputs": []
    },
    {
      "cell_type": "markdown",
      "source": [
        "# Mount Google Drive dan Load Data\n",
        "\n",
        "Melakukan mount Google Drive pada Google Colab untuk mengakses dan menggunakan file dan folder yang ada di Google Drive. Hal ini memberi fleksibilitas dalam berbagi data, mengimpor dan mengekspor file, serta melakukan pengolahan data yang melibatkan file di Google Drive. Proses mount Google Drive melibatkan autentikasi pengguna dan pemberian izin akses ke Google Drive.\n",
        "\n",
        "\n",
        "\n"
      ],
      "metadata": {
        "id": "Y18aDNX2rjAP"
      }
    },
    {
      "cell_type": "code",
      "source": [
        "# Melakukan mount pada Google Drive\n",
        "drive.mount('/content/drive')\n",
        "\n",
        "# Membuat direktori jika belum ada\n",
        "os.makedirs('/content/images', exist_ok=True)\n",
        "\n",
        "# Menentukan path file ZIP di Google Drive\n",
        "zip_path = '/content/drive/MyDrive/images.zip'\n",
        "\n",
        "# Membuat objek zip_ref\n",
        "zip_ref = zipfile.ZipFile(zip_path, 'r')\n",
        "\n",
        "# Mengekstrak file ZIP\n",
        "extract_path = '/content/images'\n",
        "zip_ref.extractall(extract_path)\n",
        "\n",
        "# Tutup objek zip_ref setelah selesai\n",
        "zip_ref.close()"
      ],
      "metadata": {
        "id": "HqKyXjl36cTF",
        "colab": {
          "base_uri": "https://localhost:8080/"
        },
        "outputId": "584b1240-b617-4d6b-91b4-4574756f9231"
      },
      "execution_count": 3,
      "outputs": [
        {
          "output_type": "stream",
          "name": "stdout",
          "text": [
            "Mounted at /content/drive\n"
          ]
        }
      ]
    },
    {
      "cell_type": "code",
      "execution_count": 4,
      "metadata": {
        "id": "P4-P1dg9cDa8"
      },
      "outputs": [],
      "source": [
        "# Mendefinisikan path direktori dataset\n",
        "dataset_dir = os.path.join(extract_path, 'images')\n",
        "train_dir = os.path.join(dataset_dir, 'train')\n",
        "val_dir = os.path.join(dataset_dir, 'val')\n",
        "test_dir = os.path.join(dataset_dir, 'test')"
      ]
    },
    {
      "cell_type": "code",
      "execution_count": 5,
      "metadata": {
        "id": "Yd_2Ae1IoNWD",
        "colab": {
          "base_uri": "https://localhost:8080/"
        },
        "outputId": "99961449-299a-4b27-d155-5036a0dcb3b5"
      },
      "outputs": [
        {
          "output_type": "stream",
          "name": "stdout",
          "text": [
            "['cat', 'butterfly', 'goat', 'pig', 'horse', 'chicken', 'swan', 'snake', 'dog', 'cow', 'duck', 'monkey', 'squirrel', 'rabbit', 'tiger', 'zebra', 'bee', 'elephant', 'lion', 'dragonfly']\n"
          ]
        }
      ],
      "source": [
        "list_hewan = os.listdir(dataset_dir)\n",
        "\n",
        "# Mendefinisikan proporsi pembagian subset data\n",
        "train_ratio = 0.8\n",
        "val_ratio = 0.1\n",
        "test_ratio = 0.1\n",
        "\n",
        "print(list_hewan)"
      ]
    },
    {
      "cell_type": "markdown",
      "source": [
        "# Split Data\n",
        "Membagi data ke Dalam Testing, Training dan Validation set secara random dengan proporsi train : val : test = 8 : 1 : 1 dan memindahkan file gambar ke direktori yang sesuai dengan subset yang tepat."
      ],
      "metadata": {
        "id": "6U3Ac314xG3_"
      }
    },
    {
      "cell_type": "code",
      "execution_count": 6,
      "metadata": {
        "id": "X8YFlbXFoePI"
      },
      "outputs": [],
      "source": [
        "# Memilih secara acak file gambar untuk setiap kelas dan membaginya menjadi subset\n",
        "for hewan in list_hewan:\n",
        "    class_dir = os.path.join(dataset_dir, hewan)\n",
        "    image_files = os.listdir(class_dir)\n",
        "    random.shuffle(image_files)\n",
        "\n",
        "    train_files, test_val_files = train_test_split(image_files, test_size=(val_ratio+test_ratio), random_state=42)\n",
        "    val_files, test_files = train_test_split(test_val_files, test_size=test_ratio/(val_ratio+test_ratio), random_state=42)\n",
        "\n",
        "    # Memindahkan file gambar ke subset data train, validation, dan test\n",
        "    for file_name in train_files:\n",
        "        src_path = os.path.join(class_dir, file_name)\n",
        "        dst_path = os.path.join(train_dir, hewan, file_name)\n",
        "        os.makedirs(os.path.dirname(dst_path), exist_ok=True)\n",
        "        shutil.copy(src_path, dst_path)\n",
        "\n",
        "    for file_name in val_files:\n",
        "        src_path = os.path.join(class_dir, file_name)\n",
        "        dst_path = os.path.join(val_dir, hewan, file_name)\n",
        "        os.makedirs(os.path.dirname(dst_path), exist_ok=True)\n",
        "        shutil.copy(src_path, dst_path)\n",
        "\n",
        "    for file_name in test_files:\n",
        "        src_path = os.path.join(class_dir, file_name)\n",
        "        dst_path = os.path.join(test_dir, hewan, file_name)\n",
        "        os.makedirs(os.path.dirname(dst_path), exist_ok=True)\n",
        "        shutil.copy(src_path, dst_path)"
      ]
    },
    {
      "cell_type": "markdown",
      "source": [
        "# Generator data dengan augmentasi\n",
        "Generator data akan memuat dan memproses batch data gambar secara otomatis dengan augmentasi yang ditentukan."
      ],
      "metadata": {
        "id": "XIi0GFEeLODu"
      }
    },
    {
      "cell_type": "code",
      "execution_count": 7,
      "metadata": {
        "id": "s172vfuWpBP4",
        "colab": {
          "base_uri": "https://localhost:8080/"
        },
        "outputId": "d1b85c48-6d80-4aa0-c879-cd295dc9bfd9"
      },
      "outputs": [
        {
          "output_type": "stream",
          "name": "stdout",
          "text": [
            "Found 8000 images belonging to 20 classes.\n",
            "Found 1000 images belonging to 20 classes.\n",
            "Found 1000 images belonging to 20 classes.\n"
          ]
        }
      ],
      "source": [
        "# Membuat generator data dengan augmentasi\n",
        "image_size = (256, 256)\n",
        "batch_size = 32\n",
        "\n",
        "train_datagen = ImageDataGenerator(\n",
        "    rescale = 1./255,\n",
        "    rotation_range = 20,\n",
        "    width_shift_range = 0.2,\n",
        "    height_shift_range = 0.2,\n",
        "    shear_range = 0.2,\n",
        "    zoom_range = 0.2,\n",
        "    horizontal_flip = True,\n",
        "    fill_mode='nearest'\n",
        ")\n",
        "\n",
        "val_datagen = ImageDataGenerator(rescale=1./255)\n",
        "test_datagen = ImageDataGenerator(rescale=1./255)\n",
        "\n",
        "train_generator = train_datagen.flow_from_directory(\n",
        "    train_dir,\n",
        "    target_size=image_size,\n",
        "    batch_size=batch_size,\n",
        "    class_mode='categorical'\n",
        ")\n",
        "\n",
        "val_generator = val_datagen.flow_from_directory(\n",
        "    val_dir,\n",
        "    target_size=image_size,\n",
        "    batch_size=batch_size,\n",
        "    class_mode='categorical'\n",
        ")\n",
        "\n",
        "test_generator = test_datagen.flow_from_directory(\n",
        "    test_dir,\n",
        "    target_size=image_size,\n",
        "    batch_size=batch_size,\n",
        "    class_mode='categorical'\n",
        ")"
      ]
    },
    {
      "cell_type": "markdown",
      "source": [
        "# Membuat Arsitektur Model\n",
        " Membuat model dengan menggunakan arsitektur MobileNet sebagai lapisan dalam model yang lebih besar untuk melakukan klasifikasi gambar.\n",
        "\n"
      ],
      "metadata": {
        "id": "I6aUrAdLyma1"
      }
    },
    {
      "cell_type": "code",
      "execution_count": 9,
      "metadata": {
        "id": "p8MefB6xpl9C",
        "colab": {
          "base_uri": "https://localhost:8080/"
        },
        "outputId": "4cba4562-6b86-4f15-db83-d9c2babd9b76"
      },
      "outputs": [
        {
          "output_type": "stream",
          "name": "stderr",
          "text": [
            "WARNING:tensorflow:`input_shape` is undefined or non-square, or `rows` is not in [96, 128, 160, 192, 224]. Weights for input shape (224, 224) will be loaded as the default.\n"
          ]
        }
      ],
      "source": [
        "# Membuat model MobileNetV2 tanpa kelas top\n",
        "base_model = MobileNetV2(input_shape=(256, 256, 3), include_top=False, weights='imagenet')\n",
        "\n",
        "# Menambahkan beberapa layer Dense\n",
        "model = tf.keras.Sequential([\n",
        "    base_model,\n",
        "    tf.keras.layers.Conv2D(256, (1, 1), activation='relu'),\n",
        "    tf.keras.layers.GlobalAveragePooling2D(),\n",
        "    tf.keras.layers.Dense(256, activation='relu'),\n",
        "    tf.keras.layers.Flatten(),\n",
        "    tf.keras.layers.Dropout(0.5),\n",
        "    tf.keras.layers.Dense(512, activation='relu'),\n",
        "    tf.keras.layers.Dropout(0.5),\n",
        "    tf.keras.layers.Dense(128, activation='relu'),\n",
        "    tf.keras.layers.Dropout(0.5),\n",
        "    tf.keras.layers.Dense(64, activation='relu'),\n",
        "    tf.keras.layers.Dense(20, activation='softmax')\n",
        "])\n",
        "\n",
        "# Mengimport modul optimizer dari TensorFlow\n",
        "optimizer = tf.keras.optimizers.Adam(learning_rate=1e-4)\n",
        "\n",
        "# Mengompilasi model dengan optimizer yang telah dimodifikasi\n",
        "model.compile(optimizer=optimizer, loss='categorical_crossentropy', metrics=['accuracy'])\n"
      ]
    },
    {
      "cell_type": "markdown",
      "source": [
        "Menampilkan ringkasan (summary) dari arsitektur model MobileNetV2 yang telah dibuat. Ringkasan ini memberikan informasi tentang lapisan-lapisan dalam model beserta jumlah parameter yang digunakan pada setiap lapisan."
      ],
      "metadata": {
        "id": "i_KzZbs6LhXN"
      }
    },
    {
      "cell_type": "code",
      "execution_count": 10,
      "metadata": {
        "id": "qyme5pwVyUiP",
        "colab": {
          "base_uri": "https://localhost:8080/"
        },
        "outputId": "8c4884b0-286b-4165-ed4b-ea1367bb74b7"
      },
      "outputs": [
        {
          "output_type": "stream",
          "name": "stdout",
          "text": [
            "Model: \"sequential\"\n",
            "_________________________________________________________________\n",
            " Layer (type)                Output Shape              Param #   \n",
            "=================================================================\n",
            " mobilenetv2_1.00_224 (Funct  (None, 8, 8, 1280)       2257984   \n",
            " ional)                                                          \n",
            "                                                                 \n",
            " conv2d_3 (Conv2D)           (None, 8, 8, 256)         327936    \n",
            "                                                                 \n",
            " global_average_pooling2d_3   (None, 256)              0         \n",
            " (GlobalAveragePooling2D)                                        \n",
            "                                                                 \n",
            " dense_5 (Dense)             (None, 256)               65792     \n",
            "                                                                 \n",
            " flatten_1 (Flatten)         (None, 256)               0         \n",
            "                                                                 \n",
            " dropout_3 (Dropout)         (None, 256)               0         \n",
            "                                                                 \n",
            " dense_6 (Dense)             (None, 512)               131584    \n",
            "                                                                 \n",
            " dropout_4 (Dropout)         (None, 512)               0         \n",
            "                                                                 \n",
            " dense_7 (Dense)             (None, 128)               65664     \n",
            "                                                                 \n",
            " dropout_5 (Dropout)         (None, 128)               0         \n",
            "                                                                 \n",
            " dense_8 (Dense)             (None, 64)                8256      \n",
            "                                                                 \n",
            " dense_9 (Dense)             (None, 20)                1300      \n",
            "                                                                 \n",
            "=================================================================\n",
            "Total params: 2,858,516\n",
            "Trainable params: 2,824,404\n",
            "Non-trainable params: 34,112\n",
            "_________________________________________________________________\n"
          ]
        }
      ],
      "source": [
        "model.summary()"
      ]
    },
    {
      "cell_type": "markdown",
      "source": [
        "# Checkpoint dan CSVLogger\n",
        "Menggunakan checkpoint untuk menyimpan model yang sedang dilatih selama training berlangsung. Checkpoint disimpan pada drive dan berguna untuk memastikan bahwa model yang dilatih dapat disimpan dan dipulihkan pada titik tertentu, sehingga tidak perlu melatih ulang model dari awal jika terjadi kesalahan atau jika pelatihan terputus."
      ],
      "metadata": {
        "id": "qLJDDKsGzBsR"
      }
    },
    {
      "cell_type": "code",
      "source": [
        "# Mendefinisikan path untuk menyimpan checkpoint\n",
        "checkpoint_path = '/content/drive/MyDrive/checkpoints/model.h5'\n",
        "\n",
        "# Membuat callback ModelCheckpoint\n",
        "checkpoint_callback = ModelCheckpoint(filepath=checkpoint_path,\n",
        "                                      monitor='val_accuracy',  # Menyimpan berdasarkan val_loss\n",
        "                                      save_best_only=True,  # Hanya menyimpan model terbaik\n",
        "                                      save_weights_only=False,  # Menyimpan seluruh model (termasuk arsitektur)\n",
        "                                      mode='max', # Menyimpan model hanya jika nilai metrik tersebut meningkat\n",
        "                                      verbose=1)  # Menampilkan pesan saat menyimpan\n"
      ],
      "metadata": {
        "id": "Q_yKIhp0F4-L"
      },
      "execution_count": 11,
      "outputs": []
    },
    {
      "cell_type": "markdown",
      "source": [
        "Menggunakan CSVlogger untuk mencatat log pelatihan dalam format CSV. CSVLogger akan digunakan sebagai callback saat melatih model untuk mencatat metrik pelatihan, seperti loss dan akurasi, ke dalam file log CSV yang spesifik.\n",
        "\n",
        "\n",
        "\n",
        "\n"
      ],
      "metadata": {
        "id": "gofTcXYz0S2p"
      }
    },
    {
      "cell_type": "code",
      "source": [
        "# Mendefinisikan path direktori training\n",
        "training_dir = '/content/drive/MyDrive/training'\n",
        "\n",
        "# Membuat direktori training jika belum ada\n",
        "os.makedirs(training_dir, exist_ok=True)\n",
        "\n",
        "# Path untuk file log training\n",
        "log_path = os.path.join(training_dir, 'training.log')\n",
        "\n",
        "# Membuat objek CSVLogger dengan path log yang sudah ditentukan\n",
        "csv_logger = tf.keras.callbacks.CSVLogger(log_path)"
      ],
      "metadata": {
        "id": "BmkKkqJ-w-ji"
      },
      "execution_count": 13,
      "outputs": []
    },
    {
      "cell_type": "markdown",
      "source": [
        "Model Checkpoint akan menyimpan model pada titik-titik tertentu selama pelatihan berdasarkan kriteria yang telah ditentukan, sedangkan CSVLogger akan mencatat log pelatihan ke dalam file log CSV."
      ],
      "metadata": {
        "id": "68TljGiE0l7l"
      }
    },
    {
      "cell_type": "markdown",
      "source": [
        "# Pelatihan Model\n",
        "Melatih model menggunakan data pelatihan dan dievaluasi menggunakan data validasi, sambil mencatat metrik pelatihan dan validasi seperti akurasi dan loss pada setiap epoch."
      ],
      "metadata": {
        "id": "FL178F2wLz-Q"
      }
    },
    {
      "cell_type": "code",
      "execution_count": 15,
      "metadata": {
        "id": "MBhd1ZJVrhYn",
        "colab": {
          "base_uri": "https://localhost:8080/"
        },
        "outputId": "56f95c22-afac-45cf-bd2c-329799d868ed"
      },
      "outputs": [
        {
          "output_type": "stream",
          "name": "stdout",
          "text": [
            "Epoch 1/25\n",
            "250/250 [==============================] - ETA: 0s - loss: 2.8257 - accuracy: 0.1205\n",
            "Epoch 1: val_accuracy improved from -inf to 0.52823, saving model to /content/drive/MyDrive/checkpoints/model.h5\n",
            "250/250 [==============================] - 222s 630ms/step - loss: 2.8257 - accuracy: 0.1205 - val_loss: 1.9712 - val_accuracy: 0.5282\n",
            "Epoch 2/25\n",
            "250/250 [==============================] - ETA: 0s - loss: 1.7526 - accuracy: 0.4660\n",
            "Epoch 2: val_accuracy improved from 0.52823 to 0.79032, saving model to /content/drive/MyDrive/checkpoints/model.h5\n",
            "250/250 [==============================] - 156s 623ms/step - loss: 1.7526 - accuracy: 0.4660 - val_loss: 0.6877 - val_accuracy: 0.7903\n",
            "Epoch 3/25\n",
            "250/250 [==============================] - ETA: 0s - loss: 0.8794 - accuracy: 0.7429\n",
            "Epoch 3: val_accuracy improved from 0.79032 to 0.86190, saving model to /content/drive/MyDrive/checkpoints/model.h5\n",
            "250/250 [==============================] - 151s 603ms/step - loss: 0.8794 - accuracy: 0.7429 - val_loss: 0.4950 - val_accuracy: 0.8619\n",
            "Epoch 4/25\n",
            "250/250 [==============================] - ETA: 0s - loss: 0.5688 - accuracy: 0.8324\n",
            "Epoch 4: val_accuracy did not improve from 0.86190\n",
            "250/250 [==============================] - 148s 592ms/step - loss: 0.5688 - accuracy: 0.8324 - val_loss: 0.5730 - val_accuracy: 0.8609\n",
            "Epoch 5/25\n",
            "250/250 [==============================] - ETA: 0s - loss: 0.4327 - accuracy: 0.8817\n",
            "Epoch 5: val_accuracy improved from 0.86190 to 0.92036, saving model to /content/drive/MyDrive/checkpoints/model.h5\n",
            "250/250 [==============================] - 149s 595ms/step - loss: 0.4327 - accuracy: 0.8817 - val_loss: 0.3223 - val_accuracy: 0.9204\n",
            "Epoch 6/25\n",
            "250/250 [==============================] - ETA: 0s - loss: 0.3552 - accuracy: 0.9051\n",
            "Epoch 6: val_accuracy improved from 0.92036 to 0.92137, saving model to /content/drive/MyDrive/checkpoints/model.h5\n",
            "250/250 [==============================] - 150s 600ms/step - loss: 0.3552 - accuracy: 0.9051 - val_loss: 0.3171 - val_accuracy: 0.9214\n",
            "Epoch 7/25\n",
            "250/250 [==============================] - ETA: 0s - loss: 0.2761 - accuracy: 0.9283\n",
            "Epoch 7: val_accuracy did not improve from 0.92137\n",
            "250/250 [==============================] - 151s 603ms/step - loss: 0.2761 - accuracy: 0.9283 - val_loss: 0.9270 - val_accuracy: 0.8438\n",
            "Epoch 8/25\n",
            "250/250 [==============================] - ETA: 0s - loss: 0.2366 - accuracy: 0.9383\n",
            "Epoch 8: val_accuracy improved from 0.92137 to 0.92339, saving model to /content/drive/MyDrive/checkpoints/model.h5\n",
            "250/250 [==============================] - 151s 604ms/step - loss: 0.2366 - accuracy: 0.9383 - val_loss: 0.3965 - val_accuracy: 0.9234\n",
            "Epoch 9/25\n",
            "250/250 [==============================] - ETA: 0s - loss: 0.2407 - accuracy: 0.9390\n",
            "Epoch 9: val_accuracy did not improve from 0.92339\n",
            "250/250 [==============================] - 153s 614ms/step - loss: 0.2407 - accuracy: 0.9390 - val_loss: 0.5285 - val_accuracy: 0.9042\n",
            "Epoch 10/25\n",
            "250/250 [==============================] - ETA: 0s - loss: 0.2064 - accuracy: 0.9489\n",
            "Epoch 10: val_accuracy improved from 0.92339 to 0.92641, saving model to /content/drive/MyDrive/checkpoints/model.h5\n",
            "250/250 [==============================] - 154s 617ms/step - loss: 0.2064 - accuracy: 0.9489 - val_loss: 0.3505 - val_accuracy: 0.9264\n",
            "Epoch 11/25\n",
            "250/250 [==============================] - ETA: 0s - loss: 0.1792 - accuracy: 0.9530\n",
            "Epoch 11: val_accuracy improved from 0.92641 to 0.93347, saving model to /content/drive/MyDrive/checkpoints/model.h5\n",
            "250/250 [==============================] - 153s 611ms/step - loss: 0.1792 - accuracy: 0.9530 - val_loss: 0.3513 - val_accuracy: 0.9335\n",
            "Epoch 12/25\n",
            "250/250 [==============================] - ETA: 0s - loss: 0.1675 - accuracy: 0.9579\n",
            "Epoch 12: val_accuracy did not improve from 0.93347\n",
            "250/250 [==============================] - 153s 611ms/step - loss: 0.1675 - accuracy: 0.9579 - val_loss: 0.3236 - val_accuracy: 0.9335\n",
            "Epoch 13/25\n",
            "250/250 [==============================] - ETA: 0s - loss: 0.1397 - accuracy: 0.9665\n",
            "Epoch 13: val_accuracy did not improve from 0.93347\n",
            "250/250 [==============================] - 150s 598ms/step - loss: 0.1397 - accuracy: 0.9665 - val_loss: 0.3883 - val_accuracy: 0.9335\n",
            "Epoch 14/25\n",
            "250/250 [==============================] - ETA: 0s - loss: 0.1377 - accuracy: 0.9645\n",
            "Epoch 14: val_accuracy improved from 0.93347 to 0.94657, saving model to /content/drive/MyDrive/checkpoints/model.h5\n",
            "250/250 [==============================] - 152s 607ms/step - loss: 0.1377 - accuracy: 0.9645 - val_loss: 0.3256 - val_accuracy: 0.9466\n",
            "Epoch 15/25\n",
            "250/250 [==============================] - ETA: 0s - loss: 0.1287 - accuracy: 0.9684\n",
            "Epoch 15: val_accuracy did not improve from 0.94657\n",
            "250/250 [==============================] - 151s 604ms/step - loss: 0.1287 - accuracy: 0.9684 - val_loss: 0.4797 - val_accuracy: 0.9224\n",
            "Epoch 16/25\n",
            "250/250 [==============================] - ETA: 0s - loss: 0.1251 - accuracy: 0.9703\n",
            "Epoch 16: val_accuracy did not improve from 0.94657\n",
            "250/250 [==============================] - 150s 602ms/step - loss: 0.1251 - accuracy: 0.9703 - val_loss: 0.4411 - val_accuracy: 0.9173\n",
            "Epoch 17/25\n",
            "250/250 [==============================] - ETA: 0s - loss: 0.1212 - accuracy: 0.9712\n",
            "Epoch 17: val_accuracy did not improve from 0.94657\n",
            "250/250 [==============================] - 150s 601ms/step - loss: 0.1212 - accuracy: 0.9712 - val_loss: 0.4453 - val_accuracy: 0.9153\n",
            "Epoch 18/25\n",
            "250/250 [==============================] - ETA: 0s - loss: 0.1108 - accuracy: 0.9736\n",
            "Epoch 18: val_accuracy did not improve from 0.94657\n",
            "250/250 [==============================] - 150s 598ms/step - loss: 0.1108 - accuracy: 0.9736 - val_loss: 0.4085 - val_accuracy: 0.9325\n",
            "Epoch 19/25\n",
            "250/250 [==============================] - ETA: 0s - loss: 0.1264 - accuracy: 0.9728\n",
            "Epoch 19: val_accuracy did not improve from 0.94657\n",
            "250/250 [==============================] - 155s 621ms/step - loss: 0.1264 - accuracy: 0.9728 - val_loss: 0.4802 - val_accuracy: 0.9083\n",
            "Epoch 20/25\n",
            "250/250 [==============================] - ETA: 0s - loss: 0.1070 - accuracy: 0.9754\n",
            "Epoch 20: val_accuracy did not improve from 0.94657\n",
            "250/250 [==============================] - 150s 601ms/step - loss: 0.1070 - accuracy: 0.9754 - val_loss: 0.3704 - val_accuracy: 0.9365\n",
            "Epoch 21/25\n",
            "250/250 [==============================] - ETA: 0s - loss: 0.0889 - accuracy: 0.9785\n",
            "Epoch 21: val_accuracy did not improve from 0.94657\n",
            "250/250 [==============================] - 158s 633ms/step - loss: 0.0889 - accuracy: 0.9785 - val_loss: 0.3571 - val_accuracy: 0.9385\n",
            "Epoch 22/25\n",
            "250/250 [==============================] - ETA: 0s - loss: 0.0981 - accuracy: 0.9776\n",
            "Epoch 22: val_accuracy did not improve from 0.94657\n",
            "250/250 [==============================] - 155s 618ms/step - loss: 0.0981 - accuracy: 0.9776 - val_loss: 0.4769 - val_accuracy: 0.9194\n",
            "Epoch 23/25\n",
            "250/250 [==============================] - ETA: 0s - loss: 0.0959 - accuracy: 0.9815\n",
            "Epoch 23: val_accuracy did not improve from 0.94657\n",
            "250/250 [==============================] - 155s 617ms/step - loss: 0.0959 - accuracy: 0.9815 - val_loss: 0.5573 - val_accuracy: 0.9234\n",
            "Epoch 24/25\n",
            "250/250 [==============================] - ETA: 0s - loss: 0.1054 - accuracy: 0.9778\n",
            "Epoch 24: val_accuracy did not improve from 0.94657\n",
            "250/250 [==============================] - 154s 614ms/step - loss: 0.1054 - accuracy: 0.9778 - val_loss: 0.5236 - val_accuracy: 0.9254\n",
            "Epoch 25/25\n",
            "250/250 [==============================] - ETA: 0s - loss: 0.0917 - accuracy: 0.9794\n",
            "Epoch 25: val_accuracy did not improve from 0.94657\n",
            "250/250 [==============================] - 155s 618ms/step - loss: 0.0917 - accuracy: 0.9794 - val_loss: 0.5103 - val_accuracy: 0.9325\n"
          ]
        }
      ],
      "source": [
        "history = model.fit(\n",
        "    train_generator,\n",
        "    steps_per_epoch=train_generator.samples // batch_size,\n",
        "    epochs=25,\n",
        "    validation_data=val_generator,\n",
        "    validation_steps=val_generator.samples // batch_size,\n",
        "    callbacks=[checkpoint_callback, csv_logger],  # Menambahkan csv_logger ke dalam callbacks\n",
        ")"
      ]
    },
    {
      "cell_type": "markdown",
      "source": [
        "# Learning Curve\n",
        "Menampilkan grafik yang menunjukkan perubahan akurasi dan loss pada training set dan validation set seiring dengan jumlah epoch yang dilakukan selama proses pelatihan model."
      ],
      "metadata": {
        "id": "wApPFWsYL5pc"
      }
    },
    {
      "cell_type": "code",
      "source": [
        "# Plot the chart for accuracy and loss on both training and validation\n",
        "acc = history.history['accuracy']\n",
        "val_acc = history.history['val_accuracy']\n",
        "loss = history.history['loss']\n",
        "val_loss = history.history['val_loss']\n",
        "\n",
        "epochs = range(len(acc))\n",
        "\n",
        "plt.plot(epochs, acc, 'r', label='Training accuracy')\n",
        "plt.plot(epochs, val_acc, 'b', label='Validation accuracy')\n",
        "plt.title('Training and validation accuracy')\n",
        "plt.legend()\n",
        "plt.figure()\n",
        "\n",
        "plt.plot(epochs, loss, 'r', label='Training Loss')\n",
        "plt.plot(epochs, val_loss, 'b', label='Validation Loss')\n",
        "plt.title('Training and validation loss')\n",
        "plt.legend()\n",
        "\n",
        "plt.show()"
      ],
      "metadata": {
        "id": "lW1l-NOaP7eR",
        "colab": {
          "base_uri": "https://localhost:8080/",
          "height": 887
        },
        "outputId": "0503e9e2-3db7-4973-9121-39219cd60cea"
      },
      "execution_count": 16,
      "outputs": [
        {
          "output_type": "display_data",
          "data": {
            "text/plain": [
              "<Figure size 640x480 with 1 Axes>"
            ],
            "image/png": "[encoded data removed]"
          },
          "metadata": {}
        },
        {
          "output_type": "display_data",
          "data": {
            "text/plain": [
              "<Figure size 640x480 with 1 Axes>"
            ],
            "image/png": "[encoded data removed]"
          },
          "metadata": {}
        }
      ]
    },
    {
      "cell_type": "markdown",
      "source": [
        "# Evaluasi Model Menggunakan Data Uji\n",
        "Melakukan evaluasi model menggunakan data uji untuk mendapatkan informasi tentang kinerja model pada data uji, termasuk akurasi, presisi, recall, F1-score, loss, dan akurasi pada data uji"
      ],
      "metadata": {
        "id": "DsnZbLjkL_iq"
      }
    },
    {
      "cell_type": "code",
      "source": [
        "# Path ke direktori data uji\n",
        "test_dir = '/content/images/images/test'\n",
        "\n",
        "# Inisialisasi objek ImageDataGenerator untuk data uji\n",
        "test_datagen = ImageDataGenerator(rescale=1./255)\n",
        "\n",
        "# Membuat generator data uji\n",
        "test_generator = test_datagen.flow_from_directory(\n",
        "    test_dir,\n",
        "    target_size=(256, 256),\n",
        "    batch_size=32,\n",
        "    class_mode='categorical',\n",
        "    shuffle=False\n",
        ")\n",
        "\n",
        "# Menghitung metrik-metrik menggunakan metode evaluate dari model\n",
        "test_loss, test_accuracy = model.evaluate(test_generator, verbose=0)\n",
        "predictions = model.predict(test_generator)\n",
        "true_labels = test_generator.classes\n",
        "prediction_labels = np.argmax(predictions, axis=1)\n",
        "\n",
        "# Menghitung metrik-metrik\n",
        "accuracy = accuracy_score(true_labels, prediction_labels)\n",
        "precision = precision_score(true_labels, prediction_labels, average='weighted')\n",
        "recall = recall_score(true_labels, prediction_labels, average='weighted')\n",
        "f1 = f1_score(true_labels, prediction_labels, average='weighted')\n",
        "\n",
        "# Menampilkan metrik\n",
        "print(\"Accuracy:\", accuracy)\n",
        "print(\"Precision:\", precision)\n",
        "print(\"Recall:\", recall)\n",
        "print(\"F1 Score:\", f1)\n",
        "print(\"Test Loss:\", test_loss)\n",
        "print(\"Test Accuracy:\", test_accuracy)"
      ],
      "metadata": {
        "colab": {
          "base_uri": "https://localhost:8080/"
        },
        "id": "qVzyjhzXio_U",
        "outputId": "17900905-d629-44ca-fb8d-f7e23cf677ce"
      },
      "execution_count": 17,
      "outputs": [
        {
          "output_type": "stream",
          "name": "stdout",
          "text": [
            "Found 1000 images belonging to 20 classes.\n",
            "32/32 [==============================] - 5s 126ms/step\n",
            "Accuracy: 0.945\n",
            "Precision: 0.9485613756884187\n",
            "Recall: 0.945\n",
            "F1 Score: 0.9452407562501658\n",
            "Test Loss: 0.3953878581523895\n",
            "Test Accuracy: 0.9449999928474426\n"
          ]
        }
      ]
    },
    {
      "cell_type": "markdown",
      "source": [
        "# Matriks Konfusi\n",
        "Mendapatkan visualisasi matriks konfusi yang memperlihatkan prediksi yang benar dan salah untuk setiap kelas."
      ],
      "metadata": {
        "id": "24NdYBqEBzWc"
      }
    },
    {
      "cell_type": "code",
      "source": [
        "import seaborn as sns\n",
        "\n",
        "#matriks konfusi\n",
        "cf_matrix = confusion_matrix(true_labels, prediction_labels)\n",
        "\n",
        "# Create the heatmap\n",
        "fig, ax = plt.subplots(figsize=(8, 6))\n",
        "sns.heatmap(cf_matrix, annot=True, fmt='g', cmap='Blues', ax=ax)\n",
        "\n",
        "# Set labels and title\n",
        "ax.set_title('Confusion Matrix with labels')\n",
        "ax.set_xlabel('Predicted Values')\n",
        "ax.set_ylabel('Actual Values')\n",
        "\n",
        "# Set tick labels\n",
        "label_types = sorted(list(set(true_labels)))  # List of unique label types sorted alphabetically\n",
        "ax.xaxis.set_ticklabels(label_types, rotation=45)\n",
        "ax.yaxis.set_ticklabels(label_types, rotation=45)\n",
        "\n",
        "# Display the visualization of the Confusion Matrix\n",
        "plt.show()"
      ],
      "metadata": {
        "id": "YbmZLST5I1LI",
        "colab": {
          "base_uri": "https://localhost:8080/",
          "height": 573
        },
        "outputId": "f1b5be4e-cbfc-41f3-91d2-e00156e87c06"
      },
      "execution_count": 19,
      "outputs": [
        {
          "output_type": "display_data",
          "data": {
            "text/plain": [
              "<Figure size 800x600 with 2 Axes>"
            ],
            "image/png": "[encoded data removed]"
          },
          "metadata": {}
        }
      ]
    },
    {
      "cell_type": "markdown",
      "source": [
        "# Menyimpan Model\n",
        "Menyimpan model dalam format H5 (Hierarchical Data Format) dan TFLite (TensorFlow Lite). Format H5 digunakan untuk menyimpan model yang lengkap, termasuk arsitektur, bobot, dan konfigurasi model. Format TFLite adalah format yang dioptimalkan untuk menjalankan model pada perangkat dengan sumber daya terbatas seperti perangkat seluler, sistem embedded, atau IoT (Internet of Things)."
      ],
      "metadata": {
        "id": "igesFuh8C_E6"
      }
    },
    {
      "cell_type": "code",
      "source": [
        "# Save model H5\n",
        "model.save('/content/drive/MyDrive/models/model.h5')"
      ],
      "metadata": {
        "id": "oj8th40OyHSp"
      },
      "execution_count": 20,
      "outputs": []
    },
    {
      "cell_type": "code",
      "source": [
        "# Save model TF\n",
        "model.save('/content/drive/MyDrive/models/model')"
      ],
      "metadata": {
        "colab": {
          "base_uri": "https://localhost:8080/"
        },
        "id": "vv-av3mFC_Xy",
        "outputId": "a9d99c91-9f36-47ea-b7ae-5670281b8db3"
      },
      "execution_count": 21,
      "outputs": [
        {
          "output_type": "stream",
          "name": "stderr",
          "text": [
            "WARNING:absl:Function `_wrapped_model` contains input name(s) mobilenetv2_1.00_224_input with unsupported characters which will be renamed to mobilenetv2_1_00_224_input in the SavedModel.\n",
            "WARNING:absl:`mobilenetv2_1.00_224_input` is not a valid tf.function parameter name. Sanitizing to `mobilenetv2_1_00_224_input`.\n",
            "WARNING:absl:`mobilenetv2_1.00_224_input` is not a valid tf.function parameter name. Sanitizing to `mobilenetv2_1_00_224_input`.\n",
            "WARNING:absl:`mobilenetv2_1.00_224_input` is not a valid tf.function parameter name. Sanitizing to `mobilenetv2_1_00_224_input`.\n",
            "WARNING:absl:Found untraced functions such as _jit_compiled_convolution_op, _jit_compiled_convolution_op, _jit_compiled_convolution_op, _jit_compiled_convolution_op, _jit_compiled_convolution_op while saving (showing 5 of 53). These functions will not be directly callable after loading.\n"
          ]
        }
      ]
    },
    {
      "cell_type": "code",
      "source": [
        "import pathlib\n",
        "\n",
        "# TFLite\n",
        "converter = tf.lite.TFLiteConverter.from_saved_model('/content/drive/MyDrive/models/model')\n",
        "converter.optimization = [tf.lite.Optimize.OPTIMIZE_FOR_SIZE]\n",
        "tflite_model = converter.convert();\n",
        "\n",
        "tflite_model_file = pathlib.Path('/content/drive/MyDrive/models/model.tflite')\n",
        "tflite_model_file.write_bytes(tflite_model)"
      ],
      "metadata": {
        "colab": {
          "base_uri": "https://localhost:8080/"
        },
        "id": "f0L6l0MFDUC8",
        "outputId": "42704c3c-5786-4215-d8ba-937591aa89b1"
      },
      "execution_count": 22,
      "outputs": [
        {
          "output_type": "execute_result",
          "data": {
            "text/plain": [
              "11270772"
            ]
          },
          "metadata": {},
          "execution_count": 22
        }
      ]
    }
  ],
  "metadata": {
    "colab": {
      "provenance": [],
      "gpuType": "T4"
    },
    "kernelspec": {
      "display_name": "Python 3",
      "name": "python3"
    },
    "language_info": {
      "name": "python"
    },
    "accelerator": "GPU"
  },
  "nbformat": 4,
  "nbformat_minor": 0
}