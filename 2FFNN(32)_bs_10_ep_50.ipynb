{
  "cells": [
    {
      "cell_type": "markdown",
      "metadata": {
        "id": "view-in-github",
        "colab_type": "text"
      },
      "source": [
        "<a href=\"https://colab.research.google.com/github/novtryrezki/sarung/blob/main/2FFNN(32)_bs_10_ep_50.ipynb\" target=\"_parent\"><img src=\"https://colab.research.google.com/assets/colab-badge.svg\" alt=\"Open In Colab\"/></a>"
      ]
    },
    {
      "cell_type": "code",
      "execution_count": 33,
      "metadata": {
        "id": "Gj0QELQHjUVZ"
      },
      "outputs": [],
      "source": [
        "import os\n",
        "import zipfile\n",
        "import random\n",
        "import shutil\n",
        "import numpy as np\n",
        "import tensorflow as tf\n",
        "import pandas as pd\n",
        "from google.colab import drive\n",
        "from sklearn.model_selection import train_test_split"
      ]
    },
    {
      "cell_type": "code",
      "execution_count": 34,
      "metadata": {
        "colab": {
          "base_uri": "https://localhost:8080/"
        },
        "id": "HXtZwYwdjXH4",
        "outputId": "8dac829c-6209-4a69-8a42-8ab5dd05eaea"
      },
      "outputs": [
        {
          "output_type": "stream",
          "name": "stdout",
          "text": [
            "Drive already mounted at /content/drive; to attempt to forcibly remount, call drive.mount(\"/content/drive\", force_remount=True).\n"
          ]
        }
      ],
      "source": [
        "# Melakukan mount pada Google Drive\n",
        "drive.mount('/content/drive')\n",
        "\n",
        "# Menentukan path file ZIP di Google Drive\n",
        "zip_path = '/content/drive/MyDrive/images.zip'\n",
        "\n",
        "# Membuat objek zip_ref\n",
        "zip_ref = zipfile.ZipFile(zip_path, 'r')\n",
        "\n",
        "# Mengekstrak file ZIP\n",
        "extract_path ='/content/images'\n",
        "zip_ref.extractall(extract_path)\n",
        "\n",
        "# Tutup objek zip_ref setelah selesai\n",
        "zip_ref.close()"
      ]
    },
    {
      "cell_type": "code",
      "execution_count": 35,
      "metadata": {
        "colab": {
          "base_uri": "https://localhost:8080/"
        },
        "id": "P9SpMwZxCMpv",
        "outputId": "af2d0b67-8a4c-407c-92aa-2d37a687a23d"
      },
      "outputs": [
        {
          "output_type": "stream",
          "name": "stdout",
          "text": [
            "Daftar Angka pada Dataset Train yaitu :  ['angka 0', 'angka 1', 'angka 2', 'angka 3', 'angka 4', 'angka 5', 'angka 6', 'angka 7', 'angka 8', 'angka 9']\n",
            "Daftar Angka pada Dataset Test yaitu :  ['angka 0', 'angka 1', 'angka 2', 'angka 3', 'angka 4', 'angka 5', 'angka 6', 'angka 7', 'angka 8', 'angka 9']\n"
          ]
        }
      ],
      "source": [
        "# Mendefinisikan path direktori dataset\n",
        "dataset_dir = os.path.join(extract_path, 'images')\n",
        "train_dir = os.path.join(dataset_dir, 'train')\n",
        "test_dir = os.path.join(dataset_dir, 'test')\n",
        "list_train = sorted(os.listdir(train_dir))\n",
        "list_test = sorted(os.listdir(test_dir))\n",
        "\n",
        "print(\"Daftar Angka pada Dataset Train yaitu : \", list_train)\n",
        "print(\"Daftar Angka pada Dataset Test yaitu : \", list_test)"
      ]
    },
    {
      "cell_type": "code",
      "execution_count": 36,
      "metadata": {
        "colab": {
          "base_uri": "https://localhost:8080/"
        },
        "id": "JycQg0kGCHHe",
        "outputId": "73b5efe3-61c4-4337-87b3-e6ca8a754dd2"
      },
      "outputs": [
        {
          "output_type": "stream",
          "name": "stdout",
          "text": [
            "Jumlah gambar di Dataset Train: 1763\n",
            "Jumlah gambar di Dataset Test: 445\n"
          ]
        }
      ],
      "source": [
        "def count_images(directory):\n",
        "    return sum(1 for file in os.listdir(directory) if file.endswith(('.jpg', '.jpeg', '.png', '.gif')))\n",
        "\n",
        "# Menghitung jumlah gambar di data train\n",
        "train_image_count = sum(count_images(os.path.join(train_dir, angka)) for angka in list_train)\n",
        "\n",
        "# Menghitung jumlah gambar di data test\n",
        "test_image_count = sum(count_images(os.path.join(test_dir, angka)) for angka in list_test)\n",
        "\n",
        "print(f\"Jumlah gambar di Dataset Train: {train_image_count}\")\n",
        "print(f\"Jumlah gambar di Dataset Test: {test_image_count}\")"
      ]
    },
    {
      "cell_type": "markdown",
      "metadata": {
        "id": "Cs-YBymEElj8"
      },
      "source": [
        "# Preprocessing"
      ]
    },
    {
      "cell_type": "code",
      "execution_count": 37,
      "metadata": {
        "id": "j-iPjxpXF_bf"
      },
      "outputs": [],
      "source": [
        "import cv2\n",
        "\n",
        "def resize_images(directory, target_resolution):\n",
        "    for angka in os.listdir(directory):\n",
        "        angka_dir = os.path.join(directory, angka)\n",
        "        for file_name in os.listdir(angka_dir):\n",
        "            file_path = os.path.join(angka_dir, file_name)\n",
        "            img = cv2.imread(file_path)\n",
        "            resized_img = cv2.resize(img, (target_resolution, target_resolution))\n",
        "            cv2.imwrite(file_path, resized_img)\n",
        "\n",
        "target_resolution = 32\n",
        "resize_images(train_dir, target_resolution)\n",
        "resize_images(test_dir, target_resolution)"
      ]
    },
    {
      "cell_type": "code",
      "execution_count": 38,
      "metadata": {
        "colab": {
          "base_uri": "https://localhost:8080/"
        },
        "id": "MrR6ROkiF9Uj",
        "outputId": "118ab59b-6172-4d38-bf20-0deb9ba8d66d"
      },
      "outputs": [
        {
          "output_type": "stream",
          "name": "stdout",
          "text": [
            "Found 1763 images belonging to 10 classes.\n",
            "Found 445 images belonging to 10 classes.\n"
          ]
        }
      ],
      "source": [
        "from tensorflow.keras.preprocessing.image import ImageDataGenerator\n",
        "\n",
        "# Membuat generator data dengan augmentasi\n",
        "image_size = (32, 32)\n",
        "batch_size = 32\n",
        "\n",
        "train_datagen = ImageDataGenerator(\n",
        "    rescale = 1./255,\n",
        "    rotation_range = 90,\n",
        "    width_shift_range = 0.2,\n",
        "    height_shift_range = 0.2,\n",
        "    zoom_range = 0.2,\n",
        ")\n",
        "\n",
        "test_datagen = ImageDataGenerator(\n",
        "    rescale=1./255,\n",
        ")\n",
        "\n",
        "train_generator = train_datagen.flow_from_directory(\n",
        "    train_dir,\n",
        "    target_size=image_size,\n",
        "    batch_size=batch_size,\n",
        "    class_mode='categorical',\n",
        "    color_mode='grayscale'\n",
        ")\n",
        "\n",
        "test_generator = test_datagen.flow_from_directory(\n",
        "    test_dir,\n",
        "    target_size=image_size,\n",
        "    batch_size=batch_size,\n",
        "    class_mode='categorical',\n",
        "    color_mode='grayscale'\n",
        ")"
      ]
    },
    {
      "cell_type": "markdown",
      "metadata": {
        "id": "gPqE7ywQJ01c"
      },
      "source": [
        "# Membuat Model FFNN"
      ]
    },
    {
      "cell_type": "code",
      "execution_count": 39,
      "metadata": {
        "id": "SvNzs3QB71R6"
      },
      "outputs": [],
      "source": [
        "from tensorflow.keras.models import Sequential\n",
        "from tensorflow.keras.layers import Flatten, Dense\n",
        "import math\n",
        "\n",
        "img_size = 32*32*1\n",
        "\n",
        "# Perhitungan jumlah neuron pada lapisan tersembunyi\n",
        "r1 = (img_size/10) ** (1/2)\n",
        "r2 = (img_size/10) ** (1/3)\n",
        "\n",
        "hidden_neurons1 = 10 * r1**(2)\n",
        "hidden_neurons2 = 10 * r2**(1)\n",
        "\n",
        "model2f = Sequential()\n",
        "model2f.add(Flatten(input_shape=(32, 32, 1)))\n",
        "model2f.add(Dense(hidden_neurons1, activation='relu'))\n",
        "model2f.add(Dense(hidden_neurons2, activation='relu'))\n",
        "model2f.add(Dense(10, activation='softmax'))\n",
        "\n",
        "model2f.compile(optimizer='SGD', loss='categorical_crossentropy', metrics=['accuracy'])"
      ]
    },
    {
      "cell_type": "code",
      "execution_count": 40,
      "metadata": {
        "id": "RfHd4NJznjOh",
        "colab": {
          "base_uri": "https://localhost:8080/"
        },
        "outputId": "5a5a294f-b0d4-4c26-958d-eca129e67b74"
      },
      "outputs": [
        {
          "output_type": "stream",
          "name": "stdout",
          "text": [
            "Model: \"sequential_1\"\n",
            "_________________________________________________________________\n",
            " Layer (type)                Output Shape              Param #   \n",
            "=================================================================\n",
            " flatten_1 (Flatten)         (None, 1024)              0         \n",
            "                                                                 \n",
            " dense_3 (Dense)             (None, 1024)              1049600   \n",
            "                                                                 \n",
            " dense_4 (Dense)             (None, 46)                47150     \n",
            "                                                                 \n",
            " dense_5 (Dense)             (None, 10)                470       \n",
            "                                                                 \n",
            "=================================================================\n",
            "Total params: 1097220 (4.19 MB)\n",
            "Trainable params: 1097220 (4.19 MB)\n",
            "Non-trainable params: 0 (0.00 Byte)\n",
            "_________________________________________________________________\n"
          ]
        }
      ],
      "source": [
        "model2f.summary()"
      ]
    },
    {
      "cell_type": "code",
      "execution_count": 41,
      "metadata": {
        "id": "I_Klj8ReYASB",
        "colab": {
          "base_uri": "https://localhost:8080/"
        },
        "outputId": "5c36b90d-c07c-4cf4-9c35-2bd145f4ba40"
      },
      "outputs": [
        {
          "output_type": "stream",
          "name": "stdout",
          "text": [
            "Epoch 1/50\n",
            "56/56 [==============================] - 2s 33ms/step - loss: 2.0589 - accuracy: 0.2830\n",
            "Epoch 2/50\n",
            "56/56 [==============================] - 2s 31ms/step - loss: 1.9997 - accuracy: 0.3284\n",
            "Epoch 3/50\n",
            "56/56 [==============================] - 2s 31ms/step - loss: 1.9810 - accuracy: 0.3483\n",
            "Epoch 4/50\n",
            "56/56 [==============================] - 2s 32ms/step - loss: 1.9633 - accuracy: 0.3500\n",
            "Epoch 5/50\n",
            "56/56 [==============================] - 3s 46ms/step - loss: 1.9518 - accuracy: 0.3590\n",
            "Epoch 6/50\n",
            "56/56 [==============================] - 2s 31ms/step - loss: 1.9437 - accuracy: 0.3545\n",
            "Epoch 7/50\n",
            "56/56 [==============================] - 2s 30ms/step - loss: 1.9366 - accuracy: 0.3551\n",
            "Epoch 8/50\n",
            "56/56 [==============================] - 2s 31ms/step - loss: 1.9221 - accuracy: 0.3522\n",
            "Epoch 9/50\n",
            "56/56 [==============================] - 2s 30ms/step - loss: 1.8988 - accuracy: 0.3727\n",
            "Epoch 10/50\n",
            "56/56 [==============================] - 3s 46ms/step - loss: 1.9055 - accuracy: 0.3585\n",
            "Epoch 11/50\n",
            "56/56 [==============================] - 2s 30ms/step - loss: 1.8969 - accuracy: 0.3613\n",
            "Epoch 12/50\n",
            "56/56 [==============================] - 2s 31ms/step - loss: 1.8947 - accuracy: 0.3704\n",
            "Epoch 13/50\n",
            "56/56 [==============================] - 2s 30ms/step - loss: 1.8759 - accuracy: 0.3721\n",
            "Epoch 14/50\n",
            "56/56 [==============================] - 2s 30ms/step - loss: 1.8691 - accuracy: 0.3721\n",
            "Epoch 15/50\n",
            "56/56 [==============================] - 2s 42ms/step - loss: 1.8810 - accuracy: 0.3698\n",
            "Epoch 16/50\n",
            "56/56 [==============================] - 2s 39ms/step - loss: 1.8672 - accuracy: 0.3653\n",
            "Epoch 17/50\n",
            "56/56 [==============================] - 2s 32ms/step - loss: 1.8720 - accuracy: 0.3783\n",
            "Epoch 18/50\n",
            "56/56 [==============================] - 2s 30ms/step - loss: 1.8641 - accuracy: 0.3789\n",
            "Epoch 19/50\n",
            "56/56 [==============================] - 2s 38ms/step - loss: 1.8588 - accuracy: 0.3812\n",
            "Epoch 20/50\n",
            "56/56 [==============================] - 2s 30ms/step - loss: 1.8637 - accuracy: 0.3812\n",
            "Epoch 21/50\n",
            "56/56 [==============================] - 3s 45ms/step - loss: 1.8702 - accuracy: 0.3749\n",
            "Epoch 22/50\n",
            "56/56 [==============================] - 2s 40ms/step - loss: 1.8490 - accuracy: 0.3795\n",
            "Epoch 23/50\n",
            "56/56 [==============================] - 2s 31ms/step - loss: 1.8543 - accuracy: 0.3795\n",
            "Epoch 24/50\n",
            "56/56 [==============================] - 2s 31ms/step - loss: 1.8354 - accuracy: 0.3823\n",
            "Epoch 25/50\n",
            "56/56 [==============================] - 2s 30ms/step - loss: 1.8237 - accuracy: 0.3880\n",
            "Epoch 26/50\n",
            "56/56 [==============================] - 2s 33ms/step - loss: 1.8132 - accuracy: 0.3976\n",
            "Epoch 27/50\n",
            "56/56 [==============================] - 3s 46ms/step - loss: 1.8137 - accuracy: 0.3936\n",
            "Epoch 28/50\n",
            "56/56 [==============================] - 2s 30ms/step - loss: 1.8130 - accuracy: 0.4010\n",
            "Epoch 29/50\n",
            "56/56 [==============================] - 2s 30ms/step - loss: 1.7842 - accuracy: 0.4022\n",
            "Epoch 30/50\n",
            "56/56 [==============================] - 2s 29ms/step - loss: 1.8239 - accuracy: 0.3863\n",
            "Epoch 31/50\n",
            "56/56 [==============================] - 2s 30ms/step - loss: 1.8001 - accuracy: 0.3982\n",
            "Epoch 32/50\n",
            "56/56 [==============================] - 3s 46ms/step - loss: 1.7991 - accuracy: 0.4016\n",
            "Epoch 33/50\n",
            "56/56 [==============================] - 2s 30ms/step - loss: 1.7963 - accuracy: 0.3999\n",
            "Epoch 34/50\n",
            "56/56 [==============================] - 2s 30ms/step - loss: 1.7991 - accuracy: 0.4027\n",
            "Epoch 35/50\n",
            "56/56 [==============================] - 2s 30ms/step - loss: 1.7696 - accuracy: 0.4146\n",
            "Epoch 36/50\n",
            "56/56 [==============================] - 2s 31ms/step - loss: 1.7885 - accuracy: 0.4005\n",
            "Epoch 37/50\n",
            "56/56 [==============================] - 3s 47ms/step - loss: 1.7669 - accuracy: 0.4141\n",
            "Epoch 38/50\n",
            "56/56 [==============================] - 2s 30ms/step - loss: 1.7496 - accuracy: 0.4192\n",
            "Epoch 39/50\n",
            "56/56 [==============================] - 2s 30ms/step - loss: 1.7581 - accuracy: 0.4124\n",
            "Epoch 40/50\n",
            "56/56 [==============================] - 2s 41ms/step - loss: 1.7495 - accuracy: 0.4180\n",
            "Epoch 41/50\n",
            "56/56 [==============================] - 2s 40ms/step - loss: 1.7514 - accuracy: 0.4197\n",
            "Epoch 42/50\n",
            "56/56 [==============================] - 2s 42ms/step - loss: 1.7670 - accuracy: 0.4095\n",
            "Epoch 43/50\n",
            "56/56 [==============================] - 2s 30ms/step - loss: 1.7287 - accuracy: 0.4288\n",
            "Epoch 44/50\n",
            "56/56 [==============================] - 2s 30ms/step - loss: 1.7311 - accuracy: 0.4226\n",
            "Epoch 45/50\n",
            "56/56 [==============================] - 2s 30ms/step - loss: 1.7160 - accuracy: 0.4328\n",
            "Epoch 46/50\n",
            "56/56 [==============================] - 2s 30ms/step - loss: 1.7328 - accuracy: 0.4305\n",
            "Epoch 47/50\n",
            "56/56 [==============================] - 2s 38ms/step - loss: 1.7231 - accuracy: 0.4339\n",
            "Epoch 48/50\n",
            "56/56 [==============================] - 3s 46ms/step - loss: 1.7057 - accuracy: 0.4351\n",
            "Epoch 49/50\n",
            "56/56 [==============================] - 2s 30ms/step - loss: 1.7052 - accuracy: 0.4351\n",
            "Epoch 50/50\n",
            "56/56 [==============================] - 2s 30ms/step - loss: 1.7051 - accuracy: 0.4379\n"
          ]
        }
      ],
      "source": [
        "history = model2f.fit(train_generator, epochs=50, verbose = 1)"
      ]
    },
    {
      "cell_type": "markdown",
      "metadata": {
        "id": "6VOcIXg0IvCs"
      },
      "source": [
        "#Matriks Konfusi"
      ]
    },
    {
      "cell_type": "code",
      "execution_count": 42,
      "metadata": {
        "id": "Lz5lA0bDIxJg",
        "colab": {
          "base_uri": "https://localhost:8080/",
          "height": 617
        },
        "outputId": "15006caf-873b-49c1-c218-b3f070c5b233"
      },
      "outputs": [
        {
          "output_type": "stream",
          "name": "stdout",
          "text": [
            "14/14 [==============================] - 0s 15ms/step\n"
          ]
        },
        {
          "output_type": "display_data",
          "data": {
            "text/plain": [
              "<Figure size 800x600 with 2 Axes>"
            ],
            "image/png": "[encoded data removed]"
          },
          "metadata": {}
        }
      ],
      "source": [
        "from sklearn.metrics import confusion_matrix, classification_report\n",
        "import seaborn as sns\n",
        "import matplotlib.pyplot as plt\n",
        "\n",
        "# Fungsi untuk mendapatkan prediksi model dan label sebenarnya\n",
        "def get_predictions_and_labels(model, data_generator):\n",
        "    predictions = model.predict(data_generator)\n",
        "    true_classes = data_generator.classes\n",
        "    return predictions, true_classes\n",
        "\n",
        "# Mendapatkan prediksi dan label sebenarnya untuk data uji\n",
        "y_pred_prob, y_true = get_predictions_and_labels(model2f, test_generator)\n",
        "\n",
        "# Membuat matriks konfusi\n",
        "cf_matrix = confusion_matrix(y_true, y_pred)\n",
        "\n",
        "# Membuat visualisasi matriks konfusi\n",
        "fig, ax = plt.subplots(figsize=(8, 6))\n",
        "sns.heatmap(cf_matrix, annot=True, fmt='g', cmap='Blues', ax=ax)\n",
        "\n",
        "# Menetapkan label dan judul\n",
        "ax.set_title('Confusion Matrix with labels')\n",
        "ax.set_xlabel('Predicted Values')\n",
        "ax.set_ylabel('Actual Values')\n",
        "\n",
        "# Menetapkan label pada sumbu x dan y sesuai dengan jenis kelas\n",
        "ax.xaxis.set_ticklabels(class_labels, rotation=45)\n",
        "ax.yaxis.set_ticklabels(class_labels, rotation=45)\n",
        "\n",
        "# Menampilkan visualisasi Matriks Konfusi\n",
        "plt.show()"
      ]
    },
    {
      "cell_type": "code",
      "execution_count": 43,
      "metadata": {
        "id": "S7iwBJlGZEUM",
        "colab": {
          "base_uri": "https://localhost:8080/"
        },
        "outputId": "4cc04baa-216d-4b29-c888-d227e43206d4"
      },
      "outputs": [
        {
          "output_type": "stream",
          "name": "stdout",
          "text": [
            "AUC ROC Score: 0.5297333843034584\n",
            "Accuracy: 0.24719101123595505\n"
          ]
        }
      ],
      "source": [
        "from sklearn.metrics import roc_auc_score\n",
        "from sklearn.metrics import accuracy_score\n",
        "\n",
        "y_pred = np.argmax(y_pred_prob, axis=1)\n",
        "\n",
        "auc_roc_score = roc_auc_score(y_true, y_pred_prob, multi_class='ovr')\n",
        "print(f\"AUC ROC Score: {auc_roc_score}\")\n",
        "accuracy = accuracy_score(y_true, y_pred)\n",
        "print(f\"Accuracy: {accuracy}\")"
      ]
    }
  ],
  "metadata": {
    "colab": {
      "provenance": [],
      "include_colab_link": true
    },
    "kernelspec": {
      "display_name": "Python 3",
      "name": "python3"
    },
    "language_info": {
      "name": "python"
    }
  },
  "nbformat": 4,
  "nbformat_minor": 0
}