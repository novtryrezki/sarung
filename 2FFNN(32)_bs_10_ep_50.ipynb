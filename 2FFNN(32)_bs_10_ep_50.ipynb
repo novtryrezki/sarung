{
  "cells": [
    {
      "cell_type": "markdown",
      "metadata": {
        "id": "view-in-github",
        "colab_type": "text"
      },
      "source": [
        "<a href=\"https://colab.research.google.com/github/novtryrezki/sarung/blob/main/2FFNN(32)_bs_10_ep_50.ipynb\" target=\"_parent\"><img src=\"https://colab.research.google.com/assets/colab-badge.svg\" alt=\"Open In Colab\"/></a>"
      ]
    },
    {
      "cell_type": "code",
      "execution_count": 1,
      "metadata": {
        "id": "Gj0QELQHjUVZ"
      },
      "outputs": [],
      "source": [
        "import os\n",
        "import zipfile\n",
        "import random\n",
        "import shutil\n",
        "import numpy as np\n",
        "import tensorflow as tf\n",
        "import pandas as pd\n",
        "from google.colab import drive\n",
        "from sklearn.model_selection import train_test_split"
      ]
    },
    {
      "cell_type": "code",
      "execution_count": 2,
      "metadata": {
        "colab": {
          "base_uri": "https://localhost:8080/"
        },
        "id": "HXtZwYwdjXH4",
        "outputId": "120fa47b-7a61-4810-c32b-7876fb012c08"
      },
      "outputs": [
        {
          "output_type": "stream",
          "name": "stdout",
          "text": [
            "Mounted at /content/drive\n"
          ]
        }
      ],
      "source": [
        "# Melakukan mount pada Google Drive\n",
        "drive.mount('/content/drive')\n",
        "\n",
        "# Menentukan path file ZIP di Google Drive\n",
        "zip_path = '/content/drive/MyDrive/images.zip'\n",
        "\n",
        "# Membuat objek zip_ref\n",
        "zip_ref = zipfile.ZipFile(zip_path, 'r')\n",
        "\n",
        "# Mengekstrak file ZIP\n",
        "extract_path ='/content/images'\n",
        "zip_ref.extractall(extract_path)\n",
        "\n",
        "# Tutup objek zip_ref setelah selesai\n",
        "zip_ref.close()"
      ]
    },
    {
      "cell_type": "code",
      "execution_count": 3,
      "metadata": {
        "colab": {
          "base_uri": "https://localhost:8080/"
        },
        "id": "P9SpMwZxCMpv",
        "outputId": "ca0da669-2463-4384-8367-6a7b597c8d5e"
      },
      "outputs": [
        {
          "output_type": "stream",
          "name": "stdout",
          "text": [
            "Daftar Angka pada Dataset Train yaitu :  ['angka 0', 'angka 1', 'angka 2', 'angka 3', 'angka 4', 'angka 5', 'angka 6', 'angka 7', 'angka 8', 'angka 9']\n",
            "Daftar Angka pada Dataset Test yaitu :  ['angka 0', 'angka 1', 'angka 2', 'angka 3', 'angka 4', 'angka 5', 'angka 6', 'angka 7', 'angka 8', 'angka 9']\n"
          ]
        }
      ],
      "source": [
        "# Mendefinisikan path direktori dataset\n",
        "dataset_dir = os.path.join(extract_path, 'images')\n",
        "train_dir = os.path.join(dataset_dir, 'train')\n",
        "test_dir = os.path.join(dataset_dir, 'test')\n",
        "list_train = sorted(os.listdir(train_dir))\n",
        "list_test = sorted(os.listdir(test_dir))\n",
        "\n",
        "print(\"Daftar Angka pada Dataset Train yaitu : \", list_train)\n",
        "print(\"Daftar Angka pada Dataset Test yaitu : \", list_test)"
      ]
    },
    {
      "cell_type": "code",
      "execution_count": 4,
      "metadata": {
        "colab": {
          "base_uri": "https://localhost:8080/"
        },
        "id": "JycQg0kGCHHe",
        "outputId": "7038081a-8a42-4aad-8743-4e7b24a225bf"
      },
      "outputs": [
        {
          "output_type": "stream",
          "name": "stdout",
          "text": [
            "Jumlah gambar di Dataset Train: 1763\n",
            "Jumlah gambar di Dataset Test: 445\n"
          ]
        }
      ],
      "source": [
        "def count_images(directory):\n",
        "    return sum(1 for file in os.listdir(directory) if file.endswith(('.jpg', '.jpeg', '.png', '.gif')))\n",
        "\n",
        "# Menghitung jumlah gambar di data train\n",
        "train_image_count = sum(count_images(os.path.join(train_dir, angka)) for angka in list_train)\n",
        "\n",
        "# Menghitung jumlah gambar di data test\n",
        "test_image_count = sum(count_images(os.path.join(test_dir, angka)) for angka in list_test)\n",
        "\n",
        "print(f\"Jumlah gambar di Dataset Train: {train_image_count}\")\n",
        "print(f\"Jumlah gambar di Dataset Test: {test_image_count}\")"
      ]
    },
    {
      "cell_type": "markdown",
      "metadata": {
        "id": "Cs-YBymEElj8"
      },
      "source": [
        "# Preprocessing"
      ]
    },
    {
      "cell_type": "code",
      "execution_count": 5,
      "metadata": {
        "id": "j-iPjxpXF_bf"
      },
      "outputs": [],
      "source": [
        "import cv2\n",
        "\n",
        "def resize_images(directory, target_resolution):\n",
        "    for angka in os.listdir(directory):\n",
        "        angka_dir = os.path.join(directory, angka)\n",
        "        for file_name in os.listdir(angka_dir):\n",
        "            file_path = os.path.join(angka_dir, file_name)\n",
        "            img = cv2.imread(file_path)\n",
        "            resized_img = cv2.resize(img, (target_resolution, target_resolution))\n",
        "            cv2.imwrite(file_path, resized_img)\n",
        "\n",
        "target_resolution = 32\n",
        "resize_images(train_dir, target_resolution)\n",
        "resize_images(test_dir, target_resolution)"
      ]
    },
    {
      "cell_type": "code",
      "execution_count": 6,
      "metadata": {
        "colab": {
          "base_uri": "https://localhost:8080/"
        },
        "id": "MrR6ROkiF9Uj",
        "outputId": "d94b039d-b38e-47dd-d9d4-a086c5e21d0c"
      },
      "outputs": [
        {
          "output_type": "stream",
          "name": "stdout",
          "text": [
            "Found 1763 images belonging to 10 classes.\n",
            "Found 445 images belonging to 10 classes.\n"
          ]
        }
      ],
      "source": [
        "from tensorflow.keras.preprocessing.image import ImageDataGenerator\n",
        "\n",
        "# Membuat generator data dengan augmentasi\n",
        "image_size = (32, 32)\n",
        "batch_size = 10\n",
        "\n",
        "train_datagen = ImageDataGenerator(\n",
        "    rescale = 1./255,\n",
        "    rotation_range = 90,\n",
        "    width_shift_range = 0.2,\n",
        "    height_shift_range = 0.2,\n",
        "    zoom_range = 0.2,\n",
        ")\n",
        "\n",
        "test_datagen = ImageDataGenerator(\n",
        "    rescale=1./255,\n",
        ")\n",
        "\n",
        "train_generator = train_datagen.flow_from_directory(\n",
        "    train_dir,\n",
        "    target_size=image_size,\n",
        "    batch_size=batch_size,\n",
        "    class_mode='categorical',\n",
        "    color_mode='grayscale'\n",
        ")\n",
        "\n",
        "test_generator = test_datagen.flow_from_directory(\n",
        "    test_dir,\n",
        "    target_size=image_size,\n",
        "    batch_size=batch_size,\n",
        "    class_mode='categorical',\n",
        "    color_mode='grayscale'\n",
        ")"
      ]
    },
    {
      "cell_type": "markdown",
      "metadata": {
        "id": "gPqE7ywQJ01c"
      },
      "source": [
        "# Membuat Model FFNN"
      ]
    },
    {
      "cell_type": "code",
      "execution_count": 7,
      "metadata": {
        "id": "SvNzs3QB71R6"
      },
      "outputs": [],
      "source": [
        "from tensorflow.keras.models import Sequential\n",
        "from tensorflow.keras.layers import Flatten, Dense\n",
        "import math\n",
        "\n",
        "img_size = 32*32*1\n",
        "\n",
        "# Perhitungan jumlah neuron pada lapisan tersembunyi\n",
        "r1 = (img_size/10) ** (1/2)\n",
        "r2 = (img_size/10) ** (1/3)\n",
        "\n",
        "hidden_neurons1 = 10 * r1**(2)\n",
        "hidden_neurons2 = 10 * r2**(1)\n",
        "\n",
        "model2f = Sequential()\n",
        "model2f.add(Flatten(input_shape=(32, 32, 1)))\n",
        "model2f.add(Dense(hidden_neurons1, activation='relu'))\n",
        "model2f.add(Dense(hidden_neurons2, activation='relu'))\n",
        "model2f.add(Dense(10, activation='softmax'))\n",
        "\n",
        "model2f.compile(optimizer='SGD', loss='categorical_crossentropy', metrics=['accuracy'])"
      ]
    },
    {
      "cell_type": "code",
      "execution_count": 8,
      "metadata": {
        "id": "RfHd4NJznjOh",
        "colab": {
          "base_uri": "https://localhost:8080/"
        },
        "outputId": "e8a0ea4b-f830-41b1-e162-98f23596cf4b"
      },
      "outputs": [
        {
          "output_type": "stream",
          "name": "stdout",
          "text": [
            "Model: \"sequential\"\n",
            "_________________________________________________________________\n",
            " Layer (type)                Output Shape              Param #   \n",
            "=================================================================\n",
            " flatten (Flatten)           (None, 1024)              0         \n",
            "                                                                 \n",
            " dense (Dense)               (None, 1024)              1049600   \n",
            "                                                                 \n",
            " dense_1 (Dense)             (None, 46)                47150     \n",
            "                                                                 \n",
            " dense_2 (Dense)             (None, 10)                470       \n",
            "                                                                 \n",
            "=================================================================\n",
            "Total params: 1097220 (4.19 MB)\n",
            "Trainable params: 1097220 (4.19 MB)\n",
            "Non-trainable params: 0 (0.00 Byte)\n",
            "_________________________________________________________________\n"
          ]
        }
      ],
      "source": [
        "model2f.summary()"
      ]
    },
    {
      "cell_type": "code",
      "execution_count": 9,
      "metadata": {
        "id": "I_Klj8ReYASB",
        "colab": {
          "base_uri": "https://localhost:8080/"
        },
        "outputId": "e21bd5df-e948-45e9-852e-c8831f00c1f4"
      },
      "outputs": [
        {
          "output_type": "stream",
          "name": "stdout",
          "text": [
            "Epoch 1/50\n",
            "177/177 [==============================] - 3s 15ms/step - loss: 2.0401 - accuracy: 0.2933\n",
            "Epoch 2/50\n",
            "177/177 [==============================] - 3s 19ms/step - loss: 1.9794 - accuracy: 0.3256\n",
            "Epoch 3/50\n",
            "177/177 [==============================] - 3s 15ms/step - loss: 1.9800 - accuracy: 0.3307\n",
            "Epoch 4/50\n",
            "177/177 [==============================] - 3s 15ms/step - loss: 1.9416 - accuracy: 0.3522\n",
            "Epoch 5/50\n",
            "177/177 [==============================] - 3s 15ms/step - loss: 1.9190 - accuracy: 0.3590\n",
            "Epoch 6/50\n",
            "177/177 [==============================] - 3s 19ms/step - loss: 1.9087 - accuracy: 0.3664\n",
            "Epoch 7/50\n",
            "177/177 [==============================] - 4s 21ms/step - loss: 1.9113 - accuracy: 0.3653\n",
            "Epoch 8/50\n",
            "177/177 [==============================] - 3s 15ms/step - loss: 1.9079 - accuracy: 0.3630\n",
            "Epoch 9/50\n",
            "177/177 [==============================] - 4s 22ms/step - loss: 1.8688 - accuracy: 0.3738\n",
            "Epoch 10/50\n",
            "177/177 [==============================] - 3s 15ms/step - loss: 1.8634 - accuracy: 0.3738\n",
            "Epoch 11/50\n",
            "177/177 [==============================] - 3s 15ms/step - loss: 1.8550 - accuracy: 0.3806\n",
            "Epoch 12/50\n",
            "177/177 [==============================] - 5s 27ms/step - loss: 1.8436 - accuracy: 0.3897\n",
            "Epoch 13/50\n",
            "177/177 [==============================] - 3s 15ms/step - loss: 1.8382 - accuracy: 0.3846\n",
            "Epoch 14/50\n",
            "177/177 [==============================] - 3s 15ms/step - loss: 1.8179 - accuracy: 0.3897\n",
            "Epoch 15/50\n",
            "177/177 [==============================] - 3s 15ms/step - loss: 1.8348 - accuracy: 0.3778\n",
            "Epoch 16/50\n",
            "177/177 [==============================] - 3s 18ms/step - loss: 1.7935 - accuracy: 0.4073\n",
            "Epoch 17/50\n",
            "177/177 [==============================] - 3s 15ms/step - loss: 1.7903 - accuracy: 0.3976\n",
            "Epoch 18/50\n",
            "177/177 [==============================] - 3s 15ms/step - loss: 1.7779 - accuracy: 0.4078\n",
            "Epoch 19/50\n",
            "177/177 [==============================] - 3s 16ms/step - loss: 1.7628 - accuracy: 0.4084\n",
            "Epoch 20/50\n",
            "177/177 [==============================] - 3s 15ms/step - loss: 1.7724 - accuracy: 0.4078\n",
            "Epoch 21/50\n",
            "177/177 [==============================] - 3s 15ms/step - loss: 1.7478 - accuracy: 0.4135\n",
            "Epoch 22/50\n",
            "177/177 [==============================] - 4s 24ms/step - loss: 1.7299 - accuracy: 0.4260\n",
            "Epoch 23/50\n",
            "177/177 [==============================] - 3s 15ms/step - loss: 1.7351 - accuracy: 0.4282\n",
            "Epoch 24/50\n",
            "177/177 [==============================] - 3s 15ms/step - loss: 1.6973 - accuracy: 0.4390\n",
            "Epoch 25/50\n",
            "177/177 [==============================] - 4s 20ms/step - loss: 1.6894 - accuracy: 0.4345\n",
            "Epoch 26/50\n",
            "177/177 [==============================] - 3s 15ms/step - loss: 1.6951 - accuracy: 0.4407\n",
            "Epoch 27/50\n",
            "177/177 [==============================] - 3s 15ms/step - loss: 1.7001 - accuracy: 0.4356\n",
            "Epoch 28/50\n",
            "177/177 [==============================] - 3s 19ms/step - loss: 1.6752 - accuracy: 0.4447\n",
            "Epoch 29/50\n",
            "177/177 [==============================] - 3s 15ms/step - loss: 1.6739 - accuracy: 0.4526\n",
            "Epoch 30/50\n",
            "177/177 [==============================] - 3s 15ms/step - loss: 1.6677 - accuracy: 0.4447\n",
            "Epoch 31/50\n",
            "177/177 [==============================] - 3s 18ms/step - loss: 1.6423 - accuracy: 0.4572\n",
            "Epoch 32/50\n",
            "177/177 [==============================] - 3s 20ms/step - loss: 1.6306 - accuracy: 0.4617\n",
            "Epoch 33/50\n",
            "177/177 [==============================] - 3s 15ms/step - loss: 1.6288 - accuracy: 0.4515\n",
            "Epoch 34/50\n",
            "177/177 [==============================] - 3s 15ms/step - loss: 1.6322 - accuracy: 0.4555\n",
            "Epoch 35/50\n",
            "177/177 [==============================] - 3s 15ms/step - loss: 1.6043 - accuracy: 0.4753\n",
            "Epoch 36/50\n",
            "177/177 [==============================] - 3s 19ms/step - loss: 1.6153 - accuracy: 0.4600\n",
            "Epoch 37/50\n",
            "177/177 [==============================] - 3s 15ms/step - loss: 1.5997 - accuracy: 0.4719\n",
            "Epoch 38/50\n",
            "177/177 [==============================] - 3s 15ms/step - loss: 1.5715 - accuracy: 0.4748\n",
            "Epoch 39/50\n",
            "177/177 [==============================] - 3s 19ms/step - loss: 1.5867 - accuracy: 0.4651\n",
            "Epoch 40/50\n",
            "177/177 [==============================] - 3s 15ms/step - loss: 1.5813 - accuracy: 0.4725\n",
            "Epoch 41/50\n",
            "177/177 [==============================] - 3s 15ms/step - loss: 1.5568 - accuracy: 0.4668\n",
            "Epoch 42/50\n",
            "177/177 [==============================] - 3s 15ms/step - loss: 1.5442 - accuracy: 0.4889\n",
            "Epoch 43/50\n",
            "177/177 [==============================] - 3s 19ms/step - loss: 1.5550 - accuracy: 0.4901\n",
            "Epoch 44/50\n",
            "177/177 [==============================] - 3s 19ms/step - loss: 1.5436 - accuracy: 0.4912\n",
            "Epoch 45/50\n",
            "177/177 [==============================] - 3s 15ms/step - loss: 1.5542 - accuracy: 0.4833\n",
            "Epoch 46/50\n",
            "177/177 [==============================] - 3s 16ms/step - loss: 1.5359 - accuracy: 0.5082\n",
            "Epoch 47/50\n",
            "177/177 [==============================] - 3s 17ms/step - loss: 1.5290 - accuracy: 0.5043\n",
            "Epoch 48/50\n",
            "177/177 [==============================] - 3s 15ms/step - loss: 1.5277 - accuracy: 0.4838\n",
            "Epoch 49/50\n",
            "177/177 [==============================] - 3s 15ms/step - loss: 1.5172 - accuracy: 0.4980\n",
            "Epoch 50/50\n",
            "177/177 [==============================] - 3s 16ms/step - loss: 1.5075 - accuracy: 0.5031\n"
          ]
        }
      ],
      "source": [
        "history = model2f.fit(train_generator, epochs=50, verbose = 1)"
      ]
    },
    {
      "cell_type": "markdown",
      "metadata": {
        "id": "6VOcIXg0IvCs"
      },
      "source": [
        "#Matriks Konfusi"
      ]
    },
    {
      "cell_type": "code",
      "execution_count": 31,
      "metadata": {
        "id": "Lz5lA0bDIxJg",
        "colab": {
          "base_uri": "https://localhost:8080/",
          "height": 617
        },
        "outputId": "f0c80388-8f44-45c0-dfe3-edfcf7eb8c37"
      },
      "outputs": [
        {
          "output_type": "stream",
          "name": "stdout",
          "text": [
            "45/45 [==============================] - 1s 16ms/step\n"
          ]
        },
        {
          "output_type": "display_data",
          "data": {
            "text/plain": [
              "<Figure size 800x600 with 2 Axes>"
            ],
            "image/png": "[encoded data removed]"
          },
          "metadata": {}
        }
      ],
      "source": [
        "from sklearn.metrics import confusion_matrix, classification_report\n",
        "import seaborn as sns\n",
        "import matplotlib.pyplot as plt\n",
        "\n",
        "# Fungsi untuk mendapatkan prediksi model dan label sebenarnya\n",
        "def get_predictions_and_labels(model, data_generator):\n",
        "    predictions = model.predict(data_generator)\n",
        "    true_classes = data_generator.classes\n",
        "    return predictions, true_classes\n",
        "\n",
        "# Mendapatkan prediksi dan label sebenarnya untuk data uji\n",
        "y_pred_prob, y_true = get_predictions_and_labels(model2f, test_generator)\n",
        "\n",
        "# Membuat matriks konfusi\n",
        "cf_matrix = confusion_matrix(y_true, y_pred)\n",
        "\n",
        "# Membuat visualisasi matriks konfusi\n",
        "fig, ax = plt.subplots(figsize=(8, 6))\n",
        "sns.heatmap(cf_matrix, annot=True, fmt='g', cmap='Blues', ax=ax)\n",
        "\n",
        "# Menetapkan label dan judul\n",
        "ax.set_title('Confusion Matrix with labels')\n",
        "ax.set_xlabel('Predicted Values')\n",
        "ax.set_ylabel('Actual Values')\n",
        "\n",
        "# Menetapkan label pada sumbu x dan y sesuai dengan jenis kelas\n",
        "ax.xaxis.set_ticklabels(class_labels, rotation=45)\n",
        "ax.yaxis.set_ticklabels(class_labels, rotation=45)\n",
        "\n",
        "# Menampilkan visualisasi Matriks Konfusi\n",
        "plt.show()"
      ]
    },
    {
      "cell_type": "code",
      "execution_count": 32,
      "metadata": {
        "id": "S7iwBJlGZEUM",
        "colab": {
          "base_uri": "https://localhost:8080/"
        },
        "outputId": "5dcc3f35-473c-43a7-c443-0b1113b12eda"
      },
      "outputs": [
        {
          "output_type": "stream",
          "name": "stdout",
          "text": [
            "AUC ROC Score: 0.5230623471505853\n",
            "Accuracy: 0.20449438202247192\n"
          ]
        }
      ],
      "source": [
        "from sklearn.metrics import roc_auc_score\n",
        "from sklearn.metrics import accuracy_score\n",
        "\n",
        "y_pred = np.argmax(y_pred_prob, axis=1)\n",
        "\n",
        "auc_roc_score = roc_auc_score(y_true, y_pred_prob, multi_class='ovr')\n",
        "print(f\"AUC ROC Score: {auc_roc_score}\")\n",
        "accuracy = accuracy_score(y_true, y_pred)\n",
        "print(f\"Accuracy: {accuracy}\")"
      ]
    }
  ],
  "metadata": {
    "colab": {
      "provenance": [],
      "include_colab_link": true
    },
    "kernelspec": {
      "display_name": "Python 3",
      "name": "python3"
    },
    "language_info": {
      "name": "python"
    }
  },
  "nbformat": 4,
  "nbformat_minor": 0
}