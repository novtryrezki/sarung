{
  "nbformat": 4,
  "nbformat_minor": 0,
  "metadata": {
    "colab": {
      "provenance": [],
      "include_colab_link": true
    },
    "kernelspec": {
      "name": "python3",
      "display_name": "Python 3"
    },
    "language_info": {
      "name": "python"
    }
  },
  "cells": [
    {
      "cell_type": "markdown",
      "metadata": {
        "id": "view-in-github",
        "colab_type": "text"
      },
      "source": [
        "<a href=\"https://colab.research.google.com/github/novtryrezki/sarung/blob/main/1CNN_bs_10_ep_50.ipynb\" target=\"_parent\"><img src=\"https://colab.research.google.com/assets/colab-badge.svg\" alt=\"Open In Colab\"/></a>"
      ]
    },
    {
      "cell_type": "code",
      "execution_count": null,
      "metadata": {
        "id": "Gj0QELQHjUVZ"
      },
      "outputs": [],
      "source": [
        "import os\n",
        "import zipfile\n",
        "import random\n",
        "import shutil\n",
        "import numpy as np\n",
        "import tensorflow as tf\n",
        "import pandas as pd\n",
        "from google.colab import drive\n",
        "from sklearn.model_selection import train_test_split"
      ]
    },
    {
      "cell_type": "code",
      "source": [
        "# Melakukan mount pada Google Drive\n",
        "drive.mount('/content/drive')\n",
        "\n",
        "# Menentukan path file ZIP di Google Drive\n",
        "zip_path = '/content/drive/MyDrive/images.zip'\n",
        "\n",
        "# Membuat objek zip_ref\n",
        "zip_ref = zipfile.ZipFile(zip_path, 'r')\n",
        "\n",
        "# Mengekstrak file ZIP\n",
        "extract_path ='/content/images'\n",
        "zip_ref.extractall(extract_path)\n",
        "\n",
        "# Tutup objek zip_ref setelah selesai\n",
        "zip_ref.close()"
      ],
      "metadata": {
        "colab": {
          "base_uri": "https://localhost:8080/"
        },
        "id": "HXtZwYwdjXH4",
        "outputId": "c6f71239-83d3-45c2-e6e2-f91415b5162d"
      },
      "execution_count": null,
      "outputs": [
        {
          "output_type": "stream",
          "name": "stdout",
          "text": [
            "Mounted at /content/drive\n"
          ]
        }
      ]
    },
    {
      "cell_type": "code",
      "source": [
        "# Mendefinisikan path direktori dataset\n",
        "dataset_dir = os.path.join(extract_path, 'images')\n",
        "train_dir = os.path.join(dataset_dir, 'train')\n",
        "test_dir = os.path.join(dataset_dir, 'test')\n",
        "list_train = sorted(os.listdir(train_dir))\n",
        "list_test = sorted(os.listdir(test_dir))\n",
        "\n",
        "print(\"Daftar Angka pada Dataset Train yaitu : \", list_train)\n",
        "print(\"Daftar Angka pada Dataset Test yaitu : \", list_test)"
      ],
      "metadata": {
        "colab": {
          "base_uri": "https://localhost:8080/"
        },
        "id": "P9SpMwZxCMpv",
        "outputId": "0eb1d63d-8e28-4d1a-b727-849b369c5cfa"
      },
      "execution_count": null,
      "outputs": [
        {
          "output_type": "stream",
          "name": "stdout",
          "text": [
            "Daftar Angka pada Dataset Train yaitu :  ['angka 0', 'angka 1', 'angka 2', 'angka 3', 'angka 4', 'angka 5', 'angka 6', 'angka 7', 'angka 8', 'angka 9']\n",
            "Daftar Angka pada Dataset Test yaitu :  ['angka 0', 'angka 1', 'angka 2', 'angka 3', 'angka 4', 'angka 5', 'angka 6', 'angka 7', 'angka 8', 'angka 9']\n"
          ]
        }
      ]
    },
    {
      "cell_type": "code",
      "source": [
        "def count_images(directory):\n",
        "    return sum(1 for file in os.listdir(directory) if file.endswith(('.jpg', '.jpeg', '.png', '.gif')))\n",
        "\n",
        "# Menghitung jumlah gambar di data train\n",
        "train_image_count = sum(count_images(os.path.join(train_dir, angka)) for angka in list_train)\n",
        "\n",
        "# Menghitung jumlah gambar di data test\n",
        "test_image_count = sum(count_images(os.path.join(test_dir, angka)) for angka in list_test)\n",
        "\n",
        "print(f\"Jumlah gambar di Dataset Train: {train_image_count}\")\n",
        "print(f\"Jumlah gambar di Dataset Test: {test_image_count}\")"
      ],
      "metadata": {
        "colab": {
          "base_uri": "https://localhost:8080/"
        },
        "id": "JycQg0kGCHHe",
        "outputId": "ae591e23-5785-4cd7-e103-fd216ee43725"
      },
      "execution_count": null,
      "outputs": [
        {
          "output_type": "stream",
          "name": "stdout",
          "text": [
            "Jumlah gambar di Dataset Train: 1763\n",
            "Jumlah gambar di Dataset Test: 445\n"
          ]
        }
      ]
    },
    {
      "cell_type": "markdown",
      "source": [
        "# Preprocessing"
      ],
      "metadata": {
        "id": "Cs-YBymEElj8"
      }
    },
    {
      "cell_type": "code",
      "source": [
        "import cv2\n",
        "\n",
        "def resize_images(directory, target_resolution):\n",
        "    for angka in os.listdir(directory):\n",
        "        angka_dir = os.path.join(directory, angka)\n",
        "        for file_name in os.listdir(angka_dir):\n",
        "            file_path = os.path.join(angka_dir, file_name)\n",
        "            img = cv2.imread(file_path)\n",
        "            resized_img = cv2.resize(img, (target_resolution, target_resolution))\n",
        "            cv2.imwrite(file_path, resized_img)\n",
        "\n",
        "target_resolution = 256\n",
        "resize_images(train_dir, target_resolution)\n",
        "resize_images(test_dir, target_resolution)"
      ],
      "metadata": {
        "id": "j-iPjxpXF_bf"
      },
      "execution_count": null,
      "outputs": []
    },
    {
      "cell_type": "code",
      "source": [
        "from tensorflow.keras.preprocessing.image import ImageDataGenerator\n",
        "\n",
        "# Membuat generator data dengan augmentasi\n",
        "image_size = (256, 256)\n",
        "batch_size = 10\n",
        "\n",
        "train_datagen = ImageDataGenerator(\n",
        "    rescale = 1./255,\n",
        "    rotation_range = 90,\n",
        "    width_shift_range = 0.2,\n",
        "    height_shift_range = 0.2,\n",
        "    zoom_range = 0.2,\n",
        ")\n",
        "\n",
        "test_datagen = ImageDataGenerator(\n",
        "    rescale=1./255,\n",
        ")\n",
        "\n",
        "train_generator = train_datagen.flow_from_directory(\n",
        "    train_dir,\n",
        "    target_size=image_size,\n",
        "    batch_size=batch_size,\n",
        "    class_mode='categorical',\n",
        "    color_mode='grayscale'\n",
        ")\n",
        "\n",
        "test_generator = test_datagen.flow_from_directory(\n",
        "    test_dir,\n",
        "    target_size=image_size,\n",
        "    batch_size=batch_size,\n",
        "    class_mode='categorical',\n",
        "    color_mode='grayscale'\n",
        ")"
      ],
      "metadata": {
        "colab": {
          "base_uri": "https://localhost:8080/"
        },
        "id": "MrR6ROkiF9Uj",
        "outputId": "c31928fc-f82d-474d-d1e1-dd0c92517d2b"
      },
      "execution_count": null,
      "outputs": [
        {
          "output_type": "stream",
          "name": "stdout",
          "text": [
            "Found 1763 images belonging to 10 classes.\n",
            "Found 445 images belonging to 10 classes.\n"
          ]
        }
      ]
    },
    {
      "cell_type": "markdown",
      "source": [
        "# Membuat Model CNN"
      ],
      "metadata": {
        "id": "gPqE7ywQJ01c"
      }
    },
    {
      "cell_type": "code",
      "source": [
        "from tensorflow.keras.models import Sequential\n",
        "from tensorflow.keras.layers import Conv2D, AveragePooling2D, Flatten, Dense\n",
        "import math\n",
        "\n",
        "img_size = 256*256*1\n",
        "\n",
        "# Perhitungan jumlah neuron pada lapisan tersembunyi\n",
        "hidden_neurons = int(math.sqrt(img_size * 10))\n",
        "\n",
        "model1c = Sequential()\n",
        "model1c.add(Conv2D(32, (3, 3), input_shape=(256, 256, 1)))\n",
        "model1c.add(AveragePooling2D((2, 2)))\n",
        "model1c.add(Conv2D(64, (3, 3), activation='relu'))\n",
        "model1c.add(AveragePooling2D((2, 2)))\n",
        "model1c.add(Flatten())\n",
        "model1c.add(Dense(hidden_neurons, activation='relu'))\n",
        "model1c.add(Dense(10, activation='softmax'))\n",
        "\n",
        "model1c.compile(optimizer='SGD', loss='categorical_crossentropy', metrics=['accuracy'])"
      ],
      "metadata": {
        "id": "SvNzs3QB71R6"
      },
      "execution_count": null,
      "outputs": []
    },
    {
      "cell_type": "code",
      "source": [
        "model1c.summary()"
      ],
      "metadata": {
        "colab": {
          "base_uri": "https://localhost:8080/"
        },
        "id": "RfHd4NJznjOh",
        "outputId": "14f53f02-e477-4080-979a-98807b3fa1a6"
      },
      "execution_count": null,
      "outputs": [
        {
          "output_type": "stream",
          "name": "stdout",
          "text": [
            "Model: \"sequential\"\n",
            "_________________________________________________________________\n",
            " Layer (type)                Output Shape              Param #   \n",
            "=================================================================\n",
            " conv2d (Conv2D)             (None, 254, 254, 32)      320       \n",
            "                                                                 \n",
            " average_pooling2d (Average  (None, 127, 127, 32)      0         \n",
            " Pooling2D)                                                      \n",
            "                                                                 \n",
            " conv2d_1 (Conv2D)           (None, 125, 125, 64)      18496     \n",
            "                                                                 \n",
            " average_pooling2d_1 (Avera  (None, 62, 62, 64)        0         \n",
            " gePooling2D)                                                    \n",
            "                                                                 \n",
            " flatten (Flatten)           (None, 246016)            0         \n",
            "                                                                 \n",
            " dense (Dense)               (None, 809)               199027753 \n",
            "                                                                 \n",
            " dense_1 (Dense)             (None, 10)                8100      \n",
            "                                                                 \n",
            "=================================================================\n",
            "Total params: 199054669 (759.33 MB)\n",
            "Trainable params: 199054669 (759.33 MB)\n",
            "Non-trainable params: 0 (0.00 Byte)\n",
            "_________________________________________________________________\n"
          ]
        }
      ]
    },
    {
      "cell_type": "code",
      "source": [
        "history = model1c.fit(train_generator, epochs=50, verbose = 1)"
      ],
      "metadata": {
        "colab": {
          "base_uri": "https://localhost:8080/"
        },
        "id": "I_Klj8ReYASB",
        "outputId": "0736edfc-0eeb-4582-8cf8-3ffd53cd7e2d"
      },
      "execution_count": null,
      "outputs": [
        {
          "output_type": "stream",
          "name": "stdout",
          "text": [
            "Epoch 1/50\n",
            "177/177 [==============================] - 454s 3s/step - loss: 2.0518 - accuracy: 0.2915\n",
            "Epoch 2/50\n",
            "177/177 [==============================] - 447s 3s/step - loss: 1.9929 - accuracy: 0.3358\n",
            "Epoch 3/50\n",
            "177/177 [==============================] - 447s 3s/step - loss: 1.9530 - accuracy: 0.3488\n",
            "Epoch 4/50\n",
            "177/177 [==============================] - 441s 2s/step - loss: 1.9114 - accuracy: 0.3539\n",
            "Epoch 5/50\n",
            "177/177 [==============================] - 445s 3s/step - loss: 1.8645 - accuracy: 0.3755\n",
            "Epoch 6/50\n",
            "177/177 [==============================] - 443s 2s/step - loss: 1.8009 - accuracy: 0.4027\n",
            "Epoch 7/50\n",
            "177/177 [==============================] - 446s 3s/step - loss: 1.6996 - accuracy: 0.4260\n",
            "Epoch 8/50\n",
            "177/177 [==============================] - 439s 2s/step - loss: 1.6322 - accuracy: 0.4606\n",
            "Epoch 9/50\n",
            "177/177 [==============================] - 445s 3s/step - loss: 1.5512 - accuracy: 0.5003\n",
            "Epoch 10/50\n",
            "177/177 [==============================] - 450s 3s/step - loss: 1.4808 - accuracy: 0.5292\n",
            "Epoch 11/50\n",
            "177/177 [==============================] - 441s 2s/step - loss: 1.4170 - accuracy: 0.5485\n",
            "Epoch 12/50\n",
            "177/177 [==============================] - 448s 3s/step - loss: 1.3987 - accuracy: 0.5445\n",
            "Epoch 13/50\n",
            "177/177 [==============================] - 447s 3s/step - loss: 1.3446 - accuracy: 0.5678\n",
            "Epoch 14/50\n",
            "177/177 [==============================] - 444s 3s/step - loss: 1.3274 - accuracy: 0.5712\n",
            "Epoch 15/50\n",
            "177/177 [==============================] - 447s 3s/step - loss: 1.2885 - accuracy: 0.5893\n",
            "Epoch 16/50\n",
            "177/177 [==============================] - 444s 3s/step - loss: 1.2580 - accuracy: 0.5967\n",
            "Epoch 17/50\n",
            "177/177 [==============================] - 445s 3s/step - loss: 1.2324 - accuracy: 0.5995\n",
            "Epoch 18/50\n",
            "177/177 [==============================] - 445s 3s/step - loss: 1.2095 - accuracy: 0.6058\n",
            "Epoch 19/50\n",
            "177/177 [==============================] - 445s 3s/step - loss: 1.1959 - accuracy: 0.6166\n",
            "Epoch 20/50\n",
            "177/177 [==============================] - 444s 3s/step - loss: 1.1928 - accuracy: 0.6137\n",
            "Epoch 21/50\n",
            "177/177 [==============================] - 447s 3s/step - loss: 1.1328 - accuracy: 0.6324\n",
            "Epoch 22/50\n",
            "177/177 [==============================] - 445s 3s/step - loss: 1.1539 - accuracy: 0.6364\n",
            "Epoch 23/50\n",
            "177/177 [==============================] - 444s 3s/step - loss: 1.1622 - accuracy: 0.6330\n",
            "Epoch 24/50\n",
            "177/177 [==============================] - 447s 3s/step - loss: 1.1301 - accuracy: 0.6336\n",
            "Epoch 25/50\n",
            "177/177 [==============================] - 446s 3s/step - loss: 1.1319 - accuracy: 0.6421\n",
            "Epoch 26/50\n",
            "177/177 [==============================] - 440s 2s/step - loss: 1.0704 - accuracy: 0.6495\n",
            "Epoch 27/50\n",
            "177/177 [==============================] - 450s 3s/step - loss: 1.0986 - accuracy: 0.6517\n",
            "Epoch 28/50\n",
            "177/177 [==============================] - 446s 3s/step - loss: 1.0404 - accuracy: 0.6642\n",
            "Epoch 29/50\n",
            "177/177 [==============================] - 442s 2s/step - loss: 1.0355 - accuracy: 0.6682\n",
            "Epoch 30/50\n",
            "177/177 [==============================] - 441s 2s/step - loss: 1.0442 - accuracy: 0.6750\n",
            "Epoch 31/50\n",
            "177/177 [==============================] - 439s 2s/step - loss: 1.0479 - accuracy: 0.6659\n",
            "Epoch 32/50\n",
            "177/177 [==============================] - 446s 3s/step - loss: 1.0379 - accuracy: 0.6631\n",
            "Epoch 33/50\n",
            "177/177 [==============================] - 449s 3s/step - loss: 1.0299 - accuracy: 0.6739\n",
            "Epoch 34/50\n",
            "177/177 [==============================] - 442s 2s/step - loss: 1.0090 - accuracy: 0.6852\n",
            "Epoch 35/50\n",
            "177/177 [==============================] - 445s 3s/step - loss: 1.0227 - accuracy: 0.6670\n",
            "Epoch 36/50\n",
            "177/177 [==============================] - 446s 3s/step - loss: 0.9951 - accuracy: 0.6841\n",
            "Epoch 37/50\n",
            "177/177 [==============================] - 445s 3s/step - loss: 0.9848 - accuracy: 0.6909\n",
            "Epoch 38/50\n",
            "177/177 [==============================] - 443s 3s/step - loss: 0.9573 - accuracy: 0.6931\n",
            "Epoch 39/50\n",
            "177/177 [==============================] - 443s 2s/step - loss: 0.9887 - accuracy: 0.6920\n",
            "Epoch 40/50\n",
            "177/177 [==============================] - 447s 3s/step - loss: 0.9779 - accuracy: 0.6937\n",
            "Epoch 41/50\n",
            "177/177 [==============================] - 444s 3s/step - loss: 0.9443 - accuracy: 0.6982\n",
            "Epoch 42/50\n",
            "177/177 [==============================] - 443s 3s/step - loss: 0.9501 - accuracy: 0.6994\n",
            "Epoch 43/50\n",
            "177/177 [==============================] - 445s 3s/step - loss: 0.9415 - accuracy: 0.6994\n",
            "Epoch 44/50\n",
            "177/177 [==============================] - 444s 3s/step - loss: 0.9307 - accuracy: 0.7039\n",
            "Epoch 45/50\n",
            "177/177 [==============================] - 445s 3s/step - loss: 0.9205 - accuracy: 0.7045\n",
            "Epoch 46/50\n",
            "177/177 [==============================] - 444s 3s/step - loss: 0.8991 - accuracy: 0.7062\n",
            "Epoch 47/50\n",
            "177/177 [==============================] - 445s 3s/step - loss: 0.9126 - accuracy: 0.7085\n",
            "Epoch 48/50\n",
            "177/177 [==============================] - 445s 3s/step - loss: 0.8966 - accuracy: 0.7124\n",
            "Epoch 49/50\n",
            "177/177 [==============================] - 442s 2s/step - loss: 0.9527 - accuracy: 0.6994\n",
            "Epoch 50/50\n",
            "177/177 [==============================] - 449s 3s/step - loss: 0.9258 - accuracy: 0.7045\n"
          ]
        }
      ]
    },
    {
      "cell_type": "markdown",
      "source": [
        "#Matriks Konfusi"
      ],
      "metadata": {
        "id": "6VOcIXg0IvCs"
      }
    },
    {
      "cell_type": "code",
      "source": [
        "from sklearn.metrics import confusion_matrix, classification_report\n",
        "import seaborn as sns\n",
        "import matplotlib.pyplot as plt\n",
        "\n",
        "# Fungsi untuk mendapatkan prediksi model dan label sebenarnya\n",
        "def get_predictions_and_labels(model, data_generator):\n",
        "    predictions = model.predict(data_generator)\n",
        "    predicted_classes = np.argmax(predictions, axis=1)\n",
        "    true_classes = data_generator.classes\n",
        "    class_labels = list(data_generator.class_indices.keys())\n",
        "    return predicted_classes, true_classes, class_labels\n",
        "\n",
        "# Mendapatkan prediksi dan label sebenarnya untuk data uji\n",
        "y_pred, y_true, class_labels = get_predictions_and_labels(model1c, test_generator)\n",
        "\n",
        "# Membuat matriks konfusi\n",
        "cf_matrix = confusion_matrix(y_true, y_pred)\n",
        "\n",
        "# Membuat visualisasi matriks konfusi\n",
        "fig, ax = plt.subplots(figsize=(8, 6))\n",
        "sns.heatmap(cf_matrix, annot=True, fmt='g', cmap='Blues', ax=ax)\n",
        "\n",
        "# Menetapkan label dan judul\n",
        "ax.set_title('Confusion Matrix with labels')\n",
        "ax.set_xlabel('Predicted Values')\n",
        "ax.set_ylabel('Actual Values')\n",
        "\n",
        "# Menetapkan label pada sumbu x dan y sesuai dengan jenis kelas\n",
        "ax.xaxis.set_ticklabels(class_labels, rotation=45)\n",
        "ax.yaxis.set_ticklabels(class_labels, rotation=45)\n",
        "\n",
        "# Menampilkan visualisasi Matriks Konfusi\n",
        "plt.show()"
      ],
      "metadata": {
        "colab": {
          "base_uri": "https://localhost:8080/",
          "height": 617
        },
        "id": "Lz5lA0bDIxJg",
        "outputId": "461b134c-1cf9-4247-aee6-55f55f35a202"
      },
      "execution_count": null,
      "outputs": [
        {
          "output_type": "stream",
          "name": "stdout",
          "text": [
            "45/45 [==============================] - 21s 459ms/step\n"
          ]
        },
        {
          "output_type": "display_data",
          "data": {
            "text/plain": [
              "<Figure size 800x600 with 2 Axes>"
            ],
            "image/png": "[encoded data removed]"
          },
          "metadata": {}
        }
      ]
    },
    {
      "cell_type": "code",
      "source": [
        "from sklearn.metrics import accuracy_score\n",
        "\n",
        "test_accuracy = accuracy_score(y_true, y_pred)\n",
        "print(f\"Test Accuracy: {test_accuracy}\")"
      ],
      "metadata": {
        "colab": {
          "base_uri": "https://localhost:8080/"
        },
        "id": "S7iwBJlGZEUM",
        "outputId": "1bb8f74f-adac-4d99-ae25-75699bc4888c"
      },
      "execution_count": null,
      "outputs": [
        {
          "output_type": "stream",
          "name": "stdout",
          "text": [
            "Test Accuracy: 0.21123595505617979\n"
          ]
        }
      ]
    }
  ]
}