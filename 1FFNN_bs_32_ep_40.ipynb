{
  "cells": [
    {
      "cell_type": "markdown",
      "metadata": {
        "id": "view-in-github",
        "colab_type": "text"
      },
      "source": [
        "<a href=\"https://colab.research.google.com/github/novtryrezki/sarung/blob/main/1FFNN_bs_32_ep_40.ipynb\" target=\"_parent\"><img src=\"https://colab.research.google.com/assets/colab-badge.svg\" alt=\"Open In Colab\"/></a>"
      ]
    },
    {
      "cell_type": "code",
      "execution_count": 1,
      "metadata": {
        "id": "Gj0QELQHjUVZ"
      },
      "outputs": [],
      "source": [
        "import os\n",
        "import zipfile\n",
        "import random\n",
        "import shutil\n",
        "import numpy as np\n",
        "import tensorflow as tf\n",
        "import pandas as pd\n",
        "from google.colab import drive\n",
        "from sklearn.model_selection import train_test_split"
      ]
    },
    {
      "cell_type": "code",
      "execution_count": 2,
      "metadata": {
        "colab": {
          "base_uri": "https://localhost:8080/"
        },
        "id": "HXtZwYwdjXH4",
        "outputId": "8d202bb5-6bcd-4131-f5fc-36cad391c004"
      },
      "outputs": [
        {
          "output_type": "stream",
          "name": "stdout",
          "text": [
            "Mounted at /content/drive\n"
          ]
        }
      ],
      "source": [
        "# Melakukan mount pada Google Drive\n",
        "drive.mount('/content/drive')\n",
        "\n",
        "# Menentukan path file ZIP di Google Drive\n",
        "zip_path = '/content/drive/MyDrive/images.zip'\n",
        "\n",
        "# Membuat objek zip_ref\n",
        "zip_ref = zipfile.ZipFile(zip_path, 'r')\n",
        "\n",
        "# Mengekstrak file ZIP\n",
        "extract_path ='/content/images'\n",
        "zip_ref.extractall(extract_path)\n",
        "\n",
        "# Tutup objek zip_ref setelah selesai\n",
        "zip_ref.close()"
      ]
    },
    {
      "cell_type": "code",
      "execution_count": 3,
      "metadata": {
        "colab": {
          "base_uri": "https://localhost:8080/"
        },
        "id": "P9SpMwZxCMpv",
        "outputId": "ee0ae571-f8b4-4956-a32a-1d7685d7f5aa"
      },
      "outputs": [
        {
          "output_type": "stream",
          "name": "stdout",
          "text": [
            "Daftar Angka pada Dataset Train yaitu :  ['angka 0', 'angka 1', 'angka 2', 'angka 3', 'angka 4', 'angka 5', 'angka 6', 'angka 7', 'angka 8', 'angka 9']\n",
            "Daftar Angka pada Dataset Test yaitu :  ['angka 0', 'angka 1', 'angka 2', 'angka 3', 'angka 4', 'angka 5', 'angka 6', 'angka 7', 'angka 8', 'angka 9']\n"
          ]
        }
      ],
      "source": [
        "# Mendefinisikan path direktori dataset\n",
        "dataset_dir = os.path.join(extract_path, 'images')\n",
        "train_dir = os.path.join(dataset_dir, 'train')\n",
        "test_dir = os.path.join(dataset_dir, 'test')\n",
        "list_train = sorted(os.listdir(train_dir))\n",
        "list_test = sorted(os.listdir(test_dir))\n",
        "\n",
        "print(\"Daftar Angka pada Dataset Train yaitu : \", list_train)\n",
        "print(\"Daftar Angka pada Dataset Test yaitu : \", list_test)"
      ]
    },
    {
      "cell_type": "code",
      "execution_count": 4,
      "metadata": {
        "colab": {
          "base_uri": "https://localhost:8080/"
        },
        "id": "JycQg0kGCHHe",
        "outputId": "8b4a4f48-9167-4475-9132-621addef394f"
      },
      "outputs": [
        {
          "output_type": "stream",
          "name": "stdout",
          "text": [
            "Jumlah gambar di Dataset Train: 1763\n",
            "Jumlah gambar di Dataset Test: 445\n"
          ]
        }
      ],
      "source": [
        "def count_images(directory):\n",
        "    return sum(1 for file in os.listdir(directory) if file.endswith(('.jpg', '.jpeg', '.png', '.gif')))\n",
        "\n",
        "# Menghitung jumlah gambar di data train\n",
        "train_image_count = sum(count_images(os.path.join(train_dir, angka)) for angka in list_train)\n",
        "\n",
        "# Menghitung jumlah gambar di data test\n",
        "test_image_count = sum(count_images(os.path.join(test_dir, angka)) for angka in list_test)\n",
        "\n",
        "print(f\"Jumlah gambar di Dataset Train: {train_image_count}\")\n",
        "print(f\"Jumlah gambar di Dataset Test: {test_image_count}\")"
      ]
    },
    {
      "cell_type": "markdown",
      "metadata": {
        "id": "Cs-YBymEElj8"
      },
      "source": [
        "# Preprocessing"
      ]
    },
    {
      "cell_type": "code",
      "execution_count": 5,
      "metadata": {
        "id": "j-iPjxpXF_bf"
      },
      "outputs": [],
      "source": [
        "import cv2\n",
        "\n",
        "def resize_images(directory, target_resolution):\n",
        "    for angka in os.listdir(directory):\n",
        "        angka_dir = os.path.join(directory, angka)\n",
        "        for file_name in os.listdir(angka_dir):\n",
        "            file_path = os.path.join(angka_dir, file_name)\n",
        "            img = cv2.imread(file_path)\n",
        "            resized_img = cv2.resize(img, (target_resolution, target_resolution))\n",
        "            cv2.imwrite(file_path, resized_img)\n",
        "\n",
        "target_resolution = 32\n",
        "resize_images(train_dir, target_resolution)\n",
        "resize_images(test_dir, target_resolution)"
      ]
    },
    {
      "cell_type": "code",
      "execution_count": 6,
      "metadata": {
        "colab": {
          "base_uri": "https://localhost:8080/"
        },
        "id": "MrR6ROkiF9Uj",
        "outputId": "af08a94b-0d61-439a-d56e-5c80d8a62b3d"
      },
      "outputs": [
        {
          "output_type": "stream",
          "name": "stdout",
          "text": [
            "Found 1763 images belonging to 10 classes.\n",
            "Found 445 images belonging to 10 classes.\n"
          ]
        }
      ],
      "source": [
        "from tensorflow.keras.preprocessing.image import ImageDataGenerator\n",
        "\n",
        "# Membuat generator data dengan augmentasi\n",
        "image_size = (32, 32)\n",
        "batch_size = 32\n",
        "\n",
        "train_datagen = ImageDataGenerator(\n",
        "    rescale = 1./255,\n",
        "    rotation_range = 90,\n",
        "    width_shift_range = 0.2,\n",
        "    height_shift_range = 0.2,\n",
        "    zoom_range = 0.2,\n",
        ")\n",
        "\n",
        "test_datagen = ImageDataGenerator(\n",
        "    rescale=1./255,\n",
        ")\n",
        "\n",
        "train_generator = train_datagen.flow_from_directory(\n",
        "    train_dir,\n",
        "    target_size=image_size,\n",
        "    batch_size=batch_size,\n",
        "    class_mode='categorical',\n",
        "    color_mode='grayscale'\n",
        ")\n",
        "\n",
        "test_generator = test_datagen.flow_from_directory(\n",
        "    test_dir,\n",
        "    target_size=image_size,\n",
        "    batch_size=batch_size,\n",
        "    class_mode='categorical',\n",
        "    color_mode='grayscale'\n",
        ")"
      ]
    },
    {
      "cell_type": "markdown",
      "metadata": {
        "id": "gPqE7ywQJ01c"
      },
      "source": [
        "# Membuat Model CNN"
      ]
    },
    {
      "cell_type": "code",
      "execution_count": 7,
      "metadata": {
        "id": "SvNzs3QB71R6"
      },
      "outputs": [],
      "source": [
        "from tensorflow.keras.models import Sequential\n",
        "from tensorflow.keras.layers import Conv2D, AveragePooling2D, Flatten, Dense\n",
        "import math\n",
        "\n",
        "img_size = 32*32*1\n",
        "\n",
        "# Perhitungan jumlah neuron pada lapisan tersembunyi\n",
        "hidden_neurons = int(math.sqrt(img_size * batch_size))\n",
        "\n",
        "model1f = Sequential()\n",
        "model1f.add(Flatten(input_shape=(32, 32, 1)))\n",
        "model1f.add(Dense(hidden_neurons, activation='relu'))\n",
        "model1f.add(Dense(10, activation='softmax'))\n",
        "\n",
        "model1f.compile(optimizer='SGD', loss='categorical_crossentropy', metrics=['accuracy'])"
      ]
    },
    {
      "cell_type": "code",
      "execution_count": 8,
      "metadata": {
        "colab": {
          "base_uri": "https://localhost:8080/"
        },
        "id": "RfHd4NJznjOh",
        "outputId": "c498e10f-b405-4488-e394-e13b379183ef"
      },
      "outputs": [
        {
          "output_type": "stream",
          "name": "stdout",
          "text": [
            "Model: \"sequential\"\n",
            "_________________________________________________________________\n",
            " Layer (type)                Output Shape              Param #   \n",
            "=================================================================\n",
            " flatten (Flatten)           (None, 1024)              0         \n",
            "                                                                 \n",
            " dense (Dense)               (None, 181)               185525    \n",
            "                                                                 \n",
            " dense_1 (Dense)             (None, 10)                1820      \n",
            "                                                                 \n",
            "=================================================================\n",
            "Total params: 187345 (731.82 KB)\n",
            "Trainable params: 187345 (731.82 KB)\n",
            "Non-trainable params: 0 (0.00 Byte)\n",
            "_________________________________________________________________\n"
          ]
        }
      ],
      "source": [
        "model1f.summary()"
      ]
    },
    {
      "cell_type": "code",
      "execution_count": 9,
      "metadata": {
        "colab": {
          "base_uri": "https://localhost:8080/"
        },
        "id": "I_Klj8ReYASB",
        "outputId": "eda4158c-6707-449c-e9fe-644128d9e643"
      },
      "outputs": [
        {
          "output_type": "stream",
          "name": "stdout",
          "text": [
            "Epoch 1/40\n",
            "56/56 [==============================] - 3s 42ms/step - loss: 2.1108 - accuracy: 0.2530\n",
            "Epoch 2/40\n",
            "56/56 [==============================] - 2s 30ms/step - loss: 2.0147 - accuracy: 0.3199\n",
            "Epoch 3/40\n",
            "56/56 [==============================] - 2s 30ms/step - loss: 2.0073 - accuracy: 0.3227\n",
            "Epoch 4/40\n",
            "56/56 [==============================] - 2s 29ms/step - loss: 1.9865 - accuracy: 0.3335\n",
            "Epoch 5/40\n",
            "56/56 [==============================] - 2s 29ms/step - loss: 1.9498 - accuracy: 0.3517\n",
            "Epoch 6/40\n",
            "56/56 [==============================] - 2s 38ms/step - loss: 1.9558 - accuracy: 0.3539\n",
            "Epoch 7/40\n",
            "56/56 [==============================] - 2s 39ms/step - loss: 1.9372 - accuracy: 0.3556\n",
            "Epoch 8/40\n",
            "56/56 [==============================] - 2s 29ms/step - loss: 1.9289 - accuracy: 0.3602\n",
            "Epoch 9/40\n",
            "56/56 [==============================] - 2s 28ms/step - loss: 1.9291 - accuracy: 0.3511\n",
            "Epoch 10/40\n",
            "56/56 [==============================] - 2s 28ms/step - loss: 1.9179 - accuracy: 0.3687\n",
            "Epoch 11/40\n",
            "56/56 [==============================] - 2s 28ms/step - loss: 1.9225 - accuracy: 0.3590\n",
            "Epoch 12/40\n",
            "56/56 [==============================] - 2s 29ms/step - loss: 1.9160 - accuracy: 0.3573\n",
            "Epoch 13/40\n",
            "56/56 [==============================] - 2s 41ms/step - loss: 1.9056 - accuracy: 0.3636\n",
            "Epoch 14/40\n",
            "56/56 [==============================] - 2s 29ms/step - loss: 1.9380 - accuracy: 0.3517\n",
            "Epoch 15/40\n",
            "56/56 [==============================] - 2s 29ms/step - loss: 1.9151 - accuracy: 0.3545\n",
            "Epoch 16/40\n",
            "56/56 [==============================] - 2s 28ms/step - loss: 1.8789 - accuracy: 0.3727\n",
            "Epoch 17/40\n",
            "56/56 [==============================] - 2s 29ms/step - loss: 1.8949 - accuracy: 0.3721\n",
            "Epoch 18/40\n",
            "56/56 [==============================] - 2s 29ms/step - loss: 1.8815 - accuracy: 0.3670\n",
            "Epoch 19/40\n",
            "56/56 [==============================] - 2s 42ms/step - loss: 1.8818 - accuracy: 0.3715\n",
            "Epoch 20/40\n",
            "56/56 [==============================] - 2s 29ms/step - loss: 1.8911 - accuracy: 0.3602\n",
            "Epoch 21/40\n",
            "56/56 [==============================] - 2s 29ms/step - loss: 1.8689 - accuracy: 0.3607\n",
            "Epoch 22/40\n",
            "56/56 [==============================] - 2s 28ms/step - loss: 1.8605 - accuracy: 0.3789\n",
            "Epoch 23/40\n",
            "56/56 [==============================] - 2s 28ms/step - loss: 1.8752 - accuracy: 0.3613\n",
            "Epoch 24/40\n",
            "56/56 [==============================] - 2s 29ms/step - loss: 1.8751 - accuracy: 0.3698\n",
            "Epoch 25/40\n",
            "56/56 [==============================] - 2s 29ms/step - loss: 1.8907 - accuracy: 0.3710\n",
            "Epoch 26/40\n",
            "56/56 [==============================] - 3s 55ms/step - loss: 1.8782 - accuracy: 0.3727\n",
            "Epoch 27/40\n",
            "56/56 [==============================] - 2s 28ms/step - loss: 1.8623 - accuracy: 0.3800\n",
            "Epoch 28/40\n",
            "56/56 [==============================] - 2s 28ms/step - loss: 1.8540 - accuracy: 0.3755\n",
            "Epoch 29/40\n",
            "56/56 [==============================] - 2s 28ms/step - loss: 1.8609 - accuracy: 0.3749\n",
            "Epoch 30/40\n",
            "56/56 [==============================] - 2s 39ms/step - loss: 1.8451 - accuracy: 0.3840\n",
            "Epoch 31/40\n",
            "56/56 [==============================] - 2s 34ms/step - loss: 1.8600 - accuracy: 0.3738\n",
            "Epoch 32/40\n",
            "56/56 [==============================] - 2s 29ms/step - loss: 1.8622 - accuracy: 0.3715\n",
            "Epoch 33/40\n",
            "56/56 [==============================] - 2s 28ms/step - loss: 1.8382 - accuracy: 0.3795\n",
            "Epoch 34/40\n",
            "56/56 [==============================] - 2s 28ms/step - loss: 1.8403 - accuracy: 0.3766\n",
            "Epoch 35/40\n",
            "56/56 [==============================] - 2s 28ms/step - loss: 1.8413 - accuracy: 0.3812\n",
            "Epoch 36/40\n",
            "56/56 [==============================] - 2s 41ms/step - loss: 1.8448 - accuracy: 0.3738\n",
            "Epoch 37/40\n",
            "56/56 [==============================] - 2s 31ms/step - loss: 1.8441 - accuracy: 0.3766\n",
            "Epoch 38/40\n",
            "56/56 [==============================] - 2s 29ms/step - loss: 1.8251 - accuracy: 0.4050\n",
            "Epoch 39/40\n",
            "56/56 [==============================] - 2s 28ms/step - loss: 1.8260 - accuracy: 0.3897\n",
            "Epoch 40/40\n",
            "56/56 [==============================] - 2s 27ms/step - loss: 1.8457 - accuracy: 0.3840\n"
          ]
        }
      ],
      "source": [
        "history = model1f.fit(train_generator, epochs=40, verbose = 1)"
      ]
    },
    {
      "cell_type": "markdown",
      "metadata": {
        "id": "6VOcIXg0IvCs"
      },
      "source": [
        "#Matriks Konfusi"
      ]
    },
    {
      "cell_type": "code",
      "execution_count": 13,
      "metadata": {
        "colab": {
          "base_uri": "https://localhost:8080/",
          "height": 617
        },
        "id": "Lz5lA0bDIxJg",
        "outputId": "e4ea8852-c67c-4b7a-9a33-a914b59cb775"
      },
      "outputs": [
        {
          "output_type": "stream",
          "name": "stdout",
          "text": [
            "14/14 [==============================] - 1s 44ms/step\n"
          ]
        },
        {
          "output_type": "display_data",
          "data": {
            "text/plain": [
              "<Figure size 800x600 with 2 Axes>"
            ],
            "image/png": "[encoded data removed]"
          },
          "metadata": {}
        }
      ],
      "source": [
        "from sklearn.metrics import confusion_matrix, classification_report\n",
        "import seaborn as sns\n",
        "import matplotlib.pyplot as plt\n",
        "\n",
        "# Fungsi untuk mendapatkan prediksi model dan label sebenarnya\n",
        "def get_predictions_and_labels(model, data_generator):\n",
        "    predictions = model.predict(data_generator)\n",
        "    true_classes = data_generator.classes\n",
        "    return predictions, true_classes\n",
        "\n",
        "# Mendapatkan prediksi dan label sebenarnya untuk data uji\n",
        "y_pred_prob, y_true = get_predictions_and_labels(model1f, test_generator)\n",
        "y_pred = np.argmax(y_pred_prob, axis=1)\n",
        "\n",
        "# Membuat matriks konfusi\n",
        "cf_matrix = confusion_matrix(y_true, y_pred)\n",
        "\n",
        "# Membuat visualisasi matriks konfusi\n",
        "fig, ax = plt.subplots(figsize=(8, 6))\n",
        "sns.heatmap(cf_matrix, annot=True, fmt='g', cmap='Blues', ax=ax)\n",
        "\n",
        "# Menetapkan label dan judul\n",
        "ax.set_title('Confusion Matrix with labels')\n",
        "ax.set_xlabel('Predicted Values')\n",
        "ax.set_ylabel('Actual Values')\n",
        "\n",
        "class_labels = list(test_generator.class_indices.keys())\n",
        "\n",
        "# Menetapkan label pada sumbu x dan y sesuai dengan jenis kelas\n",
        "ax.xaxis.set_ticklabels(class_labels, rotation=45)\n",
        "ax.yaxis.set_ticklabels(class_labels, rotation=45)\n",
        "\n",
        "# Menampilkan visualisasi Matriks Konfusi\n",
        "plt.show()"
      ]
    },
    {
      "cell_type": "code",
      "execution_count": 14,
      "metadata": {
        "colab": {
          "base_uri": "https://localhost:8080/"
        },
        "id": "S7iwBJlGZEUM",
        "outputId": "ca5a59ca-c523-4f2d-c549-52803f017cb1"
      },
      "outputs": [
        {
          "output_type": "stream",
          "name": "stdout",
          "text": [
            "AUC ROC Score: 0.5347398945862338\n",
            "Accuracy: 0.25617977528089886\n"
          ]
        }
      ],
      "source": [
        "from sklearn.metrics import roc_auc_score\n",
        "from sklearn.metrics import accuracy_score\n",
        "\n",
        "y_pred = np.argmax(y_pred_prob, axis=1)\n",
        "\n",
        "auc_roc_score = roc_auc_score(y_true, y_pred_prob, multi_class='ovr')\n",
        "print(f\"AUC ROC Score: {auc_roc_score}\")\n",
        "accuracy = accuracy_score(y_true, y_pred)\n",
        "print(f\"Accuracy: {accuracy}\")"
      ]
    }
  ],
  "metadata": {
    "colab": {
      "provenance": [],
      "include_colab_link": true
    },
    "kernelspec": {
      "display_name": "Python 3",
      "name": "python3"
    },
    "language_info": {
      "name": "python"
    }
  },
  "nbformat": 4,
  "nbformat_minor": 0
}