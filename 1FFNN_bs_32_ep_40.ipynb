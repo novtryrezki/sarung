{
  "cells": [
    {
      "cell_type": "markdown",
      "metadata": {
        "id": "view-in-github",
        "colab_type": "text"
      },
      "source": [
        "<a href=\"https://colab.research.google.com/github/novtryrezki/sarung/blob/main/1FFNN_bs_32_ep_40.ipynb\" target=\"_parent\"><img src=\"https://colab.research.google.com/assets/colab-badge.svg\" alt=\"Open In Colab\"/></a>"
      ]
    },
    {
      "cell_type": "code",
      "execution_count": 1,
      "metadata": {
        "id": "Gj0QELQHjUVZ"
      },
      "outputs": [],
      "source": [
        "import os\n",
        "import zipfile\n",
        "import random\n",
        "import shutil\n",
        "import numpy as np\n",
        "import tensorflow as tf\n",
        "import pandas as pd\n",
        "from google.colab import drive\n",
        "from sklearn.model_selection import train_test_split"
      ]
    },
    {
      "cell_type": "code",
      "execution_count": 2,
      "metadata": {
        "colab": {
          "base_uri": "https://localhost:8080/"
        },
        "id": "HXtZwYwdjXH4",
        "outputId": "aa81f2fa-1cf0-4b03-dadc-2f974967d8e0"
      },
      "outputs": [
        {
          "output_type": "stream",
          "name": "stdout",
          "text": [
            "Mounted at /content/drive\n"
          ]
        }
      ],
      "source": [
        "# Melakukan mount pada Google Drive\n",
        "drive.mount('/content/drive')\n",
        "\n",
        "# Menentukan path file ZIP di Google Drive\n",
        "zip_path = '/content/drive/MyDrive/images.zip'\n",
        "\n",
        "# Membuat objek zip_ref\n",
        "zip_ref = zipfile.ZipFile(zip_path, 'r')\n",
        "\n",
        "# Mengekstrak file ZIP\n",
        "extract_path ='/content/images'\n",
        "zip_ref.extractall(extract_path)\n",
        "\n",
        "# Tutup objek zip_ref setelah selesai\n",
        "zip_ref.close()"
      ]
    },
    {
      "cell_type": "code",
      "execution_count": 3,
      "metadata": {
        "colab": {
          "base_uri": "https://localhost:8080/"
        },
        "id": "P9SpMwZxCMpv",
        "outputId": "aa87fa6b-3ca8-4cdc-8a34-230ae99d1bf8"
      },
      "outputs": [
        {
          "output_type": "stream",
          "name": "stdout",
          "text": [
            "Daftar Angka pada Dataset Train yaitu :  ['angka 0', 'angka 1', 'angka 2', 'angka 3', 'angka 4', 'angka 5', 'angka 6', 'angka 7', 'angka 8', 'angka 9']\n",
            "Daftar Angka pada Dataset Test yaitu :  ['angka 0', 'angka 1', 'angka 2', 'angka 3', 'angka 4', 'angka 5', 'angka 6', 'angka 7', 'angka 8', 'angka 9']\n"
          ]
        }
      ],
      "source": [
        "# Mendefinisikan path direktori dataset\n",
        "dataset_dir = os.path.join(extract_path, 'images')\n",
        "train_dir = os.path.join(dataset_dir, 'train')\n",
        "test_dir = os.path.join(dataset_dir, 'test')\n",
        "list_train = sorted(os.listdir(train_dir))\n",
        "list_test = sorted(os.listdir(test_dir))\n",
        "\n",
        "print(\"Daftar Angka pada Dataset Train yaitu : \", list_train)\n",
        "print(\"Daftar Angka pada Dataset Test yaitu : \", list_test)"
      ]
    },
    {
      "cell_type": "code",
      "execution_count": 4,
      "metadata": {
        "colab": {
          "base_uri": "https://localhost:8080/"
        },
        "id": "JycQg0kGCHHe",
        "outputId": "c015a036-407b-4cfc-92b0-9cd1f8ed42fa"
      },
      "outputs": [
        {
          "output_type": "stream",
          "name": "stdout",
          "text": [
            "Jumlah gambar di Dataset Train: 1763\n",
            "Jumlah gambar di Dataset Test: 445\n"
          ]
        }
      ],
      "source": [
        "def count_images(directory):\n",
        "    return sum(1 for file in os.listdir(directory) if file.endswith(('.jpg', '.jpeg', '.png', '.gif')))\n",
        "\n",
        "# Menghitung jumlah gambar di data train\n",
        "train_image_count = sum(count_images(os.path.join(train_dir, angka)) for angka in list_train)\n",
        "\n",
        "# Menghitung jumlah gambar di data test\n",
        "test_image_count = sum(count_images(os.path.join(test_dir, angka)) for angka in list_test)\n",
        "\n",
        "print(f\"Jumlah gambar di Dataset Train: {train_image_count}\")\n",
        "print(f\"Jumlah gambar di Dataset Test: {test_image_count}\")"
      ]
    },
    {
      "cell_type": "markdown",
      "metadata": {
        "id": "Cs-YBymEElj8"
      },
      "source": [
        "# Preprocessing"
      ]
    },
    {
      "cell_type": "code",
      "execution_count": 5,
      "metadata": {
        "id": "j-iPjxpXF_bf"
      },
      "outputs": [],
      "source": [
        "import cv2\n",
        "\n",
        "def resize_images(directory, target_resolution):\n",
        "    for angka in os.listdir(directory):\n",
        "        angka_dir = os.path.join(directory, angka)\n",
        "        for file_name in os.listdir(angka_dir):\n",
        "            file_path = os.path.join(angka_dir, file_name)\n",
        "            img = cv2.imread(file_path)\n",
        "            resized_img = cv2.resize(img, (target_resolution, target_resolution))\n",
        "            cv2.imwrite(file_path, resized_img)\n",
        "\n",
        "target_resolution = 256\n",
        "resize_images(train_dir, target_resolution)\n",
        "resize_images(test_dir, target_resolution)"
      ]
    },
    {
      "cell_type": "code",
      "execution_count": 6,
      "metadata": {
        "colab": {
          "base_uri": "https://localhost:8080/"
        },
        "id": "MrR6ROkiF9Uj",
        "outputId": "05949381-35b2-4366-c426-b73e3d379257"
      },
      "outputs": [
        {
          "output_type": "stream",
          "name": "stdout",
          "text": [
            "Found 1763 images belonging to 10 classes.\n",
            "Found 445 images belonging to 10 classes.\n"
          ]
        }
      ],
      "source": [
        "from tensorflow.keras.preprocessing.image import ImageDataGenerator\n",
        "\n",
        "# Membuat generator data dengan augmentasi\n",
        "image_size = (256, 256)\n",
        "batch_size = 32\n",
        "\n",
        "train_datagen = ImageDataGenerator(\n",
        "    rescale = 1./255,\n",
        "    rotation_range = 90,\n",
        "    width_shift_range = 0.2,\n",
        "    height_shift_range = 0.2,\n",
        "    zoom_range = 0.2,\n",
        ")\n",
        "\n",
        "test_datagen = ImageDataGenerator(\n",
        "    rescale=1./255,\n",
        ")\n",
        "\n",
        "train_generator = train_datagen.flow_from_directory(\n",
        "    train_dir,\n",
        "    target_size=image_size,\n",
        "    batch_size=batch_size,\n",
        "    class_mode='categorical',\n",
        "    color_mode='grayscale'\n",
        ")\n",
        "\n",
        "test_generator = test_datagen.flow_from_directory(\n",
        "    test_dir,\n",
        "    target_size=image_size,\n",
        "    batch_size=batch_size,\n",
        "    class_mode='categorical',\n",
        "    color_mode='grayscale'\n",
        ")"
      ]
    },
    {
      "cell_type": "markdown",
      "metadata": {
        "id": "gPqE7ywQJ01c"
      },
      "source": [
        "# Membuat Model CNN"
      ]
    },
    {
      "cell_type": "code",
      "execution_count": 7,
      "metadata": {
        "id": "SvNzs3QB71R6"
      },
      "outputs": [],
      "source": [
        "from tensorflow.keras.models import Sequential\n",
        "from tensorflow.keras.layers import Conv2D, AveragePooling2D, Flatten, Dense\n",
        "import math\n",
        "\n",
        "img_size = 256*256*1\n",
        "\n",
        "# Perhitungan jumlah neuron pada lapisan tersembunyi\n",
        "hidden_neurons = int(math.sqrt(img_size * batch_size))\n",
        "\n",
        "model1f = Sequential()\n",
        "model1f.add(Flatten(input_shape=(256, 256, 1)))\n",
        "model1f.add(Dense(hidden_neurons, activation='relu'))\n",
        "model1f.add(Dense(10, activation='softmax'))\n",
        "\n",
        "model1f.compile(optimizer='SGD', loss='categorical_crossentropy', metrics=['accuracy'])"
      ]
    },
    {
      "cell_type": "code",
      "execution_count": 8,
      "metadata": {
        "colab": {
          "base_uri": "https://localhost:8080/"
        },
        "id": "RfHd4NJznjOh",
        "outputId": "e9d10c17-f8e5-4916-a4dc-8366b25b5d04"
      },
      "outputs": [
        {
          "output_type": "stream",
          "name": "stdout",
          "text": [
            "Model: \"sequential\"\n",
            "_________________________________________________________________\n",
            " Layer (type)                Output Shape              Param #   \n",
            "=================================================================\n",
            " flatten (Flatten)           (None, 65536)             0         \n",
            "                                                                 \n",
            " dense (Dense)               (None, 1448)              94897576  \n",
            "                                                                 \n",
            " dense_1 (Dense)             (None, 10)                14490     \n",
            "                                                                 \n",
            "=================================================================\n",
            "Total params: 94912066 (362.06 MB)\n",
            "Trainable params: 94912066 (362.06 MB)\n",
            "Non-trainable params: 0 (0.00 Byte)\n",
            "_________________________________________________________________\n"
          ]
        }
      ],
      "source": [
        "model1f.summary()"
      ]
    },
    {
      "cell_type": "code",
      "execution_count": 9,
      "metadata": {
        "colab": {
          "base_uri": "https://localhost:8080/"
        },
        "id": "I_Klj8ReYASB",
        "outputId": "19d491a8-c36b-47aa-9064-5552628ce674"
      },
      "outputs": [
        {
          "output_type": "stream",
          "name": "stdout",
          "text": [
            "Epoch 1/40\n",
            "56/56 [==============================] - 54s 943ms/step - loss: 3.6254 - accuracy: 0.2581\n",
            "Epoch 2/40\n",
            "56/56 [==============================] - 47s 839ms/step - loss: 2.0545 - accuracy: 0.2915\n",
            "Epoch 3/40\n",
            "56/56 [==============================] - 49s 873ms/step - loss: 2.0252 - accuracy: 0.2933\n",
            "Epoch 4/40\n",
            "56/56 [==============================] - 48s 844ms/step - loss: 2.0329 - accuracy: 0.3001\n",
            "Epoch 5/40\n",
            "56/56 [==============================] - 48s 849ms/step - loss: 2.0023 - accuracy: 0.3137\n",
            "Epoch 6/40\n",
            "56/56 [==============================] - 57s 1s/step - loss: 2.0205 - accuracy: 0.3307\n",
            "Epoch 7/40\n",
            "56/56 [==============================] - 45s 800ms/step - loss: 2.0192 - accuracy: 0.3216\n",
            "Epoch 8/40\n",
            "56/56 [==============================] - 47s 824ms/step - loss: 1.9772 - accuracy: 0.3432\n",
            "Epoch 9/40\n",
            "56/56 [==============================] - 46s 814ms/step - loss: 1.9755 - accuracy: 0.3296\n",
            "Epoch 10/40\n",
            "56/56 [==============================] - 45s 799ms/step - loss: 1.9701 - accuracy: 0.3324\n",
            "Epoch 11/40\n",
            "56/56 [==============================] - 47s 831ms/step - loss: 1.9603 - accuracy: 0.3369\n",
            "Epoch 12/40\n",
            "56/56 [==============================] - 45s 795ms/step - loss: 1.9530 - accuracy: 0.3477\n",
            "Epoch 13/40\n",
            "56/56 [==============================] - 45s 797ms/step - loss: 1.9541 - accuracy: 0.3386\n",
            "Epoch 14/40\n",
            "56/56 [==============================] - 46s 808ms/step - loss: 1.9415 - accuracy: 0.3454\n",
            "Epoch 15/40\n",
            "56/56 [==============================] - 46s 803ms/step - loss: 1.9394 - accuracy: 0.3483\n",
            "Epoch 16/40\n",
            "56/56 [==============================] - 45s 791ms/step - loss: 1.9691 - accuracy: 0.3369\n",
            "Epoch 17/40\n",
            "56/56 [==============================] - 46s 810ms/step - loss: 1.9845 - accuracy: 0.3341\n",
            "Epoch 18/40\n",
            "56/56 [==============================] - 46s 810ms/step - loss: 1.9439 - accuracy: 0.3392\n",
            "Epoch 19/40\n",
            "56/56 [==============================] - 45s 799ms/step - loss: 1.9265 - accuracy: 0.3517\n",
            "Epoch 20/40\n",
            "56/56 [==============================] - 45s 808ms/step - loss: 1.9116 - accuracy: 0.3505\n",
            "Epoch 21/40\n",
            "56/56 [==============================] - 46s 823ms/step - loss: 1.9513 - accuracy: 0.3437\n",
            "Epoch 22/40\n",
            "56/56 [==============================] - 45s 801ms/step - loss: 1.9106 - accuracy: 0.3630\n",
            "Epoch 23/40\n",
            "56/56 [==============================] - 45s 802ms/step - loss: 1.9118 - accuracy: 0.3494\n",
            "Epoch 24/40\n",
            "56/56 [==============================] - 49s 871ms/step - loss: 1.9000 - accuracy: 0.3607\n",
            "Epoch 25/40\n",
            "56/56 [==============================] - 45s 801ms/step - loss: 1.9019 - accuracy: 0.3613\n",
            "Epoch 26/40\n",
            "56/56 [==============================] - 45s 799ms/step - loss: 1.8927 - accuracy: 0.3596\n",
            "Epoch 27/40\n",
            "56/56 [==============================] - 46s 813ms/step - loss: 1.8863 - accuracy: 0.3517\n",
            "Epoch 28/40\n",
            "56/56 [==============================] - 45s 800ms/step - loss: 1.8755 - accuracy: 0.3647\n",
            "Epoch 29/40\n",
            "56/56 [==============================] - 45s 797ms/step - loss: 1.9399 - accuracy: 0.3398\n",
            "Epoch 30/40\n",
            "56/56 [==============================] - 45s 797ms/step - loss: 1.8750 - accuracy: 0.3607\n",
            "Epoch 31/40\n",
            "56/56 [==============================] - 47s 819ms/step - loss: 1.8852 - accuracy: 0.3698\n",
            "Epoch 32/40\n",
            "56/56 [==============================] - 45s 803ms/step - loss: 1.9222 - accuracy: 0.3681\n",
            "Epoch 33/40\n",
            "56/56 [==============================] - 45s 802ms/step - loss: 1.9339 - accuracy: 0.3500\n",
            "Epoch 34/40\n",
            "56/56 [==============================] - 46s 820ms/step - loss: 1.9168 - accuracy: 0.3636\n",
            "Epoch 35/40\n",
            "56/56 [==============================] - 45s 806ms/step - loss: 1.8666 - accuracy: 0.3579\n",
            "Epoch 36/40\n",
            "56/56 [==============================] - 45s 800ms/step - loss: 1.8858 - accuracy: 0.3551\n",
            "Epoch 37/40\n",
            "56/56 [==============================] - 45s 799ms/step - loss: 1.8573 - accuracy: 0.3840\n",
            "Epoch 38/40\n",
            "56/56 [==============================] - 46s 805ms/step - loss: 1.8661 - accuracy: 0.3800\n",
            "Epoch 39/40\n",
            "56/56 [==============================] - 45s 804ms/step - loss: 1.8545 - accuracy: 0.3704\n",
            "Epoch 40/40\n",
            "56/56 [==============================] - 45s 807ms/step - loss: 1.8601 - accuracy: 0.3783\n"
          ]
        }
      ],
      "source": [
        "history = model1f.fit(train_generator, epochs=40, verbose = 1)"
      ]
    },
    {
      "cell_type": "markdown",
      "metadata": {
        "id": "6VOcIXg0IvCs"
      },
      "source": [
        "#Matriks Konfusi"
      ]
    },
    {
      "cell_type": "code",
      "execution_count": 22,
      "metadata": {
        "colab": {
          "base_uri": "https://localhost:8080/",
          "height": 617
        },
        "id": "Lz5lA0bDIxJg",
        "outputId": "9c30f471-b988-42f0-9eec-cab5f4cba121"
      },
      "outputs": [
        {
          "output_type": "stream",
          "name": "stdout",
          "text": [
            "14/14 [==============================] - 3s 223ms/step\n"
          ]
        },
        {
          "output_type": "display_data",
          "data": {
            "text/plain": [
              "<Figure size 800x600 with 2 Axes>"
            ],
            "image/png": "[encoded data removed]"
          },
          "metadata": {}
        }
      ],
      "source": [
        "from sklearn.metrics import confusion_matrix, classification_report\n",
        "import seaborn as sns\n",
        "import matplotlib.pyplot as plt\n",
        "\n",
        "# Fungsi untuk mendapatkan prediksi model dan label sebenarnya\n",
        "def get_predictions_and_labels(model, data_generator):\n",
        "    predictions = model.predict(data_generator)\n",
        "    predicted_classes = np.argmax(predictions, axis=1)\n",
        "    true_classes = data_generator.classes\n",
        "    class_labels = list(data_generator.class_indices.keys())\n",
        "    return predicted_classes, true_classes, class_labels\n",
        "\n",
        "# Mendapatkan prediksi dan label sebenarnya untuk data uji\n",
        "y_pred, y_true, class_labels = get_predictions_and_labels(model1f, test_generator)\n",
        "\n",
        "# Membuat matriks konfusi\n",
        "cf_matrix = confusion_matrix(y_true, y_pred)\n",
        "\n",
        "# Membuat visualisasi matriks konfusi\n",
        "fig, ax = plt.subplots(figsize=(8, 6))\n",
        "sns.heatmap(cf_matrix, annot=True, fmt='g', cmap='Blues', ax=ax)\n",
        "\n",
        "# Menetapkan label dan judul\n",
        "ax.set_title('Confusion Matrix with labels')\n",
        "ax.set_xlabel('Predicted Values')\n",
        "ax.set_ylabel('Actual Values')\n",
        "\n",
        "# Menetapkan label pada sumbu x dan y sesuai dengan jenis kelas\n",
        "ax.xaxis.set_ticklabels(class_labels, rotation=45)\n",
        "ax.yaxis.set_ticklabels(class_labels, rotation=45)\n",
        "\n",
        "# Menampilkan visualisasi Matriks Konfusi\n",
        "plt.show()"
      ]
    },
    {
      "cell_type": "code",
      "execution_count": 23,
      "metadata": {
        "colab": {
          "base_uri": "https://localhost:8080/"
        },
        "id": "S7iwBJlGZEUM",
        "outputId": "c5871363-9ac8-4a0e-96cc-85749946e141"
      },
      "outputs": [
        {
          "output_type": "stream",
          "name": "stdout",
          "text": [
            "Test Accuracy: 0.2876404494382023\n"
          ]
        }
      ],
      "source": [
        "from sklearn.metrics import accuracy_score\n",
        "\n",
        "test_accuracy = accuracy_score(y_true, y_pred)\n",
        "print(f\"Test Accuracy: {test_accuracy}\")"
      ]
    }
  ],
  "metadata": {
    "colab": {
      "provenance": [],
      "include_colab_link": true
    },
    "kernelspec": {
      "display_name": "Python 3",
      "name": "python3"
    },
    "language_info": {
      "name": "python"
    }
  },
  "nbformat": 4,
  "nbformat_minor": 0
}