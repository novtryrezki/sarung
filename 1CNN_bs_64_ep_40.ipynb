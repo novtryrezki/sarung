{
  "cells": [
    {
      "cell_type": "markdown",
      "metadata": {
        "id": "view-in-github",
        "colab_type": "text"
      },
      "source": [
        "<a href=\"https://colab.research.google.com/github/novtryrezki/sarung/blob/main/1CNN_bs_64_ep_40.ipynb\" target=\"_parent\"><img src=\"https://colab.research.google.com/assets/colab-badge.svg\" alt=\"Open In Colab\"/></a>"
      ]
    },
    {
      "cell_type": "code",
      "execution_count": 1,
      "metadata": {
        "id": "Gj0QELQHjUVZ"
      },
      "outputs": [],
      "source": [
        "import os\n",
        "import zipfile\n",
        "import random\n",
        "import shutil\n",
        "import numpy as np\n",
        "import tensorflow as tf\n",
        "import pandas as pd\n",
        "from google.colab import drive\n",
        "from sklearn.model_selection import train_test_split"
      ]
    },
    {
      "cell_type": "code",
      "execution_count": 2,
      "metadata": {
        "colab": {
          "base_uri": "https://localhost:8080/"
        },
        "id": "HXtZwYwdjXH4",
        "outputId": "b1070ee9-5f0b-4db1-fbce-15cda0421b0e"
      },
      "outputs": [
        {
          "output_type": "stream",
          "name": "stdout",
          "text": [
            "Mounted at /content/drive\n"
          ]
        }
      ],
      "source": [
        "# Melakukan mount pada Google Drive\n",
        "drive.mount('/content/drive')\n",
        "\n",
        "# Menentukan path file ZIP di Google Drive\n",
        "zip_path = '/content/drive/MyDrive/images.zip'\n",
        "\n",
        "# Membuat objek zip_ref\n",
        "zip_ref = zipfile.ZipFile(zip_path, 'r')\n",
        "\n",
        "# Mengekstrak file ZIP\n",
        "extract_path ='/content/images'\n",
        "zip_ref.extractall(extract_path)\n",
        "\n",
        "# Tutup objek zip_ref setelah selesai\n",
        "zip_ref.close()"
      ]
    },
    {
      "cell_type": "code",
      "execution_count": 3,
      "metadata": {
        "colab": {
          "base_uri": "https://localhost:8080/"
        },
        "id": "P9SpMwZxCMpv",
        "outputId": "1c5be9d7-4270-4bf2-db48-8c894874f9e1"
      },
      "outputs": [
        {
          "output_type": "stream",
          "name": "stdout",
          "text": [
            "Daftar Angka pada Dataset Train yaitu :  ['angka 0', 'angka 1', 'angka 2', 'angka 3', 'angka 4', 'angka 5', 'angka 6', 'angka 7', 'angka 8', 'angka 9']\n",
            "Daftar Angka pada Dataset Test yaitu :  ['angka 0', 'angka 1', 'angka 2', 'angka 3', 'angka 4', 'angka 5', 'angka 6', 'angka 7', 'angka 8', 'angka 9']\n"
          ]
        }
      ],
      "source": [
        "# Mendefinisikan path direktori dataset\n",
        "dataset_dir = os.path.join(extract_path, 'images')\n",
        "train_dir = os.path.join(dataset_dir, 'train')\n",
        "test_dir = os.path.join(dataset_dir, 'test')\n",
        "list_train = sorted(os.listdir(train_dir))\n",
        "list_test = sorted(os.listdir(test_dir))\n",
        "\n",
        "print(\"Daftar Angka pada Dataset Train yaitu : \", list_train)\n",
        "print(\"Daftar Angka pada Dataset Test yaitu : \", list_test)"
      ]
    },
    {
      "cell_type": "code",
      "execution_count": 4,
      "metadata": {
        "colab": {
          "base_uri": "https://localhost:8080/"
        },
        "id": "JycQg0kGCHHe",
        "outputId": "838aacff-0bac-4fa7-c85e-c9cc2d0e9e95"
      },
      "outputs": [
        {
          "output_type": "stream",
          "name": "stdout",
          "text": [
            "Jumlah gambar di Dataset Train: 1763\n",
            "Jumlah gambar di Dataset Test: 445\n"
          ]
        }
      ],
      "source": [
        "def count_images(directory):\n",
        "    return sum(1 for file in os.listdir(directory) if file.endswith(('.jpg', '.jpeg', '.png', '.gif')))\n",
        "\n",
        "# Menghitung jumlah gambar di data train\n",
        "train_image_count = sum(count_images(os.path.join(train_dir, angka)) for angka in list_train)\n",
        "\n",
        "# Menghitung jumlah gambar di data test\n",
        "test_image_count = sum(count_images(os.path.join(test_dir, angka)) for angka in list_test)\n",
        "\n",
        "print(f\"Jumlah gambar di Dataset Train: {train_image_count}\")\n",
        "print(f\"Jumlah gambar di Dataset Test: {test_image_count}\")"
      ]
    },
    {
      "cell_type": "markdown",
      "metadata": {
        "id": "Cs-YBymEElj8"
      },
      "source": [
        "# Preprocessing"
      ]
    },
    {
      "cell_type": "code",
      "execution_count": 5,
      "metadata": {
        "id": "j-iPjxpXF_bf"
      },
      "outputs": [],
      "source": [
        "import cv2\n",
        "\n",
        "def resize_images(directory, target_resolution):\n",
        "    for angka in os.listdir(directory):\n",
        "        angka_dir = os.path.join(directory, angka)\n",
        "        for file_name in os.listdir(angka_dir):\n",
        "            file_path = os.path.join(angka_dir, file_name)\n",
        "            img = cv2.imread(file_path)\n",
        "            resized_img = cv2.resize(img, (target_resolution, target_resolution))\n",
        "            cv2.imwrite(file_path, resized_img)\n",
        "\n",
        "target_resolution = 256\n",
        "resize_images(train_dir, target_resolution)\n",
        "resize_images(test_dir, target_resolution)"
      ]
    },
    {
      "cell_type": "code",
      "execution_count": 7,
      "metadata": {
        "colab": {
          "base_uri": "https://localhost:8080/"
        },
        "id": "MrR6ROkiF9Uj",
        "outputId": "a8520c0f-4015-49ed-f9e5-4944e6567528"
      },
      "outputs": [
        {
          "output_type": "stream",
          "name": "stdout",
          "text": [
            "Found 1763 images belonging to 10 classes.\n",
            "Found 445 images belonging to 10 classes.\n"
          ]
        }
      ],
      "source": [
        "from tensorflow.keras.preprocessing.image import ImageDataGenerator\n",
        "\n",
        "# Membuat generator data dengan augmentasi\n",
        "image_size = (256, 256)\n",
        "batch_size = 64\n",
        "\n",
        "train_datagen = ImageDataGenerator(\n",
        "    rescale = 1./255,\n",
        "    rotation_range = 90,\n",
        "    width_shift_range = 0.2,\n",
        "    height_shift_range = 0.2,\n",
        "    zoom_range = 0.2,\n",
        ")\n",
        "\n",
        "test_datagen = ImageDataGenerator(\n",
        "    rescale=1./255,\n",
        ")\n",
        "\n",
        "train_generator = train_datagen.flow_from_directory(\n",
        "    train_dir,\n",
        "    target_size=image_size,\n",
        "    batch_size=batch_size,\n",
        "    class_mode='categorical',\n",
        "    color_mode='grayscale'\n",
        ")\n",
        "\n",
        "test_generator = test_datagen.flow_from_directory(\n",
        "    test_dir,\n",
        "    target_size=image_size,\n",
        "    batch_size=batch_size,\n",
        "    class_mode='categorical',\n",
        "    color_mode='grayscale'\n",
        ")"
      ]
    },
    {
      "cell_type": "markdown",
      "metadata": {
        "id": "gPqE7ywQJ01c"
      },
      "source": [
        "# Membuat Model CNN"
      ]
    },
    {
      "cell_type": "code",
      "execution_count": 8,
      "metadata": {
        "id": "SvNzs3QB71R6"
      },
      "outputs": [],
      "source": [
        "from tensorflow.keras.models import Sequential\n",
        "from tensorflow.keras.layers import Conv2D, AveragePooling2D, Flatten, Dense\n",
        "import math\n",
        "\n",
        "img_size = 256*256*1\n",
        "\n",
        "# Perhitungan jumlah neuron pada lapisan tersembunyi\n",
        "hidden_neurons = int(math.sqrt(img_size * 10))\n",
        "\n",
        "model1c = Sequential()\n",
        "model1c.add(Conv2D(32, (3, 3), input_shape=(256, 256, 1)))\n",
        "model1c.add(AveragePooling2D((2, 2)))\n",
        "model1c.add(Conv2D(64, (3, 3), activation='relu'))\n",
        "model1c.add(AveragePooling2D((2, 2)))\n",
        "model1c.add(Flatten())\n",
        "model1c.add(Dense(hidden_neurons, activation='relu'))\n",
        "model1c.add(Dense(10, activation='softmax'))\n",
        "\n",
        "model1c.compile(optimizer='SGD', loss='categorical_crossentropy', metrics=['accuracy'])"
      ]
    },
    {
      "cell_type": "code",
      "execution_count": 11,
      "metadata": {
        "colab": {
          "base_uri": "https://localhost:8080/"
        },
        "id": "RfHd4NJznjOh",
        "outputId": "8e8e68ee-8f60-4bce-dca3-fe116e883866"
      },
      "outputs": [
        {
          "output_type": "stream",
          "name": "stdout",
          "text": [
            "Model: \"sequential\"\n",
            "_________________________________________________________________\n",
            " Layer (type)                Output Shape              Param #   \n",
            "=================================================================\n",
            " conv2d (Conv2D)             (None, 254, 254, 32)      320       \n",
            "                                                                 \n",
            " average_pooling2d (Average  (None, 127, 127, 32)      0         \n",
            " Pooling2D)                                                      \n",
            "                                                                 \n",
            " conv2d_1 (Conv2D)           (None, 125, 125, 64)      18496     \n",
            "                                                                 \n",
            " average_pooling2d_1 (Avera  (None, 62, 62, 64)        0         \n",
            " gePooling2D)                                                    \n",
            "                                                                 \n",
            " flatten (Flatten)           (None, 246016)            0         \n",
            "                                                                 \n",
            " dense (Dense)               (None, 809)               199027753 \n",
            "                                                                 \n",
            " dense_1 (Dense)             (None, 10)                8100      \n",
            "                                                                 \n",
            "=================================================================\n",
            "Total params: 199054669 (759.33 MB)\n",
            "Trainable params: 199054669 (759.33 MB)\n",
            "Non-trainable params: 0 (0.00 Byte)\n",
            "_________________________________________________________________\n"
          ]
        }
      ],
      "source": [
        "model1c.summary()"
      ]
    },
    {
      "cell_type": "code",
      "execution_count": 12,
      "metadata": {
        "colab": {
          "base_uri": "https://localhost:8080/"
        },
        "id": "I_Klj8ReYASB",
        "outputId": "0c4c2591-7669-41b9-888a-87ccefa47797"
      },
      "outputs": [
        {
          "output_type": "stream",
          "name": "stdout",
          "text": [
            "Epoch 1/40\n",
            "28/28 [==============================] - 250s 9s/step - loss: 2.0405 - accuracy: 0.2723\n",
            "Epoch 2/40\n",
            "28/28 [==============================] - 236s 8s/step - loss: 2.0023 - accuracy: 0.3279\n",
            "Epoch 3/40\n",
            "28/28 [==============================] - 221s 8s/step - loss: 1.9902 - accuracy: 0.3358\n",
            "Epoch 4/40\n",
            "28/28 [==============================] - 223s 8s/step - loss: 1.9829 - accuracy: 0.3352\n",
            "Epoch 5/40\n",
            "28/28 [==============================] - 223s 8s/step - loss: 1.9402 - accuracy: 0.3636\n",
            "Epoch 6/40\n",
            "28/28 [==============================] - 213s 8s/step - loss: 1.9256 - accuracy: 0.3596\n",
            "Epoch 7/40\n",
            "28/28 [==============================] - 228s 8s/step - loss: 1.9276 - accuracy: 0.3500\n",
            "Epoch 8/40\n",
            "28/28 [==============================] - 211s 8s/step - loss: 1.9270 - accuracy: 0.3449\n",
            "Epoch 9/40\n",
            "28/28 [==============================] - 212s 8s/step - loss: 1.9192 - accuracy: 0.3579\n",
            "Epoch 10/40\n",
            "28/28 [==============================] - 221s 8s/step - loss: 1.9245 - accuracy: 0.3505\n",
            "Epoch 11/40\n",
            "28/28 [==============================] - 212s 8s/step - loss: 1.9050 - accuracy: 0.3630\n",
            "Epoch 12/40\n",
            "28/28 [==============================] - 220s 8s/step - loss: 1.8976 - accuracy: 0.3545\n",
            "Epoch 13/40\n",
            "28/28 [==============================] - 209s 7s/step - loss: 1.9030 - accuracy: 0.3522\n",
            "Epoch 14/40\n",
            "28/28 [==============================] - 208s 7s/step - loss: 1.8677 - accuracy: 0.3727\n",
            "Epoch 15/40\n",
            "28/28 [==============================] - 218s 8s/step - loss: 1.8584 - accuracy: 0.3749\n",
            "Epoch 16/40\n",
            "28/28 [==============================] - 210s 7s/step - loss: 1.8676 - accuracy: 0.3704\n",
            "Epoch 17/40\n",
            "28/28 [==============================] - 215s 8s/step - loss: 1.8460 - accuracy: 0.3721\n",
            "Epoch 18/40\n",
            "28/28 [==============================] - 210s 7s/step - loss: 1.8461 - accuracy: 0.3732\n",
            "Epoch 19/40\n",
            "28/28 [==============================] - 208s 7s/step - loss: 1.8163 - accuracy: 0.3812\n",
            "Epoch 20/40\n",
            "28/28 [==============================] - 210s 7s/step - loss: 1.8326 - accuracy: 0.3795\n",
            "Epoch 21/40\n",
            "28/28 [==============================] - 206s 7s/step - loss: 1.8154 - accuracy: 0.3908\n",
            "Epoch 22/40\n",
            "28/28 [==============================] - 218s 8s/step - loss: 1.8174 - accuracy: 0.3806\n",
            "Epoch 23/40\n",
            "28/28 [==============================] - 210s 7s/step - loss: 1.8110 - accuracy: 0.3766\n",
            "Epoch 24/40\n",
            "28/28 [==============================] - 212s 8s/step - loss: 1.7813 - accuracy: 0.4073\n",
            "Epoch 25/40\n",
            "28/28 [==============================] - 217s 8s/step - loss: 1.8025 - accuracy: 0.3919\n",
            "Epoch 26/40\n",
            "28/28 [==============================] - 210s 7s/step - loss: 1.7731 - accuracy: 0.4107\n",
            "Epoch 27/40\n",
            "28/28 [==============================] - 208s 7s/step - loss: 1.7466 - accuracy: 0.4067\n",
            "Epoch 28/40\n",
            "28/28 [==============================] - 209s 7s/step - loss: 1.7395 - accuracy: 0.4214\n",
            "Epoch 29/40\n",
            "28/28 [==============================] - 209s 7s/step - loss: 1.7506 - accuracy: 0.4192\n",
            "Epoch 30/40\n",
            "28/28 [==============================] - 217s 8s/step - loss: 1.7085 - accuracy: 0.4209\n",
            "Epoch 31/40\n",
            "28/28 [==============================] - 210s 7s/step - loss: 1.7213 - accuracy: 0.4214\n",
            "Epoch 32/40\n",
            "28/28 [==============================] - 211s 7s/step - loss: 1.7016 - accuracy: 0.4407\n",
            "Epoch 33/40\n",
            "28/28 [==============================] - 211s 7s/step - loss: 1.6960 - accuracy: 0.4436\n",
            "Epoch 34/40\n",
            "28/28 [==============================] - 212s 8s/step - loss: 1.6775 - accuracy: 0.4492\n",
            "Epoch 35/40\n",
            "28/28 [==============================] - 210s 7s/step - loss: 1.6589 - accuracy: 0.4492\n",
            "Epoch 36/40\n",
            "28/28 [==============================] - 209s 7s/step - loss: 1.6409 - accuracy: 0.4549\n",
            "Epoch 37/40\n",
            "28/28 [==============================] - 208s 7s/step - loss: 1.6570 - accuracy: 0.4623\n",
            "Epoch 38/40\n",
            "28/28 [==============================] - 209s 7s/step - loss: 1.6176 - accuracy: 0.4821\n",
            "Epoch 39/40\n",
            "28/28 [==============================] - 209s 7s/step - loss: 1.5679 - accuracy: 0.4844\n",
            "Epoch 40/40\n",
            "28/28 [==============================] - 210s 7s/step - loss: 1.6000 - accuracy: 0.4850\n"
          ]
        }
      ],
      "source": [
        "history = model1c.fit(train_generator, epochs=40, verbose = 1)"
      ]
    },
    {
      "cell_type": "markdown",
      "metadata": {
        "id": "6VOcIXg0IvCs"
      },
      "source": [
        "#Matriks Konfusi"
      ]
    },
    {
      "cell_type": "code",
      "execution_count": 19,
      "metadata": {
        "colab": {
          "base_uri": "https://localhost:8080/",
          "height": 617
        },
        "id": "Lz5lA0bDIxJg",
        "outputId": "6a3495a3-f37f-47d6-e8c2-3f7283d8deb1"
      },
      "outputs": [
        {
          "output_type": "stream",
          "name": "stdout",
          "text": [
            "7/7 [==============================] - 15s 2s/step\n"
          ]
        },
        {
          "output_type": "display_data",
          "data": {
            "text/plain": [
              "<Figure size 800x600 with 2 Axes>"
            ],
            "image/png": "[encoded data removed]"
          },
          "metadata": {}
        }
      ],
      "source": [
        "from sklearn.metrics import confusion_matrix, classification_report\n",
        "import seaborn as sns\n",
        "import matplotlib.pyplot as plt\n",
        "\n",
        "# Fungsi untuk mendapatkan prediksi model dan label sebenarnya\n",
        "def get_predictions_and_labels(model, data_generator):\n",
        "    predictions = model.predict(data_generator)\n",
        "    predicted_classes = np.argmax(predictions, axis=1)\n",
        "    true_classes = data_generator.classes\n",
        "    class_labels = list(data_generator.class_indices.keys())\n",
        "    return predicted_classes, true_classes, class_labels\n",
        "\n",
        "# Mendapatkan prediksi dan label sebenarnya untuk data uji\n",
        "y_pred, y_true, class_labels = get_predictions_and_labels(model1c, test_generator)\n",
        "\n",
        "# Membuat matriks konfusi\n",
        "cf_matrix = confusion_matrix(y_true, y_pred)\n",
        "\n",
        "# Membuat visualisasi matriks konfusi\n",
        "fig, ax = plt.subplots(figsize=(8, 6))\n",
        "sns.heatmap(cf_matrix, annot=True, fmt='g', cmap='Blues', ax=ax)\n",
        "\n",
        "# Menetapkan label dan judul\n",
        "ax.set_title('Confusion Matrix with labels')\n",
        "ax.set_xlabel('Predicted Values')\n",
        "ax.set_ylabel('Actual Values')\n",
        "\n",
        "# Menetapkan label pada sumbu x dan y sesuai dengan jenis kelas\n",
        "ax.xaxis.set_ticklabels(class_labels, rotation=45)\n",
        "ax.yaxis.set_ticklabels(class_labels, rotation=45)\n",
        "\n",
        "# Menampilkan visualisasi Matriks Konfusi\n",
        "plt.show()"
      ]
    },
    {
      "cell_type": "code",
      "execution_count": 20,
      "metadata": {
        "colab": {
          "base_uri": "https://localhost:8080/"
        },
        "id": "S7iwBJlGZEUM",
        "outputId": "8c38202a-6d93-433e-ad20-941878666d12"
      },
      "outputs": [
        {
          "output_type": "stream",
          "name": "stdout",
          "text": [
            "Test Accuracy: 0.24269662921348314\n"
          ]
        }
      ],
      "source": [
        "from sklearn.metrics import accuracy_score\n",
        "\n",
        "test_accuracy = accuracy_score(y_true, y_pred)\n",
        "print(f\"Test Accuracy: {test_accuracy}\")"
      ]
    }
  ],
  "metadata": {
    "colab": {
      "provenance": [],
      "include_colab_link": true
    },
    "kernelspec": {
      "display_name": "Python 3",
      "name": "python3"
    },
    "language_info": {
      "name": "python"
    }
  },
  "nbformat": 4,
  "nbformat_minor": 0
}