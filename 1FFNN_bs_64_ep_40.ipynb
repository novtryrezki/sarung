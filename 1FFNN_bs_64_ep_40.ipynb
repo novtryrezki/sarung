{
  "cells": [
    {
      "cell_type": "markdown",
      "metadata": {
        "id": "view-in-github",
        "colab_type": "text"
      },
      "source": [
        "<a href=\"https://colab.research.google.com/github/novtryrezki/sarung/blob/main/1FFNN_bs_64_ep_40.ipynb\" target=\"_parent\"><img src=\"https://colab.research.google.com/assets/colab-badge.svg\" alt=\"Open In Colab\"/></a>"
      ]
    },
    {
      "cell_type": "code",
      "execution_count": 1,
      "metadata": {
        "id": "Gj0QELQHjUVZ"
      },
      "outputs": [],
      "source": [
        "import os\n",
        "import zipfile\n",
        "import random\n",
        "import shutil\n",
        "import numpy as np\n",
        "import tensorflow as tf\n",
        "import pandas as pd\n",
        "from google.colab import drive\n",
        "from sklearn.model_selection import train_test_split"
      ]
    },
    {
      "cell_type": "code",
      "execution_count": 2,
      "metadata": {
        "colab": {
          "base_uri": "https://localhost:8080/"
        },
        "id": "HXtZwYwdjXH4",
        "outputId": "d16bda64-561a-46c5-a601-0341898852cf"
      },
      "outputs": [
        {
          "output_type": "stream",
          "name": "stdout",
          "text": [
            "Mounted at /content/drive\n"
          ]
        }
      ],
      "source": [
        "# Melakukan mount pada Google Drive\n",
        "drive.mount('/content/drive')\n",
        "\n",
        "# Menentukan path file ZIP di Google Drive\n",
        "zip_path = '/content/drive/MyDrive/images.zip'\n",
        "\n",
        "# Membuat objek zip_ref\n",
        "zip_ref = zipfile.ZipFile(zip_path, 'r')\n",
        "\n",
        "# Mengekstrak file ZIP\n",
        "extract_path ='/content/images'\n",
        "zip_ref.extractall(extract_path)\n",
        "\n",
        "# Tutup objek zip_ref setelah selesai\n",
        "zip_ref.close()"
      ]
    },
    {
      "cell_type": "code",
      "execution_count": 3,
      "metadata": {
        "colab": {
          "base_uri": "https://localhost:8080/"
        },
        "id": "P9SpMwZxCMpv",
        "outputId": "18aaaf40-64e7-4a80-e87e-eb58826fadbb"
      },
      "outputs": [
        {
          "output_type": "stream",
          "name": "stdout",
          "text": [
            "Daftar Angka pada Dataset Train yaitu :  ['angka 0', 'angka 1', 'angka 2', 'angka 3', 'angka 4', 'angka 5', 'angka 6', 'angka 7', 'angka 8', 'angka 9']\n",
            "Daftar Angka pada Dataset Test yaitu :  ['angka 0', 'angka 1', 'angka 2', 'angka 3', 'angka 4', 'angka 5', 'angka 6', 'angka 7', 'angka 8', 'angka 9']\n"
          ]
        }
      ],
      "source": [
        "# Mendefinisikan path direktori dataset\n",
        "dataset_dir = os.path.join(extract_path, 'images')\n",
        "train_dir = os.path.join(dataset_dir, 'train')\n",
        "test_dir = os.path.join(dataset_dir, 'test')\n",
        "list_train = sorted(os.listdir(train_dir))\n",
        "list_test = sorted(os.listdir(test_dir))\n",
        "\n",
        "print(\"Daftar Angka pada Dataset Train yaitu : \", list_train)\n",
        "print(\"Daftar Angka pada Dataset Test yaitu : \", list_test)"
      ]
    },
    {
      "cell_type": "code",
      "execution_count": 4,
      "metadata": {
        "colab": {
          "base_uri": "https://localhost:8080/"
        },
        "id": "JycQg0kGCHHe",
        "outputId": "34f1bcb5-83a5-44cc-d2a1-6987448226cf"
      },
      "outputs": [
        {
          "output_type": "stream",
          "name": "stdout",
          "text": [
            "Jumlah gambar di Dataset Train: 1763\n",
            "Jumlah gambar di Dataset Test: 445\n"
          ]
        }
      ],
      "source": [
        "def count_images(directory):\n",
        "    return sum(1 for file in os.listdir(directory) if file.endswith(('.jpg', '.jpeg', '.png', '.gif')))\n",
        "\n",
        "# Menghitung jumlah gambar di data train\n",
        "train_image_count = sum(count_images(os.path.join(train_dir, angka)) for angka in list_train)\n",
        "\n",
        "# Menghitung jumlah gambar di data test\n",
        "test_image_count = sum(count_images(os.path.join(test_dir, angka)) for angka in list_test)\n",
        "\n",
        "print(f\"Jumlah gambar di Dataset Train: {train_image_count}\")\n",
        "print(f\"Jumlah gambar di Dataset Test: {test_image_count}\")"
      ]
    },
    {
      "cell_type": "markdown",
      "metadata": {
        "id": "Cs-YBymEElj8"
      },
      "source": [
        "# Preprocessing"
      ]
    },
    {
      "cell_type": "code",
      "execution_count": 5,
      "metadata": {
        "id": "j-iPjxpXF_bf"
      },
      "outputs": [],
      "source": [
        "import cv2\n",
        "\n",
        "def resize_images(directory, target_resolution):\n",
        "    for angka in os.listdir(directory):\n",
        "        angka_dir = os.path.join(directory, angka)\n",
        "        for file_name in os.listdir(angka_dir):\n",
        "            file_path = os.path.join(angka_dir, file_name)\n",
        "            img = cv2.imread(file_path)\n",
        "            resized_img = cv2.resize(img, (target_resolution, target_resolution))\n",
        "            cv2.imwrite(file_path, resized_img)\n",
        "\n",
        "target_resolution = 256\n",
        "resize_images(train_dir, target_resolution)\n",
        "resize_images(test_dir, target_resolution)"
      ]
    },
    {
      "cell_type": "code",
      "execution_count": 6,
      "metadata": {
        "colab": {
          "base_uri": "https://localhost:8080/"
        },
        "id": "MrR6ROkiF9Uj",
        "outputId": "58a8135d-8024-4b59-c8aa-e898c7ad919f"
      },
      "outputs": [
        {
          "output_type": "stream",
          "name": "stdout",
          "text": [
            "Found 1763 images belonging to 10 classes.\n",
            "Found 445 images belonging to 10 classes.\n"
          ]
        }
      ],
      "source": [
        "from tensorflow.keras.preprocessing.image import ImageDataGenerator\n",
        "\n",
        "# Membuat generator data dengan augmentasi\n",
        "image_size = (256, 256)\n",
        "batch_size = 64\n",
        "\n",
        "train_datagen = ImageDataGenerator(\n",
        "    rescale = 1./255,\n",
        "    rotation_range = 90,\n",
        "    width_shift_range = 0.2,\n",
        "    height_shift_range = 0.2,\n",
        "    zoom_range = 0.2,\n",
        ")\n",
        "\n",
        "test_datagen = ImageDataGenerator(\n",
        "    rescale=1./255,\n",
        ")\n",
        "\n",
        "train_generator = train_datagen.flow_from_directory(\n",
        "    train_dir,\n",
        "    target_size=image_size,\n",
        "    batch_size=batch_size,\n",
        "    class_mode='categorical',\n",
        "    color_mode='grayscale'\n",
        ")\n",
        "\n",
        "test_generator = test_datagen.flow_from_directory(\n",
        "    test_dir,\n",
        "    target_size=image_size,\n",
        "    batch_size=batch_size,\n",
        "    class_mode='categorical',\n",
        "    color_mode='grayscale'\n",
        ")"
      ]
    },
    {
      "cell_type": "markdown",
      "metadata": {
        "id": "gPqE7ywQJ01c"
      },
      "source": [
        "# Membuat Model CNN"
      ]
    },
    {
      "cell_type": "code",
      "execution_count": 7,
      "metadata": {
        "id": "SvNzs3QB71R6"
      },
      "outputs": [],
      "source": [
        "from tensorflow.keras.models import Sequential\n",
        "from tensorflow.keras.layers import Conv2D, AveragePooling2D, Flatten, Dense\n",
        "import math\n",
        "\n",
        "img_size = 256*256*1\n",
        "\n",
        "# Perhitungan jumlah neuron pada lapisan tersembunyi\n",
        "hidden_neurons = int(math.sqrt(img_size * batch_size))\n",
        "\n",
        "model1f = Sequential()\n",
        "model1f.add(Flatten(input_shape=(256, 256, 1)))\n",
        "model1f.add(Dense(hidden_neurons, activation='relu'))\n",
        "model1f.add(Dense(10, activation='softmax'))\n",
        "\n",
        "model1f.compile(optimizer='SGD', loss='categorical_crossentropy', metrics=['accuracy'])"
      ]
    },
    {
      "cell_type": "code",
      "execution_count": 8,
      "metadata": {
        "colab": {
          "base_uri": "https://localhost:8080/"
        },
        "id": "RfHd4NJznjOh",
        "outputId": "d540fe73-4375-48b6-e3ef-e1e3c361ad15"
      },
      "outputs": [
        {
          "output_type": "stream",
          "name": "stdout",
          "text": [
            "Model: \"sequential\"\n",
            "_________________________________________________________________\n",
            " Layer (type)                Output Shape              Param #   \n",
            "=================================================================\n",
            " flatten (Flatten)           (None, 65536)             0         \n",
            "                                                                 \n",
            " dense (Dense)               (None, 2048)              134219776 \n",
            "                                                                 \n",
            " dense_1 (Dense)             (None, 10)                20490     \n",
            "                                                                 \n",
            "=================================================================\n",
            "Total params: 134240266 (512.09 MB)\n",
            "Trainable params: 134240266 (512.09 MB)\n",
            "Non-trainable params: 0 (0.00 Byte)\n",
            "_________________________________________________________________\n"
          ]
        }
      ],
      "source": [
        "model1f.summary()"
      ]
    },
    {
      "cell_type": "code",
      "execution_count": 9,
      "metadata": {
        "colab": {
          "base_uri": "https://localhost:8080/"
        },
        "id": "I_Klj8ReYASB",
        "outputId": "215a6dca-9fde-467f-800b-f2bd691bf014"
      },
      "outputs": [
        {
          "output_type": "stream",
          "name": "stdout",
          "text": [
            "Epoch 1/40\n",
            "28/28 [==============================] - 43s 1s/step - loss: 4.3659 - accuracy: 0.2501\n",
            "Epoch 2/40\n",
            "28/28 [==============================] - 42s 1s/step - loss: 2.0450 - accuracy: 0.2677\n",
            "Epoch 3/40\n",
            "28/28 [==============================] - 42s 1s/step - loss: 2.0311 - accuracy: 0.2961\n",
            "Epoch 4/40\n",
            "28/28 [==============================] - 41s 1s/step - loss: 2.0102 - accuracy: 0.3012\n",
            "Epoch 5/40\n",
            "28/28 [==============================] - 40s 1s/step - loss: 1.9995 - accuracy: 0.3256\n",
            "Epoch 6/40\n",
            "28/28 [==============================] - 40s 1s/step - loss: 2.0371 - accuracy: 0.2864\n",
            "Epoch 7/40\n",
            "28/28 [==============================] - 41s 1s/step - loss: 1.9783 - accuracy: 0.3324\n",
            "Epoch 8/40\n",
            "28/28 [==============================] - 41s 1s/step - loss: 1.9882 - accuracy: 0.3159\n",
            "Epoch 9/40\n",
            "28/28 [==============================] - 45s 2s/step - loss: 1.9611 - accuracy: 0.3386\n",
            "Epoch 10/40\n",
            "28/28 [==============================] - 42s 1s/step - loss: 1.9579 - accuracy: 0.3324\n",
            "Epoch 11/40\n",
            "28/28 [==============================] - 42s 1s/step - loss: 2.0032 - accuracy: 0.3233\n",
            "Epoch 12/40\n",
            "28/28 [==============================] - 42s 1s/step - loss: 1.9582 - accuracy: 0.3426\n",
            "Epoch 13/40\n",
            "28/28 [==============================] - 42s 1s/step - loss: 1.9427 - accuracy: 0.3324\n",
            "Epoch 14/40\n",
            "28/28 [==============================] - 42s 1s/step - loss: 1.9364 - accuracy: 0.3500\n",
            "Epoch 15/40\n",
            "28/28 [==============================] - 42s 1s/step - loss: 1.9277 - accuracy: 0.3545\n",
            "Epoch 16/40\n",
            "28/28 [==============================] - 42s 1s/step - loss: 1.9257 - accuracy: 0.3466\n",
            "Epoch 17/40\n",
            "28/28 [==============================] - 53s 2s/step - loss: 1.9382 - accuracy: 0.3443\n",
            "Epoch 18/40\n",
            "28/28 [==============================] - 42s 1s/step - loss: 1.9315 - accuracy: 0.3426\n",
            "Epoch 19/40\n",
            "28/28 [==============================] - 42s 1s/step - loss: 1.9070 - accuracy: 0.3477\n",
            "Epoch 20/40\n",
            "28/28 [==============================] - 42s 1s/step - loss: 1.9143 - accuracy: 0.3483\n",
            "Epoch 21/40\n",
            "28/28 [==============================] - 42s 1s/step - loss: 1.9047 - accuracy: 0.3477\n",
            "Epoch 22/40\n",
            "28/28 [==============================] - 42s 1s/step - loss: 1.8788 - accuracy: 0.3585\n",
            "Epoch 23/40\n",
            "28/28 [==============================] - 42s 1s/step - loss: 1.8634 - accuracy: 0.3681\n",
            "Epoch 24/40\n",
            "28/28 [==============================] - 42s 1s/step - loss: 1.8828 - accuracy: 0.3642\n",
            "Epoch 25/40\n",
            "28/28 [==============================] - 42s 1s/step - loss: 1.8940 - accuracy: 0.3551\n",
            "Epoch 26/40\n",
            "28/28 [==============================] - 52s 2s/step - loss: 1.8667 - accuracy: 0.3704\n",
            "Epoch 27/40\n",
            "28/28 [==============================] - 42s 1s/step - loss: 1.8675 - accuracy: 0.3636\n",
            "Epoch 28/40\n",
            "28/28 [==============================] - 42s 1s/step - loss: 1.8776 - accuracy: 0.3676\n",
            "Epoch 29/40\n",
            "28/28 [==============================] - 42s 1s/step - loss: 1.8440 - accuracy: 0.3783\n",
            "Epoch 30/40\n",
            "28/28 [==============================] - 42s 1s/step - loss: 1.8890 - accuracy: 0.3579\n",
            "Epoch 31/40\n",
            "28/28 [==============================] - 43s 1s/step - loss: 1.8386 - accuracy: 0.3732\n",
            "Epoch 32/40\n",
            "28/28 [==============================] - 42s 1s/step - loss: 1.8398 - accuracy: 0.3772\n",
            "Epoch 33/40\n",
            "28/28 [==============================] - 42s 1s/step - loss: 1.8193 - accuracy: 0.3863\n",
            "Epoch 34/40\n",
            "28/28 [==============================] - 42s 1s/step - loss: 1.8677 - accuracy: 0.3642\n",
            "Epoch 35/40\n",
            "28/28 [==============================] - 42s 1s/step - loss: 1.8188 - accuracy: 0.3772\n",
            "Epoch 36/40\n",
            "28/28 [==============================] - 52s 2s/step - loss: 1.8016 - accuracy: 0.3874\n",
            "Epoch 37/40\n",
            "28/28 [==============================] - 42s 1s/step - loss: 1.8057 - accuracy: 0.3976\n",
            "Epoch 38/40\n",
            "28/28 [==============================] - 42s 1s/step - loss: 1.8193 - accuracy: 0.3908\n",
            "Epoch 39/40\n",
            "28/28 [==============================] - 43s 2s/step - loss: 1.8360 - accuracy: 0.3840\n",
            "Epoch 40/40\n",
            "28/28 [==============================] - 42s 1s/step - loss: 1.7932 - accuracy: 0.3971\n"
          ]
        }
      ],
      "source": [
        "history = model1f.fit(train_generator, epochs=40, verbose = 1)"
      ]
    },
    {
      "cell_type": "markdown",
      "metadata": {
        "id": "6VOcIXg0IvCs"
      },
      "source": [
        "#Matriks Konfusi"
      ]
    },
    {
      "cell_type": "code",
      "execution_count": 16,
      "metadata": {
        "colab": {
          "base_uri": "https://localhost:8080/",
          "height": 617
        },
        "id": "Lz5lA0bDIxJg",
        "outputId": "b0b46909-d336-4dff-e60f-74defc18a838"
      },
      "outputs": [
        {
          "output_type": "stream",
          "name": "stdout",
          "text": [
            "7/7 [==============================] - 3s 383ms/step\n"
          ]
        },
        {
          "output_type": "display_data",
          "data": {
            "text/plain": [
              "<Figure size 800x600 with 2 Axes>"
            ],
            "image/png": "[encoded data removed]"
          },
          "metadata": {}
        }
      ],
      "source": [
        "from sklearn.metrics import confusion_matrix, classification_report\n",
        "import seaborn as sns\n",
        "import matplotlib.pyplot as plt\n",
        "\n",
        "# Fungsi untuk mendapatkan prediksi model dan label sebenarnya\n",
        "def get_predictions_and_labels(model, data_generator):\n",
        "    predictions = model.predict(data_generator)\n",
        "    predicted_classes = np.argmax(predictions, axis=1)\n",
        "    true_classes = data_generator.classes\n",
        "    class_labels = list(data_generator.class_indices.keys())\n",
        "    return predicted_classes, true_classes, class_labels\n",
        "\n",
        "# Mendapatkan prediksi dan label sebenarnya untuk data uji\n",
        "y_pred, y_true, class_labels = get_predictions_and_labels(model1f, test_generator)\n",
        "\n",
        "# Membuat matriks konfusi\n",
        "cf_matrix = confusion_matrix(y_true, y_pred)\n",
        "\n",
        "# Membuat visualisasi matriks konfusi\n",
        "fig, ax = plt.subplots(figsize=(8, 6))\n",
        "sns.heatmap(cf_matrix, annot=True, fmt='g', cmap='Blues', ax=ax)\n",
        "\n",
        "# Menetapkan label dan judul\n",
        "ax.set_title('Confusion Matrix with labels')\n",
        "ax.set_xlabel('Predicted Values')\n",
        "ax.set_ylabel('Actual Values')\n",
        "\n",
        "# Menetapkan label pada sumbu x dan y sesuai dengan jenis kelas\n",
        "ax.xaxis.set_ticklabels(class_labels, rotation=45)\n",
        "ax.yaxis.set_ticklabels(class_labels, rotation=45)\n",
        "\n",
        "# Menampilkan visualisasi Matriks Konfusi\n",
        "plt.show()"
      ]
    },
    {
      "cell_type": "code",
      "execution_count": 17,
      "metadata": {
        "colab": {
          "base_uri": "https://localhost:8080/"
        },
        "id": "S7iwBJlGZEUM",
        "outputId": "7e265cf2-4e40-4c38-a617-a87a3b42f0f6"
      },
      "outputs": [
        {
          "output_type": "stream",
          "name": "stdout",
          "text": [
            "Test Accuracy: 0.2651685393258427\n"
          ]
        }
      ],
      "source": [
        "from sklearn.metrics import accuracy_score\n",
        "\n",
        "test_accuracy = accuracy_score(y_true, y_pred)\n",
        "print(f\"Test Accuracy: {test_accuracy}\")"
      ]
    }
  ],
  "metadata": {
    "colab": {
      "provenance": [],
      "include_colab_link": true
    },
    "kernelspec": {
      "display_name": "Python 3",
      "name": "python3"
    },
    "language_info": {
      "name": "python"
    }
  },
  "nbformat": 4,
  "nbformat_minor": 0
}